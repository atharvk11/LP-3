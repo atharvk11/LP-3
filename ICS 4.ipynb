{
 "cells": [
  {
   "cell_type": "code",
   "execution_count": 90,
   "id": "54607cff",
   "metadata": {},
   "outputs": [],
   "source": [
    "import random\n",
    "import math"
   ]
  },
  {
   "cell_type": "code",
   "execution_count": 91,
   "id": "708a7967",
   "metadata": {},
   "outputs": [],
   "source": [
    "def gcd(a,b):\n",
    "    if b == 0:\n",
    "        return a;\n",
    "   \n",
    "    return gcd(b,a%b)"
   ]
  },
  {
   "cell_type": "code",
   "execution_count": 115,
   "id": "88fd6bcf",
   "metadata": {},
   "outputs": [],
   "source": [
    "def encrypt(plaintext,public_key):\n",
    "    e,n = public_key\n",
    "    ct = [pow(ord(w),e)%n  for w in plaintext]\n",
    "    return ct\n",
    "        \n",
    "def decrypt(ciphertext,private_key):\n",
    "    d,n = private_key\n",
    "    pt = [chr(pow(w,d,n)) for w in ciphertext]\n",
    "#     pt = [chr(x)  for x in aux]\n",
    "    return ''.join(pt)\n",
    "\n",
    "def generateKeys(p,q):\n",
    "    n=p*q\n",
    "    phi=(p-1)*(q-1)\n",
    "    e = random.randrange(0,phi)\n",
    "    \n",
    "    while gcd(phi,e)!=1:\n",
    "        e = random.randrange(0,phi) \n",
    "    \n",
    "    k=2\n",
    "    d=0\n",
    "    while True:\n",
    "        temp = (k*phi+1)/e\n",
    "        if math.floor(temp)==temp:\n",
    "            d=temp\n",
    "            break\n",
    "        else :\n",
    "            k+=1\n",
    "    \n",
    "    return ((e,n),(int(d),n))\n",
    "    "
   ]
  },
  {
   "cell_type": "code",
   "execution_count": 118,
   "id": "4579363a",
   "metadata": {},
   "outputs": [
    {
     "name": "stdout",
     "output_type": "stream",
     "text": [
      "Enter First prime number :23\n",
      "Enter Second prime number :37\n",
      "Enter your message to encrypt :atharvk11\n",
      "Encrypted message is:  6682931766321312490404404\n",
      "Decrypted message is:  atharvk11\n"
     ]
    }
   ],
   "source": [
    "p = int(input('Enter First prime number :'))\n",
    "q = int(input('Enter Second prime number :'))\n",
    "# p,q = 17,23\n",
    "public_key,private_key = generateKeys(p,q)\n",
    "\n",
    "message = input('Enter your message to encrypt :')\n",
    "\n",
    "ciphertext = encrypt(message,public_key)\n",
    "\n",
    "print(\"Encrypted message is: \", ''.join(map(lambda x: str(x), ciphertext)))\n",
    "\n",
    "print(\"Decrypted message is: \",decrypt(ciphertext,private_key))\n"
   ]
  },
  {
   "cell_type": "code",
   "execution_count": null,
   "id": "02d48745",
   "metadata": {},
   "outputs": [],
   "source": []
  },
  {
   "cell_type": "code",
   "execution_count": null,
   "id": "7f613d51",
   "metadata": {},
   "outputs": [],
   "source": []
  }
 ],
 "metadata": {
  "kernelspec": {
   "display_name": "Python 3",
   "language": "python",
   "name": "python3"
  },
  "language_info": {
   "codemirror_mode": {
    "name": "ipython",
    "version": 3
   },
   "file_extension": ".py",
   "mimetype": "text/x-python",
   "name": "python",
   "nbconvert_exporter": "python",
   "pygments_lexer": "ipython3",
   "version": "3.6.13"
  }
 },
 "nbformat": 4,
 "nbformat_minor": 5
}
