{
 "cells": [
  {
   "cell_type": "code",
   "execution_count": 2,
   "id": "908962eb",
   "metadata": {},
   "outputs": [],
   "source": [
    "import math\n",
    "import numpy as np"
   ]
  },
  {
   "cell_type": "code",
   "execution_count": 20,
   "id": "b559fafc",
   "metadata": {},
   "outputs": [],
   "source": [
    "x = [[2,4],[4,2],[4,6],[6,4],[4,4],[6,2]]\n",
    "y = [\"Orange\",\"Orange\",\"Orange\",\"Orange\",\"Blue\",\"Blue\"]\n",
    "test = [[6,6]]"
   ]
  },
  {
   "cell_type": "code",
   "execution_count": 60,
   "id": "3e8b4321",
   "metadata": {},
   "outputs": [],
   "source": [
    "class KNN:\n",
    "    def __init__(self,k,type=\"auto\") :\n",
    "        self.k=k\n",
    "        self.x=[]\n",
    "        self.y=[]\n",
    "        self.type=type\n",
    "        \n",
    "    def fit(self,x,y):\n",
    "        self.x, self.y = x,y\n",
    "        \n",
    "    def distance(self,p1,p2):\n",
    "        dis = 0\n",
    "        \n",
    "        for i in range(len(p1)):\n",
    "            dis+=(p1[i]-p2[i])**2\n",
    "        return np.sqrt(dis)\n",
    "    \n",
    "    def auto_knn(self,distances):\n",
    "        return max(distances,key=lambda x:x[1])[1]\n",
    "    \n",
    "    def weighted_knn(self,test,distances,local=False) :\n",
    "        frequency = {}\n",
    "        weights = {}\n",
    "        \n",
    "        for dis in distances :\n",
    "            weights[dis[1]] = weights.get(dis[1],0.0) + float(1/dis[0])\n",
    "            frequency[dis[1]] = frequency.get(dis[1],0.0) + 1\n",
    "            \n",
    "        if local==True:\n",
    "            for w in weights:\n",
    "                weights[w]/=frequency[w]\n",
    "                \n",
    "        print('Weights : ',weights)\n",
    "        print('Frequency : ',frequency)\n",
    "                \n",
    "                \n",
    "        return max(weights,key=lambda x:x[1])\n",
    "    \n",
    "    def predict(self,tests):\n",
    "        results = []\n",
    "        \n",
    "        for test in tests:\n",
    "            distances = []\n",
    "            \n",
    "            for i in range(len(x)):\n",
    "                distances.append([self.distance(x[i],test),y[i]])\n",
    "            \n",
    "            distances.sort(key= lambda x:x[0])\n",
    "            \n",
    "            distances = distances[:self.k]\n",
    "            \n",
    "            print('K Nearest neighbours : ',distances)\n",
    "            \n",
    "            if(self.type==\"auto\") :\n",
    "                results.append(self.auto_knn(distances))\n",
    "            \n",
    "            if(self.type==\"distance_weighted\") :\n",
    "                results.append(self.weighted_knn(test,distances))\n",
    "                \n",
    "            if(self.type==\"locally_weighted_averaging\") :\n",
    "                results.append(self.weighted_knn(test,distances,local=True))\n",
    "            \n",
    "        return results"
   ]
  },
  {
   "cell_type": "code",
   "execution_count": 61,
   "id": "1ed3f4c3",
   "metadata": {},
   "outputs": [
    {
     "name": "stdout",
     "output_type": "stream",
     "text": [
      "K Nearest neighbours :  [[2.0, 'Orange'], [2.0, 'Orange'], [2.8284271247461903, 'Blue']]\n"
     ]
    },
    {
     "data": {
      "text/plain": [
       "['Orange']"
      ]
     },
     "execution_count": 61,
     "metadata": {},
     "output_type": "execute_result"
    }
   ],
   "source": [
    "model = KNN(3)\n",
    "model.fit(x,y)\n",
    "model.predict(test)"
   ]
  },
  {
   "cell_type": "code",
   "execution_count": 63,
   "id": "ccedd330",
   "metadata": {},
   "outputs": [
    {
     "name": "stdout",
     "output_type": "stream",
     "text": [
      "K Nearest neighbours :  [[2.0, 'Orange'], [2.0, 'Orange'], [2.8284271247461903, 'Blue']]\n",
      "Weights :  {'Orange': 1.0, 'Blue': 0.35355339059327373}\n",
      "Frequency :  {'Orange': 2.0, 'Blue': 1.0}\n"
     ]
    },
    {
     "data": {
      "text/plain": [
       "['Orange']"
      ]
     },
     "execution_count": 63,
     "metadata": {},
     "output_type": "execute_result"
    }
   ],
   "source": [
    "model = KNN(3,'distance_weighted')\n",
    "model.fit(x,y)\n",
    "model.predict(test)"
   ]
  },
  {
   "cell_type": "code",
   "execution_count": 64,
   "id": "ee5b6377",
   "metadata": {},
   "outputs": [
    {
     "name": "stdout",
     "output_type": "stream",
     "text": [
      "K Nearest neighbours :  [[2.0, 'Orange'], [2.0, 'Orange'], [2.8284271247461903, 'Blue']]\n",
      "Weights :  {'Orange': 0.5, 'Blue': 0.35355339059327373}\n",
      "Frequency :  {'Orange': 2.0, 'Blue': 1.0}\n"
     ]
    },
    {
     "data": {
      "text/plain": [
       "['Orange']"
      ]
     },
     "execution_count": 64,
     "metadata": {},
     "output_type": "execute_result"
    }
   ],
   "source": [
    "model = KNN(3,'locally_weighted_averaging')\n",
    "model.fit(x,y)\n",
    "model.predict(test)"
   ]
  },
  {
   "cell_type": "code",
   "execution_count": null,
   "id": "0dac549f",
   "metadata": {},
   "outputs": [],
   "source": []
  }
 ],
 "metadata": {
  "kernelspec": {
   "display_name": "Python 3",
   "language": "python",
   "name": "python3"
  },
  "language_info": {
   "codemirror_mode": {
    "name": "ipython",
    "version": 3
   },
   "file_extension": ".py",
   "mimetype": "text/x-python",
   "name": "python",
   "nbconvert_exporter": "python",
   "pygments_lexer": "ipython3",
   "version": "3.6.13"
  }
 },
 "nbformat": 4,
 "nbformat_minor": 5
}
