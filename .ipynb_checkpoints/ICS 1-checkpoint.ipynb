{
 "cells": [
  {
   "cell_type": "code",
   "execution_count": 22,
   "id": "ee9a6c85",
   "metadata": {},
   "outputs": [],
   "source": [
    "FIXED_IP = [2, 6, 3, 1, 4, 8, 5, 7]\n",
    "FIXED_EP = [4, 1, 2, 3, 2, 3, 4, 1]\n",
    "FIXED_IP_INVERSE = [4, 1, 3, 5, 7, 2, 8, 6]\n",
    "FIXED_P10 = [3, 5, 2, 7, 4, 10, 1, 9, 8, 6]\n",
    "FIXED_P8 = [6, 3, 7, 4, 8, 5, 10, 9]\n",
    "FIXED_P4 = [2, 4, 3, 1]\n",
    "\n",
    "S0 = [[1, 0, 3, 2],\n",
    "      [3, 2, 1, 0],\n",
    "      [0, 2, 1, 3],\n",
    "      [3, 1, 3, 2]]\n",
    "\n",
    "S1 = [[0, 1, 2, 3],\n",
    "      [2, 0, 1, 3],\n",
    "      [3, 0, 1, 0],\n",
    "      [2, 1, 0, 3]]\n",
    "\n",
    "KEY = '0111111101'"
   ]
  },
  {
   "cell_type": "code",
   "execution_count": 76,
   "id": "b209a7c2",
   "metadata": {},
   "outputs": [],
   "source": [
    "def permutation(bits,fixed_key):\n",
    "    new = ''\n",
    "    for k in fixed_key:\n",
    "        new+=bits[k-1]\n",
    "    return new\n",
    "\n",
    "def left_half(bits):\n",
    "    return bits[:int(len(bits)/2)]\n",
    "\n",
    "def right_half(bits):\n",
    "    return bits[int(len(bits)/2):]\n",
    "\n",
    "def shift(bits):\n",
    "    left = left_half(bits)[1:] + left_half(bits)[0]\n",
    "    right = right_half(bits)[1:] + right_half(bits)[0]\n",
    "    return left+right\n",
    "\n",
    "def key1():\n",
    "    return permutation(shift(permutation(KEY,FIXED_P10)),FIXED_P8)\n",
    "\n",
    "def key2():\n",
    "    return permutation(shift(shift(shift(permutation(KEY,FIXED_P10)))),FIXED_P8)\n",
    "\n",
    "def xor(bits,key):\n",
    "    new = ''\n",
    "    for i in range(len(bits)):\n",
    "        new+= str(int(bits[i]) ^ int(key[i]))\n",
    "    return new\n",
    "\n",
    "def lookup_table(bits,table) :\n",
    "    row = int(bits[0]+bits[3],2)\n",
    "    col = int(bits[1]+bits[2],2)\n",
    "    return '{0:02b}'.format(table[row][col])\n",
    "\n",
    "def fk(bits,key):\n",
    "    L = left_half(bits)\n",
    "    R = right_half(bits)\n",
    "    bits = permutation(R,FIXED_EP)\n",
    "    bits = xor(bits,key)\n",
    "    bits = lookup_table(left_half(bits),S0) + lookup_table(right_half(bits),S1)\n",
    "    bits = permutation(bits,FIXED_P4)\n",
    "    return xor(bits,L)\n",
    "    \n",
    "def encrypt(msg):\n",
    "    bits = permutation(msg,FIXED_IP)\n",
    "    temp = fk(bits,key1())\n",
    "    bits = right_half(bits) + temp\n",
    "    bits = fk(bits,key2())\n",
    "    return permutation(bits+temp,FIXED_IP_INVERSE)\n",
    "    \n",
    "    \n",
    "def decrypt(ciphertext):\n",
    "    bits = permutation(ciphertext,FIXED_IP)\n",
    "    temp = fk(bits,key2())\n",
    "    bits = right_half(bits) + temp\n",
    "    bits = fk(bits,key1())\n",
    "    return permutation(bits+temp,FIXED_IP_INVERSE)\n",
    "    "
   ]
  },
  {
   "cell_type": "code",
   "execution_count": 77,
   "id": "f9b67573",
   "metadata": {},
   "outputs": [
    {
     "name": "stdout",
     "output_type": "stream",
     "text": [
      "Encrypted text is  10100010\n",
      "Decrypted text is  11101010\n"
     ]
    }
   ],
   "source": [
    "msg = '11101010'\n",
    "ciphertext = encrypt(msg)\n",
    "\n",
    "print('Encrypted text is ',ciphertext)\n",
    "\n",
    "decrypted = decrypt(ciphertext)\n",
    "print('Decrypted text is ',decrypted)"
   ]
  },
  {
   "cell_type": "code",
   "execution_count": null,
   "id": "d292ae32",
   "metadata": {},
   "outputs": [],
   "source": []
  },
  {
   "cell_type": "code",
   "execution_count": null,
   "id": "08a05884",
   "metadata": {},
   "outputs": [],
   "source": []
  }
 ],
 "metadata": {
  "kernelspec": {
   "display_name": "Python 3",
   "language": "python",
   "name": "python3"
  },
  "language_info": {
   "codemirror_mode": {
    "name": "ipython",
    "version": 3
   },
   "file_extension": ".py",
   "mimetype": "text/x-python",
   "name": "python",
   "nbconvert_exporter": "python",
   "pygments_lexer": "ipython3",
   "version": "3.6.13"
  }
 },
 "nbformat": 4,
 "nbformat_minor": 5
}
