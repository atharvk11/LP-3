{
  "nbformat": 4,
  "nbformat_minor": 0,
  "metadata": {
    "colab": {
      "name": "LP3",
      "provenance": [],
      "collapsed_sections": [
        "3S-5u1bouurw",
        "T5rMzpyY1FI8",
        "AI6xv2GM1YkE",
        "cAk4tB7-7NjB",
        "0VnoAjwv4Y2v",
        "TLzS4fvY4T1Y",
        "Xf5dq6K4X8vO",
        "avoy5j0hFG9Q",
        "PHzpUZc2VeP5",
        "uCNin_f1cliv",
        "Ak9TVDlScou8",
        "WYpezy6rguhI",
        "GaDYqjw6llPn",
        "XiJZTdzMF1qP",
        "OhzGHnu5rhM8",
        "czVjaFe3rf_5",
        "pKRQncKguB7P"
      ]
    },
    "kernelspec": {
      "name": "python3",
      "display_name": "Python 3"
    },
    "language_info": {
      "name": "python"
    }
  },
  "cells": [
    {
      "cell_type": "markdown",
      "source": [
        "# **LINEAR REGRESSION**"
      ],
      "metadata": {
        "id": "3S-5u1bouurw"
      }
    },
    {
      "cell_type": "code",
      "source": [
        "import numpy as np\n",
        "import matplotlib.pyplot as plt \n",
        "import seaborn as sns\n",
        "sns.set(rc = {'figure.figsize':(8,8)})"
      ],
      "metadata": {
        "id": "6e0Js5TqvHH-"
      },
      "execution_count": 1,
      "outputs": []
    },
    {
      "cell_type": "code",
      "execution_count": 2,
      "metadata": {
        "id": "b3c6H0_Yt2e5"
      },
      "outputs": [],
      "source": [
        "data = [\n",
        "        (10, 95),\n",
        "        (9, 80),\n",
        "        (2, 10),\n",
        "        (15, 50),\n",
        "        (10, 45),\n",
        "        (16, 98),\n",
        "        (11, 38),\n",
        "        (16, 93),\n",
        "]"
      ]
    },
    {
      "cell_type": "code",
      "source": [
        "x = [pt[0] for pt in data]\n",
        "y = [pt[1] for pt in data]"
      ],
      "metadata": {
        "id": "_pndBBY3vIzr"
      },
      "execution_count": 3,
      "outputs": []
    },
    {
      "cell_type": "markdown",
      "source": [
        "## **ORIGINAL PLOT**"
      ],
      "metadata": {
        "id": "jVaA3zbxvpQP"
      }
    },
    {
      "cell_type": "code",
      "source": [
        "sns.scatterplot(x=x, y=y, s=100)"
      ],
      "metadata": {
        "colab": {
          "base_uri": "https://localhost:8080/",
          "height": 285
        },
        "id": "I9WMHS7JvnAl",
        "outputId": "b3878d5f-eb9b-4449-ae50-454eec93aae8"
      },
      "execution_count": 7,
      "outputs": [
        {
          "output_type": "execute_result",
          "data": {
            "text/plain": [
              "<matplotlib.axes._subplots.AxesSubplot at 0x7fd892cc6250>"
            ]
          },
          "metadata": {},
          "execution_count": 7
        },
        {
          "output_type": "display_data",
          "data": {
            "text/plain": [
              "<Figure size 432x288 with 1 Axes>"
            ],
            "image/png": "[encoded data removed]"
          },
          "metadata": {
            "needs_background": "light"
          }
        }
      ]
    },
    {
      "cell_type": "markdown",
      "source": [
        "## **LINE PARAMETER GENERATION**"
      ],
      "metadata": {
        "id": "95_InLSzv2e6"
      }
    },
    {
      "cell_type": "code",
      "source": [
        "n = len(x)\n",
        "xx = [a * a for a in x]\n",
        "xy = [x[i] * y[i] for i in range(n)]"
      ],
      "metadata": {
        "id": "nuk3_bKfvber"
      },
      "execution_count": 8,
      "outputs": []
    },
    {
      "cell_type": "code",
      "source": [
        "sum_x = np.sum(x)\n",
        "sum_y = np.sum(y)\n",
        "sum_xx = np.sum(xx)\n",
        "sum_xy = np.sum(xy)"
      ],
      "metadata": {
        "id": "RDhfyJaFvbhA"
      },
      "execution_count": 9,
      "outputs": []
    },
    {
      "cell_type": "code",
      "source": [
        "m = (n * sum_xy - sum_x * sum_y) / (n * sum_xx - sum_x * sum_x)"
      ],
      "metadata": {
        "id": "3uQfaDN9vbjn"
      },
      "execution_count": 10,
      "outputs": []
    },
    {
      "cell_type": "code",
      "source": [
        "b = (sum_y - m * sum_x) / n"
      ],
      "metadata": {
        "id": "17KyRBrfvbnP"
      },
      "execution_count": 11,
      "outputs": []
    },
    {
      "cell_type": "code",
      "source": [
        "print(f'LINE EQUATION: y = {round(m,2)} * x + {round(b,2)}')"
      ],
      "metadata": {
        "colab": {
          "base_uri": "https://localhost:8080/"
        },
        "id": "rd8tgMlWvbqn",
        "outputId": "1f872beb-a89e-4a56-dd5a-81e1a3acc836"
      },
      "execution_count": 14,
      "outputs": [
        {
          "output_type": "stream",
          "name": "stdout",
          "text": [
            "LINE EQUATION: y = 4.59 * x + 12.58\n"
          ]
        }
      ]
    },
    {
      "cell_type": "markdown",
      "source": [
        "## **PLOT WITH GIVEN LINE**"
      ],
      "metadata": {
        "id": "p0t34_E7xKx_"
      }
    },
    {
      "cell_type": "code",
      "source": [
        "def plot_graph(x, y, slope, intercept):\n",
        "    axes = sns.scatterplot(x=x, y=y, s=100)\n",
        "    x_vals = np.array(axes.get_xlim())\n",
        "    y_vals = intercept + slope * x_vals\n",
        "    plt.plot(x_vals, y_vals, '-', color='red')"
      ],
      "metadata": {
        "id": "xreljq1qxNzr"
      },
      "execution_count": 19,
      "outputs": []
    },
    {
      "cell_type": "code",
      "source": [
        "plot_graph(x, y, m, b)"
      ],
      "metadata": {
        "colab": {
          "base_uri": "https://localhost:8080/",
          "height": 268
        },
        "id": "s8fglrvUxN2B",
        "outputId": "a9fa0ada-e599-4f32-bccd-e39ddf9a8030"
      },
      "execution_count": 20,
      "outputs": [
        {
          "output_type": "display_data",
          "data": {
            "text/plain": [
              "<Figure size 432x288 with 1 Axes>"
            ],
            "image/png": "[encoded data removed]"
          },
          "metadata": {
            "needs_background": "light"
          }
        }
      ]
    },
    {
      "cell_type": "markdown",
      "source": [
        "# **SDES IMPLEMENTATION**"
      ],
      "metadata": {
        "id": "T5rMzpyY1FI8"
      }
    },
    {
      "cell_type": "markdown",
      "source": [
        "## **KEY GENERATION**"
      ],
      "metadata": {
        "id": "AI6xv2GM1YkE"
      }
    },
    {
      "cell_type": "code",
      "source": [
        "P10 = [3, 5, 2, 7, 4, 10, 1, 9, 8, 6]\n",
        "P8 = [6, 3, 7, 4, 8, 5, 10, 9]"
      ],
      "metadata": {
        "id": "XydbBikb1X9M"
      },
      "execution_count": null,
      "outputs": []
    },
    {
      "cell_type": "code",
      "source": [
        "def apply_permutation(x, p):\n",
        "  res = []\n",
        "  for i in p:\n",
        "    res.append(x[i-1])\n",
        "  return res"
      ],
      "metadata": {
        "id": "f0edu8BCzHlN"
      },
      "execution_count": null,
      "outputs": []
    },
    {
      "cell_type": "code",
      "source": [
        "def left_shift(x, places = 1):\n",
        "  places %= len(x)\n",
        "  return x[places:] + x[:places]"
      ],
      "metadata": {
        "id": "MoNgsZ-22QJS"
      },
      "execution_count": null,
      "outputs": []
    },
    {
      "cell_type": "code",
      "source": [
        "# key = [1, 0, 1, 0, 0, 0, 0, 0, 1, 0]\n",
        "key = [1, 1, 0, 0, 0, 1, 1, 1, 1, 0]"
      ],
      "metadata": {
        "id": "jdc4tz1O2dl0"
      },
      "execution_count": null,
      "outputs": []
    },
    {
      "cell_type": "code",
      "source": [
        "key_p10 = apply_permutation(key, P10)\n",
        "print(f'Key after P10 permutation: {key_p10}')"
      ],
      "metadata": {
        "colab": {
          "base_uri": "https://localhost:8080/"
        },
        "id": "AptPYp1K3A2a",
        "outputId": "588f960a-5063-4f81-abd0-6ce901d5ac39"
      },
      "execution_count": null,
      "outputs": [
        {
          "output_type": "stream",
          "name": "stdout",
          "text": [
            "Key after P10 permutation: [0, 0, 1, 1, 0, 0, 1, 1, 1, 1]\n"
          ]
        }
      ]
    },
    {
      "cell_type": "code",
      "source": [
        "l = key_p10[:5]\n",
        "r = key_p10[5:]\n",
        "print(f'Left half: {l}, Right half: {r}')"
      ],
      "metadata": {
        "colab": {
          "base_uri": "https://localhost:8080/"
        },
        "id": "uL-1YeSx3ZTr",
        "outputId": "16a07dc0-98ed-4e47-e1ef-7fb10d66411b"
      },
      "execution_count": null,
      "outputs": [
        {
          "output_type": "stream",
          "name": "stdout",
          "text": [
            "Left half: [0, 0, 1, 1, 0], Right half: [0, 1, 1, 1, 1]\n"
          ]
        }
      ]
    },
    {
      "cell_type": "code",
      "source": [
        "l_ls1 = left_shift(l)\n",
        "r_ls1 = left_shift(r)\n",
        "print('Applying left shift')\n",
        "print(f'Left half: {l_ls1}, Right half: {r_ls1}')"
      ],
      "metadata": {
        "colab": {
          "base_uri": "https://localhost:8080/"
        },
        "id": "19rQB9HW3Zs0",
        "outputId": "41d07d3f-cc3d-43c5-9055-bfae644fc55d"
      },
      "execution_count": null,
      "outputs": [
        {
          "output_type": "stream",
          "name": "stdout",
          "text": [
            "Applying left shift\n",
            "Left half: [0, 1, 1, 0, 0], Right half: [1, 1, 1, 1, 0]\n"
          ]
        }
      ]
    },
    {
      "cell_type": "code",
      "source": [
        "key_ls1 = l_ls1 + r_ls1\n",
        "k1 = apply_permutation(key_ls1, P8)\n",
        "print(f'Key-1 after applying P8 permutation: {k1}')"
      ],
      "metadata": {
        "colab": {
          "base_uri": "https://localhost:8080/"
        },
        "id": "4f-eyb-k3ZvT",
        "outputId": "b81fff6a-b8ac-4b5f-f895-7a654124e7d2"
      },
      "execution_count": null,
      "outputs": [
        {
          "output_type": "stream",
          "name": "stdout",
          "text": [
            "Key-1 after applying P8 permutation: [1, 1, 1, 0, 1, 0, 0, 1]\n"
          ]
        }
      ]
    },
    {
      "cell_type": "code",
      "source": [
        "l_ls2 = left_shift(l_ls1, 2)\n",
        "r_ls2 = left_shift(r_ls1, 2)\n",
        "print('Applying double left shift')\n",
        "print(f'Left half: {l_ls2}, Right half: {r_ls2}')"
      ],
      "metadata": {
        "colab": {
          "base_uri": "https://localhost:8080/"
        },
        "id": "ocUR_HtI3Zxd",
        "outputId": "e9ff6d89-8494-484c-eba5-1cc65075ef58"
      },
      "execution_count": null,
      "outputs": [
        {
          "output_type": "stream",
          "name": "stdout",
          "text": [
            "Applying double left shift\n",
            "Left half: [1, 0, 0, 0, 1], Right half: [1, 1, 0, 1, 1]\n"
          ]
        }
      ]
    },
    {
      "cell_type": "code",
      "source": [
        "key_ls2 = l_ls2 + r_ls2\n",
        "k2 = apply_permutation(key_ls2, P8)\n",
        "print(f'Key-2 after applying P8 permutation: {k2}')"
      ],
      "metadata": {
        "colab": {
          "base_uri": "https://localhost:8080/"
        },
        "id": "Mru0vzdj3Zzi",
        "outputId": "7ceb4398-d778-4e77-befb-f83f85ce9f49"
      },
      "execution_count": null,
      "outputs": [
        {
          "output_type": "stream",
          "name": "stdout",
          "text": [
            "Key-2 after applying P8 permutation: [1, 0, 1, 0, 0, 1, 1, 1]\n"
          ]
        }
      ]
    },
    {
      "cell_type": "code",
      "source": [
        "print('Final keys obtained')\n",
        "print(f'Key-1: {k1}')\n",
        "print(f'Key-2: {k2}')"
      ],
      "metadata": {
        "colab": {
          "base_uri": "https://localhost:8080/"
        },
        "id": "oDHaGWNk5fOB",
        "outputId": "258597c5-5305-426e-aaed-cb752e45b94f"
      },
      "execution_count": null,
      "outputs": [
        {
          "output_type": "stream",
          "name": "stdout",
          "text": [
            "Final keys obtained\n",
            "Key-1: [1, 1, 1, 0, 1, 0, 0, 1]\n",
            "Key-2: [1, 0, 1, 0, 0, 1, 1, 1]\n"
          ]
        }
      ]
    },
    {
      "cell_type": "markdown",
      "source": [
        "## **ENCRYPTION AND DECRYPTION PREVIOUS APPROACH**"
      ],
      "metadata": {
        "id": "cAk4tB7-7NjB"
      }
    },
    {
      "cell_type": "code",
      "source": [
        "# plain_text = [1, 0, 0, 1, 0, 1, 1, 1]\n",
        "plain_text = [0, 0, 1, 0, 1, 0, 0, 0]"
      ],
      "metadata": {
        "id": "_kQp9bgM5uqJ"
      },
      "execution_count": null,
      "outputs": []
    },
    {
      "cell_type": "code",
      "source": [
        "initial_permutation = [2, 6, 3, 1, 4, 8, 5, 7]\n",
        "expansion_permutation = [4, 1, 2, 3, 2, 3, 4, 1]\n",
        "P4 = [2, 4, 3, 1]\n",
        "inv_initial_permutation = [4, 1, 3, 5, 7, 2, 8, 6]"
      ],
      "metadata": {
        "id": "NO8f1V277aiJ"
      },
      "execution_count": null,
      "outputs": []
    },
    {
      "cell_type": "code",
      "source": [
        "text_ip = apply_permutation(plain_text, initial_permutation)\n",
        "print(f'Text after initial permutation: {text_ip}')"
      ],
      "metadata": {
        "colab": {
          "base_uri": "https://localhost:8080/"
        },
        "id": "2Y3MPxya7a96",
        "outputId": "75ce44d6-f09e-4301-af3e-db314011bc96"
      },
      "execution_count": null,
      "outputs": [
        {
          "output_type": "stream",
          "name": "stdout",
          "text": [
            "Text after initial permutation: [0, 0, 1, 0, 0, 0, 1, 0]\n"
          ]
        }
      ]
    },
    {
      "cell_type": "code",
      "source": [
        "l_ip = text_ip[:4]\n",
        "r_ip = text_ip[4:]\n",
        "r_ip_ep = apply_permutation(r_ip, expansion_permutation)\n",
        "print(f'Right half after explansion: {r_ip_ep}')"
      ],
      "metadata": {
        "colab": {
          "base_uri": "https://localhost:8080/"
        },
        "id": "crBGzuOg7bAK",
        "outputId": "b67424b1-75f3-4edd-a23a-af2e8f4993b9"
      },
      "execution_count": null,
      "outputs": [
        {
          "output_type": "stream",
          "name": "stdout",
          "text": [
            "Right half after explansion: [0, 0, 0, 1, 0, 1, 0, 0]\n"
          ]
        }
      ]
    },
    {
      "cell_type": "code",
      "source": [
        "def apply_xor(x, y):\n",
        "  res = []\n",
        "  for i in range(len(x)):\n",
        "    res.append(x[i] ^ y[i])\n",
        "  return res"
      ],
      "metadata": {
        "id": "QynrykjS7bCZ"
      },
      "execution_count": null,
      "outputs": []
    },
    {
      "cell_type": "code",
      "source": [
        "k1_xor = apply_xor(k1, r_ip_ep)\n",
        "print(f'Key-1 after XOR: {k1_xor}')"
      ],
      "metadata": {
        "colab": {
          "base_uri": "https://localhost:8080/"
        },
        "id": "tkUBhDFC7bFA",
        "outputId": "2b0088eb-a716-42c0-d843-94a993a1aae3"
      },
      "execution_count": null,
      "outputs": [
        {
          "output_type": "stream",
          "name": "stdout",
          "text": [
            "Key-1 after XOR: [1, 1, 1, 1, 1, 1, 0, 1]\n"
          ]
        }
      ]
    },
    {
      "cell_type": "code",
      "source": [
        "l_xor = k1_xor[:4]\n",
        "r_xor = k1_xor[4:]"
      ],
      "metadata": {
        "id": "-mSvkyws7bHC"
      },
      "execution_count": null,
      "outputs": []
    },
    {
      "cell_type": "code",
      "source": [
        "S0 = [[1,0,3,2],\n",
        "      [3,2,1,0],\n",
        "      [0,2,1,3],\n",
        "      [3,1,3,2]]\n",
        "\n",
        "S1=  [[0,1,2,3],\n",
        "      [2,0,1,3],\n",
        "      [3,0,1,0],\n",
        "      [2,1,0,3]]"
      ],
      "metadata": {
        "id": "oKZ3Kpjc96bB"
      },
      "execution_count": null,
      "outputs": []
    },
    {
      "cell_type": "code",
      "source": [
        "def apply_s_box(x, s):\n",
        "  r = int(f'{x[0]}{x[3]}', 2)\n",
        "  c = int(f'{x[1]}{x[2]}', 2)\n",
        "  val = s[r][c]\n",
        "\n",
        "  if val == 0: return [0, 0]\n",
        "  elif val == 1: return [0, 1]\n",
        "  elif val == 2: return [1, 0]\n",
        "  else: return [1, 1]"
      ],
      "metadata": {
        "id": "g8z_PCjn96dT"
      },
      "execution_count": null,
      "outputs": []
    },
    {
      "cell_type": "code",
      "source": [
        "s_box_1 = apply_s_box(l_xor, S0) + apply_s_box(r_xor, S1)\n",
        "print(f'Applying S-Boxes on XOR key: {s_box_1}')"
      ],
      "metadata": {
        "colab": {
          "base_uri": "https://localhost:8080/"
        },
        "id": "QRr9A3z596fZ",
        "outputId": "7c9dec68-b145-4b59-8158-8ee9e585caa6"
      },
      "execution_count": null,
      "outputs": [
        {
          "output_type": "stream",
          "name": "stdout",
          "text": [
            "Applying S-Boxes on XOR key: [1, 0, 0, 0]\n"
          ]
        }
      ]
    },
    {
      "cell_type": "code",
      "source": [
        "s_box_p4 = apply_permutation(s_box_1, P4)\n",
        "print(f'After applying P4: {s_box_p4}')"
      ],
      "metadata": {
        "colab": {
          "base_uri": "https://localhost:8080/"
        },
        "id": "JzX5NkwL96hw",
        "outputId": "2f7e6726-4adb-4cfd-f68a-65329dd6e839"
      },
      "execution_count": null,
      "outputs": [
        {
          "output_type": "stream",
          "name": "stdout",
          "text": [
            "After applying P4: [0, 0, 0, 1]\n"
          ]
        }
      ]
    },
    {
      "cell_type": "code",
      "source": [
        "p4_xor = apply_xor(l_ip, s_box_p4)\n",
        "print(f'Applying XOR with left half: {p4_xor}')"
      ],
      "metadata": {
        "colab": {
          "base_uri": "https://localhost:8080/"
        },
        "id": "M8QjQ3tY_pe4",
        "outputId": "c078bc72-81fa-446b-a5dd-43048a3ea83e"
      },
      "execution_count": null,
      "outputs": [
        {
          "output_type": "stream",
          "name": "stdout",
          "text": [
            "Applying XOR with left half: [0, 0, 1, 1]\n"
          ]
        }
      ]
    },
    {
      "cell_type": "code",
      "source": [
        "x = p4_xor + r_ip\n",
        "print(f'Combining with right half: {x}')"
      ],
      "metadata": {
        "colab": {
          "base_uri": "https://localhost:8080/"
        },
        "id": "9WCEp1ec_pg_",
        "outputId": "478a953e-8fb2-4fb5-9a7d-6baf8aecce9e"
      },
      "execution_count": null,
      "outputs": [
        {
          "output_type": "stream",
          "name": "stdout",
          "text": [
            "Combining with right half: [0, 0, 1, 1, 0, 0, 1, 0]\n"
          ]
        }
      ]
    },
    {
      "cell_type": "code",
      "source": [
        "x_rev = x[4:] + x[:4]\n",
        "print(f'Swapping nibbles: {x_rev}')"
      ],
      "metadata": {
        "colab": {
          "base_uri": "https://localhost:8080/"
        },
        "id": "KLA_MYBF_pjI",
        "outputId": "978474b1-e116-4f72-891b-9c2768efadd0"
      },
      "execution_count": null,
      "outputs": [
        {
          "output_type": "stream",
          "name": "stdout",
          "text": [
            "Swapping nibbles: [0, 0, 1, 0, 0, 0, 1, 1]\n"
          ]
        }
      ]
    },
    {
      "cell_type": "code",
      "source": [
        "l_x = x_rev[:4]\n",
        "r_x = x_rev[4:]\n",
        "r_x_ep = apply_permutation(r_x, expansion_permutation)\n",
        "print(f'Right half after expansion: {r_x_ep}')"
      ],
      "metadata": {
        "colab": {
          "base_uri": "https://localhost:8080/"
        },
        "id": "YFBKTrNL_plY",
        "outputId": "57aa2d6a-8750-4912-b000-e6d2c967aa32"
      },
      "execution_count": null,
      "outputs": [
        {
          "output_type": "stream",
          "name": "stdout",
          "text": [
            "Right half after expansion: [1, 0, 0, 1, 0, 1, 1, 0]\n"
          ]
        }
      ]
    },
    {
      "cell_type": "code",
      "source": [
        "k2_xor = apply_xor(r_x_ep, k2)\n",
        "print(f'After XOR with Key-2: {k2_xor}')"
      ],
      "metadata": {
        "colab": {
          "base_uri": "https://localhost:8080/"
        },
        "id": "1gtMnJbd_pnu",
        "outputId": "1a80c5bb-28a1-4654-b935-ad38d16a996c"
      },
      "execution_count": null,
      "outputs": [
        {
          "output_type": "stream",
          "name": "stdout",
          "text": [
            "After XOR with Key-2: [0, 0, 1, 1, 0, 0, 0, 1]\n"
          ]
        }
      ]
    },
    {
      "cell_type": "code",
      "source": [
        "l_xor_2 = k2_xor[:4]\n",
        "r_xor_2 = k2_xor[4:]"
      ],
      "metadata": {
        "id": "PJIHxioTB-UY"
      },
      "execution_count": null,
      "outputs": []
    },
    {
      "cell_type": "code",
      "source": [
        "s_box_2 = apply_s_box(l_xor_2, S0) + apply_s_box(r_xor_2, S1)\n",
        "print(f'Applying S-Boxes on XOR key: {s_box_2}')"
      ],
      "metadata": {
        "colab": {
          "base_uri": "https://localhost:8080/"
        },
        "outputId": "ebe91e10-25f0-4f76-867b-01320ca1498f",
        "id": "0Inn6MzzB-UZ"
      },
      "execution_count": null,
      "outputs": [
        {
          "output_type": "stream",
          "name": "stdout",
          "text": [
            "Applying S-Boxes on XOR key: [1, 0, 1, 0]\n"
          ]
        }
      ]
    },
    {
      "cell_type": "code",
      "source": [
        "s_box_2_p4 = apply_permutation(s_box_2, P4)\n",
        "print(f'After applying P4: {s_box_2_p4}')"
      ],
      "metadata": {
        "colab": {
          "base_uri": "https://localhost:8080/"
        },
        "id": "0JgDZv0vBnCI",
        "outputId": "f4210cc1-f569-4cf7-9270-57983c1439c2"
      },
      "execution_count": null,
      "outputs": [
        {
          "output_type": "stream",
          "name": "stdout",
          "text": [
            "After applying P4: [0, 0, 1, 1]\n"
          ]
        }
      ]
    },
    {
      "cell_type": "code",
      "source": [
        "y = apply_xor(l_x, s_box_2_p4) + r_x\n",
        "print(f'After XOR and joining: {y}')"
      ],
      "metadata": {
        "colab": {
          "base_uri": "https://localhost:8080/"
        },
        "id": "8cZMRitIBnEm",
        "outputId": "54f2582f-a482-4b7e-f5b4-45077abda6f8"
      },
      "execution_count": null,
      "outputs": [
        {
          "output_type": "stream",
          "name": "stdout",
          "text": [
            "After XOR and joining: [0, 0, 0, 1, 0, 0, 1, 1]\n"
          ]
        }
      ]
    },
    {
      "cell_type": "code",
      "source": [
        "l_y = y[:4]\n",
        "r_y = y[4:]"
      ],
      "metadata": {
        "id": "Z_15400_96kE"
      },
      "execution_count": null,
      "outputs": []
    },
    {
      "cell_type": "code",
      "source": [
        "r_y_ep = apply_permutation(r_y, expansion_permutation)\n",
        "print(f'Right half after expansion: {r_y_ep}')"
      ],
      "metadata": {
        "colab": {
          "base_uri": "https://localhost:8080/"
        },
        "id": "nxR7y6ZlCzpd",
        "outputId": "375d6ddb-c87b-40e5-de50-44675888bb3f"
      },
      "execution_count": null,
      "outputs": [
        {
          "output_type": "stream",
          "name": "stdout",
          "text": [
            "Right half after expansion: [1, 0, 0, 1, 0, 1, 1, 0]\n"
          ]
        }
      ]
    },
    {
      "cell_type": "code",
      "source": [
        "r_y_xor = apply_xor(r_y_ep, k2)\n",
        "print(f'After XOR with Key-2: {r_y_xor}')"
      ],
      "metadata": {
        "colab": {
          "base_uri": "https://localhost:8080/"
        },
        "id": "Q6G12-LbCzsA",
        "outputId": "32517219-767e-440f-f5b4-7104c11743d1"
      },
      "execution_count": null,
      "outputs": [
        {
          "output_type": "stream",
          "name": "stdout",
          "text": [
            "After XOR with Key-2: [0, 0, 1, 1, 0, 0, 0, 1]\n"
          ]
        }
      ]
    },
    {
      "cell_type": "code",
      "source": [
        "xor_l = r_y_xor[:4]\n",
        "xor_r = r_y_xor[4:]"
      ],
      "metadata": {
        "id": "gzhwNov8Czud"
      },
      "execution_count": null,
      "outputs": []
    },
    {
      "cell_type": "code",
      "source": [
        "s_box_3 = apply_s_box(xor_l, S0) + apply_s_box(xor_r, S1)\n",
        "print(f'Applying S-Boxes on XOR key: {s_box_3}')"
      ],
      "metadata": {
        "colab": {
          "base_uri": "https://localhost:8080/"
        },
        "id": "XA8jxvPiD2e2",
        "outputId": "7f2e23e5-0d53-42c3-ecfc-a26e0545b72a"
      },
      "execution_count": null,
      "outputs": [
        {
          "output_type": "stream",
          "name": "stdout",
          "text": [
            "Applying S-Boxes on XOR key: [1, 0, 1, 0]\n"
          ]
        }
      ]
    },
    {
      "cell_type": "code",
      "source": [
        "s_box_3_p4 = apply_permutation(s_box_3, P4)\n",
        "print(f'After applying P4: {s_box_3_p4}')"
      ],
      "metadata": {
        "colab": {
          "base_uri": "https://localhost:8080/"
        },
        "id": "YoKt-dduD-Fl",
        "outputId": "fcd2538e-a0de-4939-d254-8b0d5ccc428d"
      },
      "execution_count": null,
      "outputs": [
        {
          "output_type": "stream",
          "name": "stdout",
          "text": [
            "After applying P4: [0, 0, 1, 1]\n"
          ]
        }
      ]
    },
    {
      "cell_type": "code",
      "source": [
        "z = apply_xor(l_x, s_box_3_p4) + r_x\n",
        "print(f'After XOR and joining: {z}')"
      ],
      "metadata": {
        "colab": {
          "base_uri": "https://localhost:8080/"
        },
        "id": "sl5xO3CuEIZt",
        "outputId": "829f15d5-aae0-4902-fdd4-3acea0d23fca"
      },
      "execution_count": null,
      "outputs": [
        {
          "output_type": "stream",
          "name": "stdout",
          "text": [
            "After XOR and joining: [0, 0, 0, 1, 0, 0, 1, 1]\n"
          ]
        }
      ]
    },
    {
      "cell_type": "code",
      "source": [
        "cipher_text = apply_permutation(z, inv_initial_permutation)\n",
        "print(f'Cipher Text: {cipher_text}')"
      ],
      "metadata": {
        "colab": {
          "base_uri": "https://localhost:8080/"
        },
        "id": "G7EBKWAAFO7m",
        "outputId": "171572ac-8670-4bfe-caa2-46acab0c526f"
      },
      "execution_count": null,
      "outputs": [
        {
          "output_type": "stream",
          "name": "stdout",
          "text": [
            "Cipher Text: [1, 0, 0, 0, 1, 0, 1, 0]\n"
          ]
        }
      ]
    },
    {
      "cell_type": "markdown",
      "source": [
        "## **ENCRYPTION AND DECRYPTION NEW APPROACH**"
      ],
      "metadata": {
        "id": "0VnoAjwv4Y2v"
      }
    },
    {
      "cell_type": "code",
      "source": [
        "IP = [2, 6, 3, 1, 4, 8, 5, 7]\n",
        "EP = [4, 1, 2, 3, 2, 3, 4, 1]\n",
        "P4 = [2, 4, 3, 1]\n",
        "IP_inv = [4, 1, 3, 5, 7, 2, 8, 6]"
      ],
      "metadata": {
        "id": "Q4JUzZ8b6kMd"
      },
      "execution_count": null,
      "outputs": []
    },
    {
      "cell_type": "code",
      "source": [
        "def apply_xor(x, y):\n",
        "  res = []\n",
        "  for i in range(len(x)):\n",
        "    res.append(x[i] ^ y[i])\n",
        "  return res"
      ],
      "metadata": {
        "id": "YIro_R8C6kMf"
      },
      "execution_count": null,
      "outputs": []
    },
    {
      "cell_type": "code",
      "source": [
        "S0 = [[1,0,3,2],\n",
        "      [3,2,1,0],\n",
        "      [0,2,1,3],\n",
        "      [3,1,3,2]]\n",
        "\n",
        "S1=  [[0,1,2,3],\n",
        "      [2,0,1,3],\n",
        "      [3,0,1,0],\n",
        "      [2,1,0,3]]\n",
        "\n",
        "def apply_s_box(x, s):\n",
        "  r = int(f'{x[0]}{x[3]}', 2)\n",
        "  c = int(f'{x[1]}{x[2]}', 2)\n",
        "  val = s[r][c]\n",
        "\n",
        "  if val == 0: return [0, 0]\n",
        "  elif val == 1: return [0, 1]\n",
        "  elif val == 2: return [1, 0]\n",
        "  else: return [1, 1]"
      ],
      "metadata": {
        "id": "W7MSksPb6kMi"
      },
      "execution_count": null,
      "outputs": []
    },
    {
      "cell_type": "code",
      "source": [
        "def split_halves(x):\n",
        "  n = len(x) // 2\n",
        "  return x[:n], x[n:]"
      ],
      "metadata": {
        "id": "F4hyDV0r4dPQ"
      },
      "execution_count": null,
      "outputs": []
    },
    {
      "cell_type": "code",
      "source": [
        "def perform_round(text, key, swap):\n",
        "  l, r = split_halves(text)\n",
        "  r_new = apply_permutation(r, EP)\n",
        "  r_new = apply_xor(r_new, key)\n",
        "  rl, rr = split_halves(r_new)\n",
        "  r_new = apply_s_box(rl, S0) + apply_s_box(rr, S1)\n",
        "  r_new = apply_permutation(r_new, P4)\n",
        "  r_new = apply_xor(l, r_new)\n",
        "  return r + r_new if swap else r_new + r"
      ],
      "metadata": {
        "id": "jjnmBGAn4dRd"
      },
      "execution_count": null,
      "outputs": []
    },
    {
      "cell_type": "code",
      "source": [
        "plain_text = [0, 0, 1, 0, 1, 0, 0, 0]\n",
        "# plain_text = [1, 0, 0, 1, 0, 1, 1, 1]"
      ],
      "metadata": {
        "id": "tsLId_l1_NlA"
      },
      "execution_count": null,
      "outputs": []
    },
    {
      "cell_type": "code",
      "source": [
        "text = apply_permutation(plain_text, IP)\n",
        "print(text)\n",
        "text = perform_round(text, k1, True)\n",
        "print(text)\n",
        "text = perform_round(text, k2, False)\n",
        "print(text)\n",
        "cipher_text = apply_permutation(text, IP_inv)"
      ],
      "metadata": {
        "colab": {
          "base_uri": "https://localhost:8080/"
        },
        "id": "G9baSMsl_agV",
        "outputId": "a5fe265e-237f-497a-be3b-6c317f951b3c"
      },
      "execution_count": null,
      "outputs": [
        {
          "output_type": "stream",
          "name": "stdout",
          "text": [
            "[0, 0, 1, 0, 0, 0, 1, 0]\n",
            "[0, 0, 1, 0, 0, 0, 1, 1]\n",
            "[0, 0, 0, 1, 0, 0, 1, 1]\n"
          ]
        }
      ]
    },
    {
      "cell_type": "code",
      "source": [
        "cipher_text"
      ],
      "metadata": {
        "colab": {
          "base_uri": "https://localhost:8080/"
        },
        "id": "7fS6Cp9U_aiQ",
        "outputId": "890f64fa-17e2-4ac5-bddc-a0d5e1877246"
      },
      "execution_count": null,
      "outputs": [
        {
          "output_type": "execute_result",
          "data": {
            "text/plain": [
              "[1, 0, 0, 0, 1, 0, 1, 0]"
            ]
          },
          "metadata": {},
          "execution_count": 96
        }
      ]
    },
    {
      "cell_type": "markdown",
      "source": [
        "# **DECISION TREE**"
      ],
      "metadata": {
        "id": "WdSGfExuHKZs"
      }
    },
    {
      "cell_type": "code",
      "source": [
        "import pandas as pd\n",
        "import numpy as np\n",
        "from itertools import chain, combinations"
      ],
      "metadata": {
        "id": "WZW1xRLp8LmQ"
      },
      "execution_count": null,
      "outputs": []
    },
    {
      "cell_type": "markdown",
      "source": [
        "## **PREVIOUS APPROACH**"
      ],
      "metadata": {
        "id": "TLzS4fvY4T1Y"
      }
    },
    {
      "cell_type": "code",
      "source": [
        "class Node:\n",
        "  def __init__(self, col, dtype, values = None):\n",
        "    self.col = col\n",
        "    self.dtype = dtype\n",
        "    if self.dtype == 'categorical':\n",
        "      assert values is not None, 'Mention values for categorical feature.'\n",
        "      self.values = values\n",
        "    else: self.values = None\n",
        "    self.yes = True\n",
        "    self.no = False\n",
        "  \n",
        "  def __str__(self):\n",
        "    return f'COLUMN: {self.col}, VALUES: {self.values},'"
      ],
      "metadata": {
        "id": "ZpX6p2YFEtyG"
      },
      "execution_count": null,
      "outputs": []
    },
    {
      "cell_type": "code",
      "source": [
        "class DecisionTree:\n",
        "  def __init__(self):\n",
        "    self.tree = None\n",
        "\n",
        "  def __gini(self, cnt):\n",
        "    total = np.sum(cnt)\n",
        "    if total == 0: return 0\n",
        "    return 1 - (cnt[0] / total) ** 2 - (cnt[1] / total) **2\n",
        "\n",
        "  def __powerset(self, iterable):\n",
        "    s = list(iterable)\n",
        "    if len(s) == 1: return [tuple(s)]\n",
        "    return list(chain.from_iterable(combinations(s, r) for r in range(len(s)+1)))[1:-1]\n",
        "\n",
        "  def __total_imp(self, true_count, false_count):\n",
        "    true_total = np.sum(true_count)\n",
        "    false_total = np.sum(false_count)\n",
        "    total = true_total + false_total\n",
        "    return (self.__gini(true_count) * true_total / total + self.__gini(false_count) * false_total / total,\n",
        "            self.__gini(true_count), self.__gini(false_count))\n",
        "\n",
        "  def __get_imp(self, feature, val, data, label_name):\n",
        "    if self.col_type[feature] == 'numerical':\n",
        "      pass\n",
        "    else:\n",
        "      true_count = [0, 0]\n",
        "      false_count = [0, 0]\n",
        "      for i in range(len(data[feature])):\n",
        "        if data[feature].iloc[i] in val:\n",
        "          if data[label_name].iloc[i]: true_count[1] += 1\n",
        "          else: true_count[0] += 1\n",
        "        else:\n",
        "          if data[label_name].iloc[i]: false_count[1] += 1\n",
        "          else: false_count[0] += 1\n",
        "      return self.__total_imp(true_count, false_count)\n",
        "  \n",
        "  def __feature_impurity(self, feature, data, label_name):\n",
        "    if self.col_type[feature] == 'numerical':\n",
        "      pass\n",
        "    else:\n",
        "      values = self.__powerset(data[feature].unique())\n",
        "      val_imp = set()\n",
        "      for val in values:\n",
        "        imp = self.__get_imp(feature, val, data, label_name)\n",
        "        val_imp.add((imp, val))\n",
        "        # print(f'Feature: {feature}, Values: {val}, Impurity: {imp[0]}')\n",
        "      return val_imp.pop()\n",
        "\n",
        "  def __build_tree(self, data, label_name, cols, par_imp = 10):\n",
        "    if len(cols) == 1: return None\n",
        "    col_imp = set()\n",
        "    for col in cols:\n",
        "      if self.col_type[col] == 'label': continue\n",
        "      col_imp.add((self.__feature_impurity(col, data, label_name), col))\n",
        "    best = col_imp.pop()\n",
        "    col = best[1]\n",
        "    if best[0][0][0] < par_imp:\n",
        "      node = Node(col, self.col_type[col], best[0][1])\n",
        "      data_yes = data[data[col].isin(list(best[0][1])) == True].drop(col, axis=1)\n",
        "      data_no = data[data[col].isin(list(best[0][1])) == False].drop(col, axis=1)\n",
        "      new_cols = list(data_yes.columns)\n",
        "      node.yes = self.__build_tree(data_yes, label_name, new_cols.copy(), best[0][0][1])\n",
        "      node.no = self.__build_tree(data_no, label_name, new_cols.copy(), best[0][0][2])\n",
        "      if node.yes is None: node.yes = True\n",
        "      if node.no is None: node.no = False\n",
        "      return node\n",
        "\n",
        "  def fit(self, df, label_name):\n",
        "    self.col_type = {}\n",
        "    self.cols = list(df.columns)\n",
        "    for col in self.cols:\n",
        "      if col == label_name: self.col_type[col] = 'label'\n",
        "      elif type(df[col][0]) == str:\n",
        "        self.col_type[col] = 'categorical'\n",
        "      else: self.col_type[col] = 'numerical'\n",
        "    self.tree = self.__build_tree(df, label_name, self.cols.copy())\n",
        "\n",
        "  def __predict(self, data, node):\n",
        "    if type(node) == bool: return node\n",
        "    \n",
        "    val = data[node.col]\n",
        "    if val in node.values: node = node.yes\n",
        "    else: node = node.no\n",
        "    \n",
        "    return self.__predict(data, node)\n",
        "\n",
        "  def predict(self, df):\n",
        "    preds = []\n",
        "    for i in range(len(df)):\n",
        "      preds.append(self.__predict(df.iloc[i], self.tree))\n",
        "    return preds"
      ],
      "metadata": {
        "id": "kufZMCdZGWKU"
      },
      "execution_count": null,
      "outputs": []
    },
    {
      "cell_type": "code",
      "source": [
        "df = pd.read_csv('dataset.csv').drop('ID', axis=1)\n",
        "df.head()"
      ],
      "metadata": {
        "colab": {
          "base_uri": "https://localhost:8080/",
          "height": 206
        },
        "id": "YP1y-QNp7Nw0",
        "outputId": "5479b82e-7931-4ce9-cb26-21373b6da06b"
      },
      "execution_count": null,
      "outputs": [
        {
          "output_type": "execute_result",
          "data": {
            "text/plain": [
              "     Age  Income  Gender MaritalStatus Buys\n",
              "0    <21    High    Male        Single   No\n",
              "1    <21    High    Male       Married   No\n",
              "2  21-35    High    Male        Single  Yes\n",
              "3    >35  Medium    Male        Single  Yes\n",
              "4    >35     Low  Female        Single  Yes"
            ],
            "text/html": [
              "\n",
              "  <div id=\"df-aa575d83-a9b1-4dfa-8171-662764ab85c6\">\n",
              "    <div class=\"colab-df-container\">\n",
              "      <div>\n",
              "<style scoped>\n",
              "    .dataframe tbody tr th:only-of-type {\n",
              "        vertical-align: middle;\n",
              "    }\n",
              "\n",
              "    .dataframe tbody tr th {\n",
              "        vertical-align: top;\n",
              "    }\n",
              "\n",
              "    .dataframe thead th {\n",
              "        text-align: right;\n",
              "    }\n",
              "</style>\n",
              "<table border=\"1\" class=\"dataframe\">\n",
              "  <thead>\n",
              "    <tr style=\"text-align: right;\">\n",
              "      <th></th>\n",
              "      <th>Age</th>\n",
              "      <th>Income</th>\n",
              "      <th>Gender</th>\n",
              "      <th>MaritalStatus</th>\n",
              "      <th>Buys</th>\n",
              "    </tr>\n",
              "  </thead>\n",
              "  <tbody>\n",
              "    <tr>\n",
              "      <th>0</th>\n",
              "      <td>&lt;21</td>\n",
              "      <td>High</td>\n",
              "      <td>Male</td>\n",
              "      <td>Single</td>\n",
              "      <td>No</td>\n",
              "    </tr>\n",
              "    <tr>\n",
              "      <th>1</th>\n",
              "      <td>&lt;21</td>\n",
              "      <td>High</td>\n",
              "      <td>Male</td>\n",
              "      <td>Married</td>\n",
              "      <td>No</td>\n",
              "    </tr>\n",
              "    <tr>\n",
              "      <th>2</th>\n",
              "      <td>21-35</td>\n",
              "      <td>High</td>\n",
              "      <td>Male</td>\n",
              "      <td>Single</td>\n",
              "      <td>Yes</td>\n",
              "    </tr>\n",
              "    <tr>\n",
              "      <th>3</th>\n",
              "      <td>&gt;35</td>\n",
              "      <td>Medium</td>\n",
              "      <td>Male</td>\n",
              "      <td>Single</td>\n",
              "      <td>Yes</td>\n",
              "    </tr>\n",
              "    <tr>\n",
              "      <th>4</th>\n",
              "      <td>&gt;35</td>\n",
              "      <td>Low</td>\n",
              "      <td>Female</td>\n",
              "      <td>Single</td>\n",
              "      <td>Yes</td>\n",
              "    </tr>\n",
              "  </tbody>\n",
              "</table>\n",
              "</div>\n",
              "      <button class=\"colab-df-convert\" onclick=\"convertToInteractive('df-aa575d83-a9b1-4dfa-8171-662764ab85c6')\"\n",
              "              title=\"Convert this dataframe to an interactive table.\"\n",
              "              style=\"display:none;\">\n",
              "        \n",
              "  <svg xmlns=\"http://www.w3.org/2000/svg\" height=\"24px\"viewBox=\"0 0 24 24\"\n",
              "       width=\"24px\">\n",
              "    <path d=\"M0 0h24v24H0V0z\" fill=\"none\"/>\n",
              "    <path d=\"M18.56 5.44l.94 2.06.94-2.06 2.06-.94-2.06-.94-.94-2.06-.94 2.06-2.06.94zm-11 1L8.5 8.5l.94-2.06 2.06-.94-2.06-.94L8.5 2.5l-.94 2.06-2.06.94zm10 10l.94 2.06.94-2.06 2.06-.94-2.06-.94-.94-2.06-.94 2.06-2.06.94z\"/><path d=\"M17.41 7.96l-1.37-1.37c-.4-.4-.92-.59-1.43-.59-.52 0-1.04.2-1.43.59L10.3 9.45l-7.72 7.72c-.78.78-.78 2.05 0 2.83L4 21.41c.39.39.9.59 1.41.59.51 0 1.02-.2 1.41-.59l7.78-7.78 2.81-2.81c.8-.78.8-2.07 0-2.86zM5.41 20L4 18.59l7.72-7.72 1.47 1.35L5.41 20z\"/>\n",
              "  </svg>\n",
              "      </button>\n",
              "      \n",
              "  <style>\n",
              "    .colab-df-container {\n",
              "      display:flex;\n",
              "      flex-wrap:wrap;\n",
              "      gap: 12px;\n",
              "    }\n",
              "\n",
              "    .colab-df-convert {\n",
              "      background-color: #E8F0FE;\n",
              "      border: none;\n",
              "      border-radius: 50%;\n",
              "      cursor: pointer;\n",
              "      display: none;\n",
              "      fill: #1967D2;\n",
              "      height: 32px;\n",
              "      padding: 0 0 0 0;\n",
              "      width: 32px;\n",
              "    }\n",
              "\n",
              "    .colab-df-convert:hover {\n",
              "      background-color: #E2EBFA;\n",
              "      box-shadow: 0px 1px 2px rgba(60, 64, 67, 0.3), 0px 1px 3px 1px rgba(60, 64, 67, 0.15);\n",
              "      fill: #174EA6;\n",
              "    }\n",
              "\n",
              "    [theme=dark] .colab-df-convert {\n",
              "      background-color: #3B4455;\n",
              "      fill: #D2E3FC;\n",
              "    }\n",
              "\n",
              "    [theme=dark] .colab-df-convert:hover {\n",
              "      background-color: #434B5C;\n",
              "      box-shadow: 0px 1px 3px 1px rgba(0, 0, 0, 0.15);\n",
              "      filter: drop-shadow(0px 1px 2px rgba(0, 0, 0, 0.3));\n",
              "      fill: #FFFFFF;\n",
              "    }\n",
              "  </style>\n",
              "\n",
              "      <script>\n",
              "        const buttonEl =\n",
              "          document.querySelector('#df-aa575d83-a9b1-4dfa-8171-662764ab85c6 button.colab-df-convert');\n",
              "        buttonEl.style.display =\n",
              "          google.colab.kernel.accessAllowed ? 'block' : 'none';\n",
              "\n",
              "        async function convertToInteractive(key) {\n",
              "          const element = document.querySelector('#df-aa575d83-a9b1-4dfa-8171-662764ab85c6');\n",
              "          const dataTable =\n",
              "            await google.colab.kernel.invokeFunction('convertToInteractive',\n",
              "                                                     [key], {});\n",
              "          if (!dataTable) return;\n",
              "\n",
              "          const docLinkHtml = 'Like what you see? Visit the ' +\n",
              "            '<a target=\"_blank\" href=https://colab.research.google.com/notebooks/data_table.ipynb>data table notebook</a>'\n",
              "            + ' to learn more about interactive tables.';\n",
              "          element.innerHTML = '';\n",
              "          dataTable['output_type'] = 'display_data';\n",
              "          await google.colab.output.renderOutput(dataTable, element);\n",
              "          const docLink = document.createElement('div');\n",
              "          docLink.innerHTML = docLinkHtml;\n",
              "          element.appendChild(docLink);\n",
              "        }\n",
              "      </script>\n",
              "    </div>\n",
              "  </div>\n",
              "  "
            ]
          },
          "metadata": {},
          "execution_count": 61
        }
      ]
    },
    {
      "cell_type": "code",
      "source": [
        "train_df = df[:-1].copy()\n",
        "train_df['Buys'] = train_df['Buys'] == 'Yes'"
      ],
      "metadata": {
        "id": "lD9oanlpgKZG"
      },
      "execution_count": null,
      "outputs": []
    },
    {
      "cell_type": "code",
      "source": [
        "test_df = df.drop('Buys', axis = 1)"
      ],
      "metadata": {
        "id": "6j1YL6Ka7ME8"
      },
      "execution_count": null,
      "outputs": []
    },
    {
      "cell_type": "code",
      "source": [
        "clf = DecisionTree()"
      ],
      "metadata": {
        "id": "OaE5Vz0UgKdd"
      },
      "execution_count": null,
      "outputs": []
    },
    {
      "cell_type": "code",
      "source": [
        "clf.fit(train_df, 'Buys')"
      ],
      "metadata": {
        "id": "QeHxKteOg64C"
      },
      "execution_count": null,
      "outputs": []
    },
    {
      "cell_type": "code",
      "source": [
        "print(f'Root: {clf.tree.col}')"
      ],
      "metadata": {
        "colab": {
          "base_uri": "https://localhost:8080/"
        },
        "id": "cyhQnYfWE29a",
        "outputId": "213721de-bec5-4558-cbe5-8e662a1690ec"
      },
      "execution_count": null,
      "outputs": [
        {
          "output_type": "stream",
          "name": "stdout",
          "text": [
            "Root: Gender\n"
          ]
        }
      ]
    },
    {
      "cell_type": "markdown",
      "source": [
        "## **NEW APPROACH**"
      ],
      "metadata": {
        "id": "dafe19r-4YMQ"
      }
    },
    {
      "cell_type": "code",
      "source": [
        "class Node:\n",
        "  def __init__(self, feature, values):\n",
        "    self.feature = feature\n",
        "    self.values = values\n",
        "    self.yes = None\n",
        "    self.no = None\n",
        "\n",
        "  def __str__(self):\n",
        "    return f'Feature: {self.feature}, Values: {self.values}'\n",
        "\n",
        "class DecisionTree:\n",
        "  def __gini(self, yes_count, no_count):\n",
        "    yes_total = yes_count[0] + yes_count[1]\n",
        "    no_total = no_count[0] + no_count[1]\n",
        "    try:\n",
        "      gini_yes = 1 - (yes_count[0] / yes_total) ** 2 - (yes_count[1] / yes_total) ** 2\n",
        "    except: gini_yes = 0\n",
        "    try:\n",
        "      gini_no = 1 - (no_count[0] / no_total) ** 2 - (no_count[1] / no_total) ** 2\n",
        "    except: gini_no = 0\n",
        "    return (yes_total * gini_yes  + no_total * gini_no) / (yes_total + no_total)\n",
        "  \n",
        "  def __get_impurity(self, X, y, values):\n",
        "    yes_count = [0, 0]\n",
        "    no_count = [0, 0]\n",
        "    for i in range(len(X)):\n",
        "      if X[i] in values:\n",
        "        if y[i]: yes_count[1] += 1\n",
        "        else: yes_count[0] += 1\n",
        "      else:\n",
        "        if y[i]: no_count[1] += 1\n",
        "        else: no_count[0] += 1\n",
        "    return self.__gini(yes_count, no_count)\n",
        "\n",
        "  def __parse(self, x):\n",
        "    val = list(bin(x)[2:])\n",
        "    return [i for i in range(len(val)) if val[i] == '1']\n",
        "\n",
        "  def __get_feature_impurity(self, X, feature, y):\n",
        "    values = self.unique_feature_values[feature]\n",
        "    n = 2 ** len(values) - 1\n",
        "    best_impurity = 100\n",
        "    for i in range(1, n):\n",
        "      idx = self.__parse(i)\n",
        "      val_subset = values[idx].copy()\n",
        "      impurity = self.__get_impurity(X, y, val_subset)\n",
        "      if impurity < best_impurity:\n",
        "        best_impurity = impurity\n",
        "        best_values = val_subset    \n",
        "    return best_values, best_impurity\n",
        "  \n",
        "  def __select_best_feature(self, X, y):\n",
        "    best_impurity = 100\n",
        "    for feature in X.columns:\n",
        "      values, impurity = self.__get_feature_impurity(list(X[feature]), feature, y)\n",
        "      if impurity < best_impurity:\n",
        "        best_impurity = impurity\n",
        "        best_feature = feature\n",
        "        best_values = values\n",
        "\n",
        "    return best_feature, best_values, best_impurity\n",
        "\n",
        "  def __filter_data(self, X, y, feature, values, flag):\n",
        "    X_filtered = X[X[feature].isin(values) == flag].copy()\n",
        "    idx = list(X_filtered.index)\n",
        "    X_filtered = X_filtered.reset_index().drop([feature, 'index'], axis = 1)\n",
        "    y_filtered = y[idx].copy()\n",
        "    return X_filtered, y_filtered\n",
        "  \n",
        "  def __build_tree(self, X, y, parent_impurity = 100):\n",
        "    if len(X.columns) == 0: return None\n",
        "    best_feature, best_values, impurity = self.__select_best_feature(X, y)\n",
        "    if impurity >= parent_impurity: return None\n",
        "    node = Node(best_feature, best_values)\n",
        "    \n",
        "    X_yes, y_yes = self.__filter_data(X, y, best_feature, best_values, True)\n",
        "    X_no, y_no = self.__filter_data(X, y, best_feature, best_values, False)\n",
        "    \n",
        "    node.yes = self.__build_tree(X_yes, y_yes, impurity)\n",
        "    node.no = self.__build_tree(X_no, y_no, impurity)\n",
        "\n",
        "    if node.yes is None: node.yes = True\n",
        "    if node.no is None: node.no = False\n",
        "    return node\n",
        "\n",
        "  def __set_feature_values(self, X):\n",
        "    self.unique_feature_values = {}\n",
        "    for feature in X.columns:\n",
        "      self.unique_feature_values[feature] = np.unique(list(X[feature]))\n",
        "\n",
        "  def fit(self, X, y):\n",
        "    self.__set_feature_values(X)\n",
        "    self.tree = self.__build_tree(X, y)\n",
        "\n",
        "  def __make_prediction(self, x, node):\n",
        "    if type(node) == bool: return node\n",
        "    \n",
        "    value = x[node.feature]\n",
        "    if value in node.values: node = node.yes\n",
        "    else: node = node.no\n",
        "    \n",
        "    return self.__make_prediction(x, node)\n",
        "\n",
        "  def predict(self, X):\n",
        "    preds = []\n",
        "    for i in range(len(X)):\n",
        "      preds.append(self.__make_prediction(X.iloc[i], self.tree))\n",
        "    return np.array(preds)"
      ],
      "metadata": {
        "id": "psye6YTp4ZgF"
      },
      "execution_count": null,
      "outputs": []
    },
    {
      "cell_type": "code",
      "source": [
        "df = pd.read_csv('dataset.csv').drop('ID', axis=1)\n",
        "df.head()"
      ],
      "metadata": {
        "colab": {
          "base_uri": "https://localhost:8080/",
          "height": 206
        },
        "outputId": "afa6403e-a55b-4180-803a-f373a82f68f7",
        "id": "aPWJGA5QbWTS"
      },
      "execution_count": null,
      "outputs": [
        {
          "output_type": "execute_result",
          "data": {
            "text/plain": [
              "     Age  Income  Gender MaritalStatus Buys\n",
              "0    <21    High    Male        Single   No\n",
              "1    <21    High    Male       Married   No\n",
              "2  21-35    High    Male        Single  Yes\n",
              "3    >35  Medium    Male        Single  Yes\n",
              "4    >35     Low  Female        Single  Yes"
            ],
            "text/html": [
              "\n",
              "  <div id=\"df-ef1da8e9-a119-43e6-81e7-d0a4d0d0a30e\">\n",
              "    <div class=\"colab-df-container\">\n",
              "      <div>\n",
              "<style scoped>\n",
              "    .dataframe tbody tr th:only-of-type {\n",
              "        vertical-align: middle;\n",
              "    }\n",
              "\n",
              "    .dataframe tbody tr th {\n",
              "        vertical-align: top;\n",
              "    }\n",
              "\n",
              "    .dataframe thead th {\n",
              "        text-align: right;\n",
              "    }\n",
              "</style>\n",
              "<table border=\"1\" class=\"dataframe\">\n",
              "  <thead>\n",
              "    <tr style=\"text-align: right;\">\n",
              "      <th></th>\n",
              "      <th>Age</th>\n",
              "      <th>Income</th>\n",
              "      <th>Gender</th>\n",
              "      <th>MaritalStatus</th>\n",
              "      <th>Buys</th>\n",
              "    </tr>\n",
              "  </thead>\n",
              "  <tbody>\n",
              "    <tr>\n",
              "      <th>0</th>\n",
              "      <td>&lt;21</td>\n",
              "      <td>High</td>\n",
              "      <td>Male</td>\n",
              "      <td>Single</td>\n",
              "      <td>No</td>\n",
              "    </tr>\n",
              "    <tr>\n",
              "      <th>1</th>\n",
              "      <td>&lt;21</td>\n",
              "      <td>High</td>\n",
              "      <td>Male</td>\n",
              "      <td>Married</td>\n",
              "      <td>No</td>\n",
              "    </tr>\n",
              "    <tr>\n",
              "      <th>2</th>\n",
              "      <td>21-35</td>\n",
              "      <td>High</td>\n",
              "      <td>Male</td>\n",
              "      <td>Single</td>\n",
              "      <td>Yes</td>\n",
              "    </tr>\n",
              "    <tr>\n",
              "      <th>3</th>\n",
              "      <td>&gt;35</td>\n",
              "      <td>Medium</td>\n",
              "      <td>Male</td>\n",
              "      <td>Single</td>\n",
              "      <td>Yes</td>\n",
              "    </tr>\n",
              "    <tr>\n",
              "      <th>4</th>\n",
              "      <td>&gt;35</td>\n",
              "      <td>Low</td>\n",
              "      <td>Female</td>\n",
              "      <td>Single</td>\n",
              "      <td>Yes</td>\n",
              "    </tr>\n",
              "  </tbody>\n",
              "</table>\n",
              "</div>\n",
              "      <button class=\"colab-df-convert\" onclick=\"convertToInteractive('df-ef1da8e9-a119-43e6-81e7-d0a4d0d0a30e')\"\n",
              "              title=\"Convert this dataframe to an interactive table.\"\n",
              "              style=\"display:none;\">\n",
              "        \n",
              "  <svg xmlns=\"http://www.w3.org/2000/svg\" height=\"24px\"viewBox=\"0 0 24 24\"\n",
              "       width=\"24px\">\n",
              "    <path d=\"M0 0h24v24H0V0z\" fill=\"none\"/>\n",
              "    <path d=\"M18.56 5.44l.94 2.06.94-2.06 2.06-.94-2.06-.94-.94-2.06-.94 2.06-2.06.94zm-11 1L8.5 8.5l.94-2.06 2.06-.94-2.06-.94L8.5 2.5l-.94 2.06-2.06.94zm10 10l.94 2.06.94-2.06 2.06-.94-2.06-.94-.94-2.06-.94 2.06-2.06.94z\"/><path d=\"M17.41 7.96l-1.37-1.37c-.4-.4-.92-.59-1.43-.59-.52 0-1.04.2-1.43.59L10.3 9.45l-7.72 7.72c-.78.78-.78 2.05 0 2.83L4 21.41c.39.39.9.59 1.41.59.51 0 1.02-.2 1.41-.59l7.78-7.78 2.81-2.81c.8-.78.8-2.07 0-2.86zM5.41 20L4 18.59l7.72-7.72 1.47 1.35L5.41 20z\"/>\n",
              "  </svg>\n",
              "      </button>\n",
              "      \n",
              "  <style>\n",
              "    .colab-df-container {\n",
              "      display:flex;\n",
              "      flex-wrap:wrap;\n",
              "      gap: 12px;\n",
              "    }\n",
              "\n",
              "    .colab-df-convert {\n",
              "      background-color: #E8F0FE;\n",
              "      border: none;\n",
              "      border-radius: 50%;\n",
              "      cursor: pointer;\n",
              "      display: none;\n",
              "      fill: #1967D2;\n",
              "      height: 32px;\n",
              "      padding: 0 0 0 0;\n",
              "      width: 32px;\n",
              "    }\n",
              "\n",
              "    .colab-df-convert:hover {\n",
              "      background-color: #E2EBFA;\n",
              "      box-shadow: 0px 1px 2px rgba(60, 64, 67, 0.3), 0px 1px 3px 1px rgba(60, 64, 67, 0.15);\n",
              "      fill: #174EA6;\n",
              "    }\n",
              "\n",
              "    [theme=dark] .colab-df-convert {\n",
              "      background-color: #3B4455;\n",
              "      fill: #D2E3FC;\n",
              "    }\n",
              "\n",
              "    [theme=dark] .colab-df-convert:hover {\n",
              "      background-color: #434B5C;\n",
              "      box-shadow: 0px 1px 3px 1px rgba(0, 0, 0, 0.15);\n",
              "      filter: drop-shadow(0px 1px 2px rgba(0, 0, 0, 0.3));\n",
              "      fill: #FFFFFF;\n",
              "    }\n",
              "  </style>\n",
              "\n",
              "      <script>\n",
              "        const buttonEl =\n",
              "          document.querySelector('#df-ef1da8e9-a119-43e6-81e7-d0a4d0d0a30e button.colab-df-convert');\n",
              "        buttonEl.style.display =\n",
              "          google.colab.kernel.accessAllowed ? 'block' : 'none';\n",
              "\n",
              "        async function convertToInteractive(key) {\n",
              "          const element = document.querySelector('#df-ef1da8e9-a119-43e6-81e7-d0a4d0d0a30e');\n",
              "          const dataTable =\n",
              "            await google.colab.kernel.invokeFunction('convertToInteractive',\n",
              "                                                     [key], {});\n",
              "          if (!dataTable) return;\n",
              "\n",
              "          const docLinkHtml = 'Like what you see? Visit the ' +\n",
              "            '<a target=\"_blank\" href=https://colab.research.google.com/notebooks/data_table.ipynb>data table notebook</a>'\n",
              "            + ' to learn more about interactive tables.';\n",
              "          element.innerHTML = '';\n",
              "          dataTable['output_type'] = 'display_data';\n",
              "          await google.colab.output.renderOutput(dataTable, element);\n",
              "          const docLink = document.createElement('div');\n",
              "          docLink.innerHTML = docLinkHtml;\n",
              "          element.appendChild(docLink);\n",
              "        }\n",
              "      </script>\n",
              "    </div>\n",
              "  </div>\n",
              "  "
            ]
          },
          "metadata": {},
          "execution_count": 3
        }
      ]
    },
    {
      "cell_type": "code",
      "source": [
        "train_df = df.iloc[:-1].copy()\n",
        "test_df = df.iloc[-1:].copy()"
      ],
      "metadata": {
        "id": "yaghtdXsbc4x"
      },
      "execution_count": null,
      "outputs": []
    },
    {
      "cell_type": "code",
      "source": [
        "X_train, y_train = train_df.drop('Buys', axis = 1), np.array(train_df['Buys']) == 'Yes'"
      ],
      "metadata": {
        "id": "yAY4q_XGbrs5"
      },
      "execution_count": null,
      "outputs": []
    },
    {
      "cell_type": "code",
      "source": [
        "X_test = df.drop('Buys', axis = 1)"
      ],
      "metadata": {
        "id": "GMU4uUYOb82b"
      },
      "execution_count": null,
      "outputs": []
    },
    {
      "cell_type": "code",
      "source": [
        "clf = DecisionTree()"
      ],
      "metadata": {
        "id": "645LkdN8bWTW"
      },
      "execution_count": null,
      "outputs": []
    },
    {
      "cell_type": "code",
      "source": [
        "clf.fit(X_train, y_train)"
      ],
      "metadata": {
        "id": "--E8oMKxbWTW"
      },
      "execution_count": null,
      "outputs": []
    },
    {
      "cell_type": "code",
      "source": [
        "clf.predict(X_test)"
      ],
      "metadata": {
        "colab": {
          "base_uri": "https://localhost:8080/"
        },
        "id": "yXVHt9O2eJSZ",
        "outputId": "0f28ce0e-9f76-46ce-addc-854e0630bcb7"
      },
      "execution_count": null,
      "outputs": [
        {
          "output_type": "execute_result",
          "data": {
            "text/plain": [
              "array([ True, False, False,  True, False, False, False,  True, False,\n",
              "        True, False,  True, False,  True, False])"
            ]
          },
          "metadata": {},
          "execution_count": 17
        }
      ]
    },
    {
      "cell_type": "code",
      "source": [
        "print(f'Root: {clf.tree.no.feature}, Values: {clf.tree.no.values}')"
      ],
      "metadata": {
        "colab": {
          "base_uri": "https://localhost:8080/"
        },
        "outputId": "d43db1e9-e09f-4ca3-c824-a19f32b9b8d3",
        "id": "7bJ5h-gpbWTX"
      },
      "execution_count": null,
      "outputs": [
        {
          "output_type": "stream",
          "name": "stdout",
          "text": [
            "Root: Gender, Values: ['21-35']\n"
          ]
        }
      ]
    },
    {
      "cell_type": "markdown",
      "source": [
        "# **SAES IMPLEMENTATION**"
      ],
      "metadata": {
        "id": "Xf5dq6K4X8vO"
      }
    },
    {
      "cell_type": "code",
      "source": [
        "import numpy as np"
      ],
      "metadata": {
        "id": "4iITGJB7xRJ_"
      },
      "execution_count": null,
      "outputs": []
    },
    {
      "cell_type": "code",
      "source": [
        "def nibble_to_hex(n):\n",
        "  assert len(n) <= 4, 'Invalid nibble provided.'\n",
        "  if len(n) < 4: n = (4-len(n))*'0' + n\n",
        "  return hex(int(n, 2))[2:]"
      ],
      "metadata": {
        "id": "3j9l6IlZ7fcK"
      },
      "execution_count": null,
      "outputs": []
    },
    {
      "cell_type": "code",
      "source": [
        "def hex_to_nibble(h):\n",
        "  assert len(h) == 1, 'Invalid hex digit.'\n",
        "  n = bin(int(h,16))[2:]\n",
        "  return (4-len(n))*'0' + n"
      ],
      "metadata": {
        "id": "Q5w4l9kiibej"
      },
      "execution_count": null,
      "outputs": []
    },
    {
      "cell_type": "code",
      "source": [
        "def block_to_state(b):\n",
        "  return [\n",
        "          [b[0], b[2]],\n",
        "          [b[1], b[3]]\n",
        "  ]"
      ],
      "metadata": {
        "id": "PmF7Pa1Vgq_E"
      },
      "execution_count": null,
      "outputs": []
    },
    {
      "cell_type": "code",
      "source": [
        "def state_to_block(s):\n",
        "  return [s[0][0], s[1][0], s[0][1], s[1][1]]"
      ],
      "metadata": {
        "id": "cO19oCRtgv7Y"
      },
      "execution_count": null,
      "outputs": []
    },
    {
      "cell_type": "code",
      "source": [
        "def sub_nibbles(s):\n",
        "  S = [\n",
        "       ['9', '4', 'a', 'b'],\n",
        "       ['d', '1', '8', '5'],\n",
        "       ['6', '2', '0', '3'],\n",
        "       ['c', 'e', 'f', '7']\n",
        "  ]\n",
        "  b = state_to_block(s)\n",
        "  b_new = []\n",
        "  for h in b:\n",
        "    n = hex_to_nibble(h)\n",
        "    n_new = S[int(n[:2], 2)][int(n[2:], 2)]\n",
        "    b_new.append(n_new)\n",
        "  return block_to_state(b_new)"
      ],
      "metadata": {
        "id": "yeEVAdX0hy4G"
      },
      "execution_count": null,
      "outputs": []
    },
    {
      "cell_type": "code",
      "source": [
        "def shift_rows(s):\n",
        "  return [\n",
        "          [s[0][0], s[0][1]],\n",
        "          [s[1][1], s[1][0]]\n",
        "  ]"
      ],
      "metadata": {
        "id": "3_RV6EgZhvui"
      },
      "execution_count": null,
      "outputs": []
    },
    {
      "cell_type": "code",
      "source": [
        "def mul(x, y):\n",
        "  p1 = [int(c) for c in hex_to_nibble(x)]\n",
        "  p2 = [int(c) for c in hex_to_nibble(y)]\n",
        "  return np.polymul(p1, p2)\n",
        "\n",
        "def add(x, y):\n",
        "  p = list(np.polyadd(x, y))\n",
        "  p = [c%2 for c in p]\n",
        "  _, r = np.polydiv(p, [1, 0, 0, 1, 1])\n",
        "  r = [str(int(c%2)) for c in r]\n",
        "  return nibble_to_hex(''.join(r))\n",
        "\n",
        "def mix_columns(s):\n",
        "  C = [\n",
        "       ['1', '4'],\n",
        "       ['4', '1']\n",
        "  ]\n",
        "  s_new = [\n",
        "           [None, None],\n",
        "           [None, None]\n",
        "  ]\n",
        "  for i in range(2):\n",
        "    for j in range(2):\n",
        "      s_new[i][j] = add(mul(C[i][0], s[0][j]), mul(C[i][1], s[1][j]))\n",
        "  return s_new"
      ],
      "metadata": {
        "id": "NKqCFzDSlZDA"
      },
      "execution_count": null,
      "outputs": []
    },
    {
      "cell_type": "code",
      "source": [
        "def rot_word(w):\n",
        "  return [w[1], w[0]]\n",
        "\n",
        "def sub_word(w):\n",
        "  S = [\n",
        "       ['9', '4', 'a', 'b'],\n",
        "       ['d', '1', '8', '5'],\n",
        "       ['6', '2', '0', '3'],\n",
        "       ['c', 'e', 'f', '7']\n",
        "  ]\n",
        "  w_new = []\n",
        "  for h in w:\n",
        "    n = hex_to_nibble(h)\n",
        "    n_new = S[int(n[:2], 2)][int(n[2:], 2)]\n",
        "    w_new.append(n_new)\n",
        "  return w_new\n",
        "\n",
        "def xor(w1, w2):\n",
        "  w = []\n",
        "  for i in range(2):\n",
        "    x = int(hex_to_nibble(w1[i]), 2)\n",
        "    y = int(hex_to_nibble(w2[i]), 2)\n",
        "    w.append(nibble_to_hex(bin(x^y)[2:]))\n",
        "  return w\n",
        "\n",
        "def key_expansion(k):\n",
        "  w0, w1 = k[:2], k[2:]\n",
        "  r1 = ['8', '0']\n",
        "  t2 = xor(sub_word(rot_word(w1)), r1)\n",
        "  w2 = xor(w0, t2)\n",
        "  w3 = xor(w1, w2)\n",
        "  r2 = ['3', '0']\n",
        "  t4 = xor(sub_word(rot_word(w3)), r2)\n",
        "  w4 = xor(w2, t4)\n",
        "  w5 = xor(w3, w4)\n",
        "  return w0 + w1, w2 + w3, w4 + w5"
      ],
      "metadata": {
        "id": "oH-GRBuW3fKQ"
      },
      "execution_count": null,
      "outputs": []
    },
    {
      "cell_type": "code",
      "source": [
        "def add_round_key(k, s):\n",
        "  k_state = block_to_state(k)\n",
        "  w1 = xor([k_state[0][0], k_state[1][0]], [s[0][0], s[1][0]])\n",
        "  w2 = xor([k_state[0][1], k_state[1][1]], [s[0][1], s[1][1]])\n",
        "  return [\n",
        "          [w1[0], w2[0]],\n",
        "          [w1[1], w2[1]]\n",
        "  ]"
      ],
      "metadata": {
        "id": "8gaPDUVn8DQi"
      },
      "execution_count": null,
      "outputs": []
    },
    {
      "cell_type": "code",
      "source": [
        "def encrypt(plaintext, k):\n",
        "  k1, k2, k3 = key_expansion(k)\n",
        "  state = block_to_state(plaintext)\n",
        "  state = add_round_key(k1, state)\n",
        "  \n",
        "  ### ROUND 1\n",
        "  state = sub_nibbles(state)\n",
        "  state = shift_rows(state)\n",
        "  state = mix_columns(state)\n",
        "  state = add_round_key(k2, state)\n",
        "\n",
        "  ### ROUND 2\n",
        "  state = sub_nibbles(state)\n",
        "  state = shift_rows(state)\n",
        "  state = [\n",
        "           ['6'. '4'],\n",
        "           ['7', 'b']\n",
        "  ]\n",
        "  state = add_round_key(k3, state)\n",
        "  \n",
        "  ciphertext = state_to_block(state)\n",
        "  return ciphertext"
      ],
      "metadata": {
        "id": "g1DPv_FX67gg"
      },
      "execution_count": null,
      "outputs": []
    },
    {
      "cell_type": "code",
      "source": [
        "plaintext = ['1', 'a', '2', '3']\n",
        "key = ['2', '4', '7', '5']"
      ],
      "metadata": {
        "id": "NlS-enYS67ig"
      },
      "execution_count": null,
      "outputs": []
    },
    {
      "cell_type": "code",
      "source": [
        "encrypt(plaintext, key)"
      ],
      "metadata": {
        "colab": {
          "base_uri": "https://localhost:8080/"
        },
        "id": "fdpIZTtu67k1",
        "outputId": "dc38b9f2-3ee9-495c-f105-7d53a8b27db7"
      },
      "execution_count": null,
      "outputs": [
        {
          "output_type": "stream",
          "name": "stdout",
          "text": [
            "[['8', 'd'], ['b', '7']]\n",
            "[['8', 'd'], ['7', 'b']]\n",
            "[['d', '4'], ['a', '2']]\n"
          ]
        },
        {
          "output_type": "execute_result",
          "data": {
            "text/plain": [
              "['d', 'a', '4', '2']"
            ]
          },
          "metadata": {},
          "execution_count": 89
        }
      ]
    },
    {
      "cell_type": "markdown",
      "source": [
        "# **k-NN**"
      ],
      "metadata": {
        "id": "avoy5j0hFG9Q"
      }
    },
    {
      "cell_type": "code",
      "source": [
        "import numpy as np"
      ],
      "metadata": {
        "id": "SQSqboFeK5MT"
      },
      "execution_count": 34,
      "outputs": []
    },
    {
      "cell_type": "code",
      "source": [
        "class kNN:\n",
        "  def __init__(self, k):\n",
        "    self.k = k\n",
        "    self.X = []\n",
        "    self.y = []\n",
        "\n",
        "  def fit(self, X, y):\n",
        "    self.X = self.X + X\n",
        "    self.y = self.y + y\n",
        "\n",
        "  def __distance(self, x, y):\n",
        "    return (x[0] - y[0]) ** 2 + (x[1] - y[1]) ** 2\n",
        "\n",
        "  def __get_class(self, X):\n",
        "    distances = []\n",
        "    for i in range(len(self.X)):\n",
        "      distances.append((self.__distance(X, self.X[i]), self.y[i]))\n",
        "    distances.sort()\n",
        "    distances = distances[:self.k]\n",
        "    counts = {}\n",
        "    for d in distances:\n",
        "      try: counts[d[1]] += 1\n",
        "      except: counts[d[1]] = 1\n",
        "    return max(counts, key = lambda i: counts[i])\n",
        "\n",
        "  def predict(self, X):\n",
        "    preds = []\n",
        "    for x in X:\n",
        "      preds.append(self.__get_class(x))\n",
        "    return preds\n",
        "\n",
        "  def __get_weighted_class(self, X):\n",
        "    distances = []\n",
        "    for i in range(len(self.X)):\n",
        "      distances.append((self.__distance(X, self.X[i]), self.y[i]))\n",
        "    distances.sort()\n",
        "    distances = distances[:self.k]\n",
        "#    print(distances)\n",
        "    counts = {}\n",
        "    for d in distances:\n",
        " #     print(d[0])\n",
        "      try: counts[d[1]] += 1 / d[0]\n",
        "      except: counts[d[1]] = 1 / d[0]\n",
        "    return max(counts, key = lambda i: counts[i])\n",
        "\n",
        "  def predict_weighted(self, X):\n",
        "    preds = []\n",
        "    for x in X:\n",
        "      preds.append(self.__get_weighted_class(x))\n",
        "    return preds\n",
        "\n",
        "  def __get_locally_weighted_average_class(self, X):\n",
        "    distances = []\n",
        "    for i in range(len(self.X)):\n",
        "      distances.append((self.__distance(X, self.X[i]), self.y[i]))\n",
        "    distances.sort()\n",
        "    distances = distances[:self.k]\n",
        "    counts = {}\n",
        "    print(\"....\")\n",
        "    for d in distances:\n",
        "      try: counts[d[1]].append(1 / d[0])\n",
        "      except: counts[d[1]] = [1 / d[0]]\n",
        "    print(counts)\n",
        "    for c in counts:\n",
        "      counts[c] = np.mean(counts[c])\n",
        "    return max(counts, key = lambda i: counts[i])\n",
        "\n",
        "  def predict_locally_weighted_average(self, X):\n",
        "    preds = []\n",
        "    for x in X:\n",
        "      preds.append(self.__get_locally_weighted_average_class(x))\n",
        "    return preds"
      ],
      "metadata": {
        "id": "WYey_XdQ67nC"
      },
      "execution_count": 74,
      "outputs": []
    },
    {
      "cell_type": "code",
      "source": [
        "X = [\n",
        "     (2, 4),\n",
        "     (4, 6),\n",
        "     (4, 4),\n",
        "     (4, 2),\n",
        "     (6, 4),\n",
        "     (6 ,2)\n",
        "]\n",
        "y = ['Y', 'Y', 'B', 'Y', 'Y', 'B']"
      ],
      "metadata": {
        "id": "tCLkc9qnG5WA"
      },
      "execution_count": 75,
      "outputs": []
    },
    {
      "cell_type": "code",
      "source": [
        "model = kNN(3)"
      ],
      "metadata": {
        "id": "UAzURS0CI3hp"
      },
      "execution_count": 76,
      "outputs": []
    },
    {
      "cell_type": "code",
      "source": [
        "model.fit(X, y)"
      ],
      "metadata": {
        "id": "Qs2VUefNI6KA"
      },
      "execution_count": 77,
      "outputs": []
    },
    {
      "cell_type": "code",
      "source": [
        "print(f'Standard k-NN: {model.predict([(6, 6)])}')"
      ],
      "metadata": {
        "colab": {
          "base_uri": "https://localhost:8080/"
        },
        "id": "X8J3rNSlLUUA",
        "outputId": "3854fedd-1d9d-4314-8937-aac737909c88"
      },
      "execution_count": 78,
      "outputs": [
        {
          "output_type": "stream",
          "name": "stdout",
          "text": [
            "Standard k-NN: ['Y']\n"
          ]
        }
      ]
    },
    {
      "cell_type": "code",
      "source": [
        "print(f'Distance Weighted k-NN: {model.predict_weighted([(6, 6)])}')"
      ],
      "metadata": {
        "colab": {
          "base_uri": "https://localhost:8080/"
        },
        "id": "D0j78URcI7qq",
        "outputId": "ac9a17ca-a913-430c-e093-37bc770cf060"
      },
      "execution_count": 79,
      "outputs": [
        {
          "output_type": "stream",
          "name": "stdout",
          "text": [
            "Distance Weighted k-NN: ['Y']\n"
          ]
        }
      ]
    },
    {
      "cell_type": "code",
      "source": [
        "print(f'Locally Weighted Average k-NN: {model.predict_locally_weighted_average([(6, 6)])}')"
      ],
      "metadata": {
        "colab": {
          "base_uri": "https://localhost:8080/"
        },
        "id": "eM-ohehRI_OW",
        "outputId": "38f618a9-5a53-4ee6-9664-ce3acf9da6ae"
      },
      "execution_count": 80,
      "outputs": [
        {
          "output_type": "stream",
          "name": "stdout",
          "text": [
            "....\n",
            "{'Y': [0.25, 0.25], 'B': [0.125]}\n",
            "Locally Weighted Average k-NN: ['Y']\n"
          ]
        }
      ]
    },
    {
      "cell_type": "markdown",
      "source": [
        "# **K-MEANS CLUSTERING**"
      ],
      "metadata": {
        "id": "PHzpUZc2VeP5"
      }
    },
    {
      "cell_type": "code",
      "source": [
        "import pandas as pd\n",
        "import seaborn as sns\n",
        "sns.set(rc={'figure.figsize':(7, 7)})"
      ],
      "metadata": {
        "id": "fqEAbwb9aUlF"
      },
      "execution_count": 81,
      "outputs": []
    },
    {
      "cell_type": "code",
      "source": [
        "class KMeans:\n",
        "  def __init__(self, k):\n",
        "    self.k = k\n",
        "\n",
        "  def __distance(self, x, y):\n",
        "    return (x[0] - y[0]) ** 2 + (x[1] - y[1]) ** 2\n",
        "\n",
        "  def fit(self, points, centroids):\n",
        "    prev_clusters = None\n",
        "    clusters = [set() for _ in range(self.k)]\n",
        "    print(clusters)\n",
        "\n",
        "    while prev_clusters != clusters:\n",
        "      prev_clusters = clusters\n",
        "      for p in points:\n",
        "        idx = 0\n",
        "        for i in range(1, self.k):\n",
        "          if self.__distance(p, centroids[i]) < self.__distance(p, centroids[idx]):\n",
        "            idx = i\n",
        "        clusters[idx].add(p)\n",
        "      for i in range(self.k):\n",
        "        centroids[i] = np.mean(list(clusters[i]), axis = 0)\n",
        "    print(clusters)\n",
        "    return clusters, centroids"
      ],
      "metadata": {
        "id": "kgo2ikrsVjNZ"
      },
      "execution_count": 97,
      "outputs": []
    },
    {
      "cell_type": "code",
      "source": [
        "points = [\n",
        "          (0.1, 0.6),\n",
        "          (0.15, 0.71),\n",
        "          (0.08,0.9),\n",
        "          (0.16, 0.85),\n",
        "          (0.2,0.3),\n",
        "          (0.25,0.5),\n",
        "          (0.24,0.1),\n",
        "          (0.3,0.2)\n",
        "]"
      ],
      "metadata": {
        "id": "3ULJ7zJ1VjPU"
      },
      "execution_count": 98,
      "outputs": []
    },
    {
      "cell_type": "markdown",
      "source": [
        "## **BEFORE CLUSTERING**"
      ],
      "metadata": {
        "id": "uCNin_f1cliv"
      }
    },
    {
      "cell_type": "code",
      "source": [
        "raw_df = pd.DataFrame()\n",
        "x = [p[0] for p in points]\n",
        "y = [p[1] for p in points]\n",
        "raw_df['x'] = x\n",
        "raw_df['y'] = y\n",
        "raw_df"
      ],
      "metadata": {
        "colab": {
          "base_uri": "https://localhost:8080/",
          "height": 300
        },
        "id": "ElWzQzayajmg",
        "outputId": "34b97908-cda7-4e96-f9c5-836377596dc1"
      },
      "execution_count": 99,
      "outputs": [
        {
          "output_type": "execute_result",
          "data": {
            "text/plain": [
              "      x     y\n",
              "0  0.10  0.60\n",
              "1  0.15  0.71\n",
              "2  0.08  0.90\n",
              "3  0.16  0.85\n",
              "4  0.20  0.30\n",
              "5  0.25  0.50\n",
              "6  0.24  0.10\n",
              "7  0.30  0.20"
            ],
            "text/html": [
              "\n",
              "  <div id=\"df-8e7518be-8078-40c4-9762-aa2d80993506\">\n",
              "    <div class=\"colab-df-container\">\n",
              "      <div>\n",
              "<style scoped>\n",
              "    .dataframe tbody tr th:only-of-type {\n",
              "        vertical-align: middle;\n",
              "    }\n",
              "\n",
              "    .dataframe tbody tr th {\n",
              "        vertical-align: top;\n",
              "    }\n",
              "\n",
              "    .dataframe thead th {\n",
              "        text-align: right;\n",
              "    }\n",
              "</style>\n",
              "<table border=\"1\" class=\"dataframe\">\n",
              "  <thead>\n",
              "    <tr style=\"text-align: right;\">\n",
              "      <th></th>\n",
              "      <th>x</th>\n",
              "      <th>y</th>\n",
              "    </tr>\n",
              "  </thead>\n",
              "  <tbody>\n",
              "    <tr>\n",
              "      <th>0</th>\n",
              "      <td>0.10</td>\n",
              "      <td>0.60</td>\n",
              "    </tr>\n",
              "    <tr>\n",
              "      <th>1</th>\n",
              "      <td>0.15</td>\n",
              "      <td>0.71</td>\n",
              "    </tr>\n",
              "    <tr>\n",
              "      <th>2</th>\n",
              "      <td>0.08</td>\n",
              "      <td>0.90</td>\n",
              "    </tr>\n",
              "    <tr>\n",
              "      <th>3</th>\n",
              "      <td>0.16</td>\n",
              "      <td>0.85</td>\n",
              "    </tr>\n",
              "    <tr>\n",
              "      <th>4</th>\n",
              "      <td>0.20</td>\n",
              "      <td>0.30</td>\n",
              "    </tr>\n",
              "    <tr>\n",
              "      <th>5</th>\n",
              "      <td>0.25</td>\n",
              "      <td>0.50</td>\n",
              "    </tr>\n",
              "    <tr>\n",
              "      <th>6</th>\n",
              "      <td>0.24</td>\n",
              "      <td>0.10</td>\n",
              "    </tr>\n",
              "    <tr>\n",
              "      <th>7</th>\n",
              "      <td>0.30</td>\n",
              "      <td>0.20</td>\n",
              "    </tr>\n",
              "  </tbody>\n",
              "</table>\n",
              "</div>\n",
              "      <button class=\"colab-df-convert\" onclick=\"convertToInteractive('df-8e7518be-8078-40c4-9762-aa2d80993506')\"\n",
              "              title=\"Convert this dataframe to an interactive table.\"\n",
              "              style=\"display:none;\">\n",
              "        \n",
              "  <svg xmlns=\"http://www.w3.org/2000/svg\" height=\"24px\"viewBox=\"0 0 24 24\"\n",
              "       width=\"24px\">\n",
              "    <path d=\"M0 0h24v24H0V0z\" fill=\"none\"/>\n",
              "    <path d=\"M18.56 5.44l.94 2.06.94-2.06 2.06-.94-2.06-.94-.94-2.06-.94 2.06-2.06.94zm-11 1L8.5 8.5l.94-2.06 2.06-.94-2.06-.94L8.5 2.5l-.94 2.06-2.06.94zm10 10l.94 2.06.94-2.06 2.06-.94-2.06-.94-.94-2.06-.94 2.06-2.06.94z\"/><path d=\"M17.41 7.96l-1.37-1.37c-.4-.4-.92-.59-1.43-.59-.52 0-1.04.2-1.43.59L10.3 9.45l-7.72 7.72c-.78.78-.78 2.05 0 2.83L4 21.41c.39.39.9.59 1.41.59.51 0 1.02-.2 1.41-.59l7.78-7.78 2.81-2.81c.8-.78.8-2.07 0-2.86zM5.41 20L4 18.59l7.72-7.72 1.47 1.35L5.41 20z\"/>\n",
              "  </svg>\n",
              "      </button>\n",
              "      \n",
              "  <style>\n",
              "    .colab-df-container {\n",
              "      display:flex;\n",
              "      flex-wrap:wrap;\n",
              "      gap: 12px;\n",
              "    }\n",
              "\n",
              "    .colab-df-convert {\n",
              "      background-color: #E8F0FE;\n",
              "      border: none;\n",
              "      border-radius: 50%;\n",
              "      cursor: pointer;\n",
              "      display: none;\n",
              "      fill: #1967D2;\n",
              "      height: 32px;\n",
              "      padding: 0 0 0 0;\n",
              "      width: 32px;\n",
              "    }\n",
              "\n",
              "    .colab-df-convert:hover {\n",
              "      background-color: #E2EBFA;\n",
              "      box-shadow: 0px 1px 2px rgba(60, 64, 67, 0.3), 0px 1px 3px 1px rgba(60, 64, 67, 0.15);\n",
              "      fill: #174EA6;\n",
              "    }\n",
              "\n",
              "    [theme=dark] .colab-df-convert {\n",
              "      background-color: #3B4455;\n",
              "      fill: #D2E3FC;\n",
              "    }\n",
              "\n",
              "    [theme=dark] .colab-df-convert:hover {\n",
              "      background-color: #434B5C;\n",
              "      box-shadow: 0px 1px 3px 1px rgba(0, 0, 0, 0.15);\n",
              "      filter: drop-shadow(0px 1px 2px rgba(0, 0, 0, 0.3));\n",
              "      fill: #FFFFFF;\n",
              "    }\n",
              "  </style>\n",
              "\n",
              "      <script>\n",
              "        const buttonEl =\n",
              "          document.querySelector('#df-8e7518be-8078-40c4-9762-aa2d80993506 button.colab-df-convert');\n",
              "        buttonEl.style.display =\n",
              "          google.colab.kernel.accessAllowed ? 'block' : 'none';\n",
              "\n",
              "        async function convertToInteractive(key) {\n",
              "          const element = document.querySelector('#df-8e7518be-8078-40c4-9762-aa2d80993506');\n",
              "          const dataTable =\n",
              "            await google.colab.kernel.invokeFunction('convertToInteractive',\n",
              "                                                     [key], {});\n",
              "          if (!dataTable) return;\n",
              "\n",
              "          const docLinkHtml = 'Like what you see? Visit the ' +\n",
              "            '<a target=\"_blank\" href=https://colab.research.google.com/notebooks/data_table.ipynb>data table notebook</a>'\n",
              "            + ' to learn more about interactive tables.';\n",
              "          element.innerHTML = '';\n",
              "          dataTable['output_type'] = 'display_data';\n",
              "          await google.colab.output.renderOutput(dataTable, element);\n",
              "          const docLink = document.createElement('div');\n",
              "          docLink.innerHTML = docLinkHtml;\n",
              "          element.appendChild(docLink);\n",
              "        }\n",
              "      </script>\n",
              "    </div>\n",
              "  </div>\n",
              "  "
            ]
          },
          "metadata": {},
          "execution_count": 99
        }
      ]
    },
    {
      "cell_type": "code",
      "source": [
        "sns.scatterplot(data = raw_df, x = 'x', y = 'y')"
      ],
      "metadata": {
        "colab": {
          "base_uri": "https://localhost:8080/",
          "height": 465
        },
        "id": "Ntnm9SCka38K",
        "outputId": "ba9b8b0c-3be7-4ccc-e649-bf996d8dddb4"
      },
      "execution_count": 100,
      "outputs": [
        {
          "output_type": "execute_result",
          "data": {
            "text/plain": [
              "<matplotlib.axes._subplots.AxesSubplot at 0x7f9923a66cd0>"
            ]
          },
          "metadata": {},
          "execution_count": 100
        },
        {
          "output_type": "display_data",
          "data": {
            "text/plain": [
              "<Figure size 504x504 with 1 Axes>"
            ],
            "image/png": "[encoded data removed]"
          },
          "metadata": {}
        }
      ]
    },
    {
      "cell_type": "markdown",
      "source": [
        "## **AFTER CLUSTERING**"
      ],
      "metadata": {
        "id": "Ak9TVDlScou8"
      }
    },
    {
      "cell_type": "code",
      "source": [
        "model = KMeans(2)"
      ],
      "metadata": {
        "id": "dGDe-NILVjTV"
      },
      "execution_count": 101,
      "outputs": []
    },
    {
      "cell_type": "code",
      "source": [
        "clusters, centroids = model.fit(points, centroids = [(0.1, 0.6),(0.3,0.2)])"
      ],
      "metadata": {
        "id": "c5-7gyEYVjVG",
        "colab": {
          "base_uri": "https://localhost:8080/"
        },
        "outputId": "3b469ad7-5130-412a-e1bf-55babbc1fb86"
      },
      "execution_count": 102,
      "outputs": [
        {
          "output_type": "stream",
          "name": "stdout",
          "text": [
            "[set(), set()]\n",
            "[{(0.08, 0.9), (0.16, 0.85), (0.1, 0.6), (0.15, 0.71), (0.25, 0.5)}, {(0.2, 0.3), (0.24, 0.1), (0.3, 0.2)}]\n"
          ]
        }
      ]
    },
    {
      "cell_type": "code",
      "source": [
        "print(centroids)"
      ],
      "metadata": {
        "colab": {
          "base_uri": "https://localhost:8080/"
        },
        "id": "NFdyBAQNNBlz",
        "outputId": "09034375-ebc2-4de8-ce56-c8c5edb5a55b"
      },
      "execution_count": 103,
      "outputs": [
        {
          "output_type": "stream",
          "name": "stdout",
          "text": [
            "[array([0.148, 0.712]), array([0.24666667, 0.2       ])]\n"
          ]
        }
      ]
    },
    {
      "cell_type": "code",
      "source": [
        "clustered_df = pd.DataFrame()\n",
        "x = []\n",
        "y = []\n",
        "category = []\n",
        "for i in range(len(clusters)):\n",
        "  for p in clusters[i]:\n",
        "    x.append(p[0])\n",
        "    y.append(p[1])\n",
        "    category.append(f'{i}')\n",
        "for c in centroids:\n",
        "  x.append(c[0])\n",
        "  y.append(c[1])\n",
        "  category.append('Centroid')\n",
        "clustered_df['x'] = x\n",
        "clustered_df['y'] = y\n",
        "clustered_df['category'] = category\n",
        "clustered_df"
      ],
      "metadata": {
        "colab": {
          "base_uri": "https://localhost:8080/",
          "height": 363
        },
        "id": "PzCUuQtxVjXa",
        "outputId": "2ca61dca-83b6-49d2-d67b-b496aee1dc26"
      },
      "execution_count": 95,
      "outputs": [
        {
          "output_type": "execute_result",
          "data": {
            "text/plain": [
              "          x      y  category\n",
              "0  0.080000  0.900         0\n",
              "1  0.160000  0.850         0\n",
              "2  0.100000  0.600         0\n",
              "3  0.150000  0.710         0\n",
              "4  0.250000  0.500         0\n",
              "5  0.200000  0.300         1\n",
              "6  0.240000  0.100         1\n",
              "7  0.300000  0.200         1\n",
              "8  0.148000  0.712  Centroid\n",
              "9  0.246667  0.200  Centroid"
            ],
            "text/html": [
              "\n",
              "  <div id=\"df-43d85edc-3092-4251-afa2-4fff37bd3269\">\n",
              "    <div class=\"colab-df-container\">\n",
              "      <div>\n",
              "<style scoped>\n",
              "    .dataframe tbody tr th:only-of-type {\n",
              "        vertical-align: middle;\n",
              "    }\n",
              "\n",
              "    .dataframe tbody tr th {\n",
              "        vertical-align: top;\n",
              "    }\n",
              "\n",
              "    .dataframe thead th {\n",
              "        text-align: right;\n",
              "    }\n",
              "</style>\n",
              "<table border=\"1\" class=\"dataframe\">\n",
              "  <thead>\n",
              "    <tr style=\"text-align: right;\">\n",
              "      <th></th>\n",
              "      <th>x</th>\n",
              "      <th>y</th>\n",
              "      <th>category</th>\n",
              "    </tr>\n",
              "  </thead>\n",
              "  <tbody>\n",
              "    <tr>\n",
              "      <th>0</th>\n",
              "      <td>0.080000</td>\n",
              "      <td>0.900</td>\n",
              "      <td>0</td>\n",
              "    </tr>\n",
              "    <tr>\n",
              "      <th>1</th>\n",
              "      <td>0.160000</td>\n",
              "      <td>0.850</td>\n",
              "      <td>0</td>\n",
              "    </tr>\n",
              "    <tr>\n",
              "      <th>2</th>\n",
              "      <td>0.100000</td>\n",
              "      <td>0.600</td>\n",
              "      <td>0</td>\n",
              "    </tr>\n",
              "    <tr>\n",
              "      <th>3</th>\n",
              "      <td>0.150000</td>\n",
              "      <td>0.710</td>\n",
              "      <td>0</td>\n",
              "    </tr>\n",
              "    <tr>\n",
              "      <th>4</th>\n",
              "      <td>0.250000</td>\n",
              "      <td>0.500</td>\n",
              "      <td>0</td>\n",
              "    </tr>\n",
              "    <tr>\n",
              "      <th>5</th>\n",
              "      <td>0.200000</td>\n",
              "      <td>0.300</td>\n",
              "      <td>1</td>\n",
              "    </tr>\n",
              "    <tr>\n",
              "      <th>6</th>\n",
              "      <td>0.240000</td>\n",
              "      <td>0.100</td>\n",
              "      <td>1</td>\n",
              "    </tr>\n",
              "    <tr>\n",
              "      <th>7</th>\n",
              "      <td>0.300000</td>\n",
              "      <td>0.200</td>\n",
              "      <td>1</td>\n",
              "    </tr>\n",
              "    <tr>\n",
              "      <th>8</th>\n",
              "      <td>0.148000</td>\n",
              "      <td>0.712</td>\n",
              "      <td>Centroid</td>\n",
              "    </tr>\n",
              "    <tr>\n",
              "      <th>9</th>\n",
              "      <td>0.246667</td>\n",
              "      <td>0.200</td>\n",
              "      <td>Centroid</td>\n",
              "    </tr>\n",
              "  </tbody>\n",
              "</table>\n",
              "</div>\n",
              "      <button class=\"colab-df-convert\" onclick=\"convertToInteractive('df-43d85edc-3092-4251-afa2-4fff37bd3269')\"\n",
              "              title=\"Convert this dataframe to an interactive table.\"\n",
              "              style=\"display:none;\">\n",
              "        \n",
              "  <svg xmlns=\"http://www.w3.org/2000/svg\" height=\"24px\"viewBox=\"0 0 24 24\"\n",
              "       width=\"24px\">\n",
              "    <path d=\"M0 0h24v24H0V0z\" fill=\"none\"/>\n",
              "    <path d=\"M18.56 5.44l.94 2.06.94-2.06 2.06-.94-2.06-.94-.94-2.06-.94 2.06-2.06.94zm-11 1L8.5 8.5l.94-2.06 2.06-.94-2.06-.94L8.5 2.5l-.94 2.06-2.06.94zm10 10l.94 2.06.94-2.06 2.06-.94-2.06-.94-.94-2.06-.94 2.06-2.06.94z\"/><path d=\"M17.41 7.96l-1.37-1.37c-.4-.4-.92-.59-1.43-.59-.52 0-1.04.2-1.43.59L10.3 9.45l-7.72 7.72c-.78.78-.78 2.05 0 2.83L4 21.41c.39.39.9.59 1.41.59.51 0 1.02-.2 1.41-.59l7.78-7.78 2.81-2.81c.8-.78.8-2.07 0-2.86zM5.41 20L4 18.59l7.72-7.72 1.47 1.35L5.41 20z\"/>\n",
              "  </svg>\n",
              "      </button>\n",
              "      \n",
              "  <style>\n",
              "    .colab-df-container {\n",
              "      display:flex;\n",
              "      flex-wrap:wrap;\n",
              "      gap: 12px;\n",
              "    }\n",
              "\n",
              "    .colab-df-convert {\n",
              "      background-color: #E8F0FE;\n",
              "      border: none;\n",
              "      border-radius: 50%;\n",
              "      cursor: pointer;\n",
              "      display: none;\n",
              "      fill: #1967D2;\n",
              "      height: 32px;\n",
              "      padding: 0 0 0 0;\n",
              "      width: 32px;\n",
              "    }\n",
              "\n",
              "    .colab-df-convert:hover {\n",
              "      background-color: #E2EBFA;\n",
              "      box-shadow: 0px 1px 2px rgba(60, 64, 67, 0.3), 0px 1px 3px 1px rgba(60, 64, 67, 0.15);\n",
              "      fill: #174EA6;\n",
              "    }\n",
              "\n",
              "    [theme=dark] .colab-df-convert {\n",
              "      background-color: #3B4455;\n",
              "      fill: #D2E3FC;\n",
              "    }\n",
              "\n",
              "    [theme=dark] .colab-df-convert:hover {\n",
              "      background-color: #434B5C;\n",
              "      box-shadow: 0px 1px 3px 1px rgba(0, 0, 0, 0.15);\n",
              "      filter: drop-shadow(0px 1px 2px rgba(0, 0, 0, 0.3));\n",
              "      fill: #FFFFFF;\n",
              "    }\n",
              "  </style>\n",
              "\n",
              "      <script>\n",
              "        const buttonEl =\n",
              "          document.querySelector('#df-43d85edc-3092-4251-afa2-4fff37bd3269 button.colab-df-convert');\n",
              "        buttonEl.style.display =\n",
              "          google.colab.kernel.accessAllowed ? 'block' : 'none';\n",
              "\n",
              "        async function convertToInteractive(key) {\n",
              "          const element = document.querySelector('#df-43d85edc-3092-4251-afa2-4fff37bd3269');\n",
              "          const dataTable =\n",
              "            await google.colab.kernel.invokeFunction('convertToInteractive',\n",
              "                                                     [key], {});\n",
              "          if (!dataTable) return;\n",
              "\n",
              "          const docLinkHtml = 'Like what you see? Visit the ' +\n",
              "            '<a target=\"_blank\" href=https://colab.research.google.com/notebooks/data_table.ipynb>data table notebook</a>'\n",
              "            + ' to learn more about interactive tables.';\n",
              "          element.innerHTML = '';\n",
              "          dataTable['output_type'] = 'display_data';\n",
              "          await google.colab.output.renderOutput(dataTable, element);\n",
              "          const docLink = document.createElement('div');\n",
              "          docLink.innerHTML = docLinkHtml;\n",
              "          element.appendChild(docLink);\n",
              "        }\n",
              "      </script>\n",
              "    </div>\n",
              "  </div>\n",
              "  "
            ]
          },
          "metadata": {},
          "execution_count": 95
        }
      ]
    },
    {
      "cell_type": "code",
      "source": [
        "sns.scatterplot(data = clustered_df, x = 'x', y = 'y', hue = 'category')"
      ],
      "metadata": {
        "colab": {
          "base_uri": "https://localhost:8080/",
          "height": 465
        },
        "id": "kv2Pqw0bb-8y",
        "outputId": "ae165d91-7bfc-4abd-85b9-1410c3685d9d"
      },
      "execution_count": 96,
      "outputs": [
        {
          "output_type": "execute_result",
          "data": {
            "text/plain": [
              "<matplotlib.axes._subplots.AxesSubplot at 0x7f9923b44690>"
            ]
          },
          "metadata": {},
          "execution_count": 96
        },
        {
          "output_type": "display_data",
          "data": {
            "text/plain": [
              "<Figure size 504x504 with 1 Axes>"
            ],
            "image/png": "[encoded data removed]"
          },
          "metadata": {}
        }
      ]
    },
    {
      "cell_type": "markdown",
      "source": [
        "# **DIFFIE-HELLMAN KEY EXCHANGE**"
      ],
      "metadata": {
        "id": "WYpezy6rguhI"
      }
    },
    {
      "cell_type": "code",
      "source": [
        "### PUBLIC KEYS\n",
        "P = 17\n",
        "G = 27"
      ],
      "metadata": {
        "id": "Cg98ExD8g0u6"
      },
      "execution_count": null,
      "outputs": []
    },
    {
      "cell_type": "code",
      "source": [
        "### PRIVATE KEYS\n",
        "a = 13\n",
        "b = 9"
      ],
      "metadata": {
        "id": "ImKvrL9ig0xI"
      },
      "execution_count": null,
      "outputs": []
    },
    {
      "cell_type": "code",
      "source": [
        "### GENERATE KEYS\n",
        "x = (G ** a) % P\n",
        "y = (G ** b) % P\n",
        "print(f'Generated Keys - x: {x}, y: {y}')"
      ],
      "metadata": {
        "colab": {
          "base_uri": "https://localhost:8080/"
        },
        "id": "vAyUAUEng0zP",
        "outputId": "de190573-7d34-4b89-d6f7-9b98736c4153"
      },
      "execution_count": null,
      "outputs": [
        {
          "output_type": "stream",
          "name": "stdout",
          "text": [
            "Generated Keys - x: 11, y: 7\n"
          ]
        }
      ]
    },
    {
      "cell_type": "code",
      "source": [
        "### GENERATE SECRET KEY WITH x AND y\n",
        "key_a = (y ** a) % P\n",
        "key_b = (x ** b) % P\n",
        "print(f'Generated Secret Keys - KEY-A: {key_a}, KEY-B: {key_b}')"
      ],
      "metadata": {
        "colab": {
          "base_uri": "https://localhost:8080/"
        },
        "id": "d3BXzsiFg01N",
        "outputId": "ceda04c8-bc0b-4863-f8ab-5f55617184f4"
      },
      "execution_count": null,
      "outputs": [
        {
          "output_type": "stream",
          "name": "stdout",
          "text": [
            "Generated Secret Keys - KEY-A: 6, KEY-B: 6\n"
          ]
        }
      ]
    },
    {
      "cell_type": "markdown",
      "source": [
        "# **RSA**"
      ],
      "metadata": {
        "id": "GaDYqjw6llPn"
      }
    },
    {
      "cell_type": "code",
      "source": [
        "import numpy as np"
      ],
      "metadata": {
        "id": "Uu50tr7-m418"
      },
      "execution_count": null,
      "outputs": []
    },
    {
      "cell_type": "code",
      "source": [
        "class RSA:\n",
        "  def __init__(self):\n",
        "    self.P = 53\n",
        "    self.Q = 59\n",
        "    self.n = self.P * self.Q\n",
        "    self.phi = (self.P - 1) * (self.Q - 1)\n",
        "    self.e = 3\n",
        "    self.d = self.__generate_d()\n",
        "\n",
        "  def __get_random_prime(self):\n",
        "    primes = [3, 5, 7, 11, 13, 17, 19, 23, 29, 31, 37, 41, 43, 47, 53, 59, 61, 67, 71, 73, 79, 83, 89, 97]\n",
        "    return np.random.choice(primes)\n",
        "\n",
        "  def __generate_e(self):\n",
        "    for i in range(2, self.phi):\n",
        "      if self.n % i != 0: return i\n",
        "    return None\n",
        "\n",
        "  def __generate_d(self):\n",
        "    for k in range(1, self.phi):\n",
        "      if (k * self.phi + 1) % self.e == 0:\n",
        "        return (k * self.phi + 1) // self.e\n",
        "    return None\n",
        "\n",
        "  def get_public_key(self):\n",
        "    return self.n, self.e\n",
        "\n",
        "  def encrypt(self, plaintext):\n",
        "    return (plaintext ** self.e) % self.n\n",
        "\n",
        "  def decrypt(self, ciphertext):\n",
        "    return (ciphertext ** self.d) % self.n"
      ],
      "metadata": {
        "id": "gpPr3WPLlxyf"
      },
      "execution_count": null,
      "outputs": []
    },
    {
      "cell_type": "code",
      "source": [
        "enc = RSA()"
      ],
      "metadata": {
        "id": "GOeMqM6Flx2y"
      },
      "execution_count": null,
      "outputs": []
    },
    {
      "cell_type": "code",
      "source": [
        "print(f'Public-Key: {enc.get_public_key()}')"
      ],
      "metadata": {
        "colab": {
          "base_uri": "https://localhost:8080/"
        },
        "id": "Kz5Z_FH6vtiu",
        "outputId": "ae250daa-0f95-4426-8cd8-93214e627c19"
      },
      "execution_count": null,
      "outputs": [
        {
          "output_type": "stream",
          "name": "stdout",
          "text": [
            "Public-Key: (3127, 3)\n"
          ]
        }
      ]
    },
    {
      "cell_type": "code",
      "source": [
        "plaintext = 89\n",
        "ciphertext = enc.encrypt(89)"
      ],
      "metadata": {
        "id": "to_mDAvxsbBk"
      },
      "execution_count": null,
      "outputs": []
    },
    {
      "cell_type": "code",
      "source": [
        "print(f'Encrypted value of {plaintext}: {ciphertext}')"
      ],
      "metadata": {
        "colab": {
          "base_uri": "https://localhost:8080/"
        },
        "id": "U1i4JJ-puxVA",
        "outputId": "e916e801-1583-47c3-b3f3-2b62d96a0e38"
      },
      "execution_count": null,
      "outputs": [
        {
          "output_type": "stream",
          "name": "stdout",
          "text": [
            "Encrypted value of 89: 1394\n"
          ]
        }
      ]
    },
    {
      "cell_type": "code",
      "source": [
        "print(f'Decrypted value of {ciphertext}: {enc.decrypt(ciphertext)}')"
      ],
      "metadata": {
        "colab": {
          "base_uri": "https://localhost:8080/"
        },
        "id": "_FRUEY1SuiyS",
        "outputId": "3ef43e9b-df47-49cb-f918-e7f2f960acda"
      },
      "execution_count": null,
      "outputs": [
        {
          "output_type": "stream",
          "name": "stdout",
          "text": [
            "Decrypted value of 1394: 89\n"
          ]
        }
      ]
    },
    {
      "cell_type": "markdown",
      "source": [
        "# **ECC**"
      ],
      "metadata": {
        "id": "XiJZTdzMF1qP"
      }
    },
    {
      "cell_type": "code",
      "source": [
        "class ECC:\n",
        "  def __init__(self, a, b, q, G):\n",
        "    ### CURVE EQUATION = x ** 3 + a * x + b\n",
        "    self.a = a\n",
        "    self.b = b\n",
        "    self.q = q\n",
        "    self.G = G\n",
        "    self.private_key = 5\n",
        "    self.public_key = self.__generate_public_key()\n",
        "\n",
        "  def __round(self, p):\n",
        "    x, y = p\n",
        "    if abs(x - int(x)) <= 0.0001: x = int(x)\n",
        "    if abs(y - int(y)) <= 0.0001: y = int(y)\n",
        "    return (x, y)\n",
        "  \n",
        "  def negate(self, p):\n",
        "    return (p[0], -p[1])\n",
        "\n",
        "  def add(self, p1, p2):\n",
        "    if p1 == p2:\n",
        "      x = ((3*p1[0]*p1[0] + self.a)/(2*p1[1]))**2 - 2*p1[0]\n",
        "      y = -p1[1] + (3*p1[0]*p1[0] + self.a)/(2*p1[1]) * (p1[0] - x)\n",
        "    else:\n",
        "      x = ((p2[1]-p1[1])/(p2[0]-p1[0]))**2 - p1[0] - p2[0]\n",
        "      y = -p1[1] + (p2[1]-p1[1])/(p2[0]-p1[0]) * (p1[0]-x)\n",
        "    return self.__round((x, y))\n",
        "\n",
        "  def sub(self, p1, p2):\n",
        "    return self.add(p1, self.negate(p2))\n",
        "\n",
        "  def dot(self, k, p):\n",
        "    res = (p[0], p[1])\n",
        "    for _ in range(k-1):\n",
        "      res = self.add(res, p)\n",
        "      res = self.negate(res)\n",
        "    return res\n",
        "\n",
        "  def __generate_public_key(self):\n",
        "    return self.dot(self.private_key, self.G)\n",
        "\n",
        "  def get_public_key(self):\n",
        "    return self.public_key\n",
        "\n",
        "  def generate_secret_key(self, public_key):\n",
        "    self.secret_key = self.dot(self.private_key, public_key)\n",
        "\n",
        "  def encrypt(self, message, public_key):\n",
        "    k = 3\n",
        "    return (self.dot(k, G), self.add(message, self.dot(k, public_key)))\n",
        "\n",
        "  def decrypt(self, message):\n",
        "    return self.sub(message[1], self.dot(self.private_key, message[0]))"
      ],
      "metadata": {
        "id": "FCvsrGKnu6XI"
      },
      "execution_count": 1,
      "outputs": []
    },
    {
      "cell_type": "code",
      "source": [
        "a = 1\n",
        "b = 6\n",
        "q = 11\n",
        "G = (5, 2)"
      ],
      "metadata": {
        "id": "YVBxaRKnYmyV"
      },
      "execution_count": 2,
      "outputs": []
    },
    {
      "cell_type": "code",
      "source": [
        "ecc = ECC(a, b, q, G)"
      ],
      "metadata": {
        "id": "eDEZ0gw7S9DK"
      },
      "execution_count": 3,
      "outputs": []
    },
    {
      "cell_type": "code",
      "source": [
        "private_key = 8\n",
        "public_key = ecc.dot(private_key, G)\n",
        "print(f'PUBLIC-KEY: {public_key}')"
      ],
      "metadata": {
        "colab": {
          "base_uri": "https://localhost:8080/"
        },
        "id": "183dkozLVREj",
        "outputId": "a013d72c-6736-4bf7-aa52-6aa045713211"
      },
      "execution_count": 4,
      "outputs": [
        {
          "output_type": "stream",
          "name": "stdout",
          "text": [
            "PUBLIC-KEY: (351, 6576)\n"
          ]
        }
      ]
    },
    {
      "cell_type": "code",
      "source": [
        "ecc.generate_secret_key(public_key)"
      ],
      "metadata": {
        "id": "UrjLbPKwYyHV"
      },
      "execution_count": 5,
      "outputs": []
    },
    {
      "cell_type": "code",
      "source": [
        "secret_key = ecc.dot(private_key, ecc.get_public_key())\n",
        "print(f'SECRET-KEY: {secret_key}')"
      ],
      "metadata": {
        "colab": {
          "base_uri": "https://localhost:8080/"
        },
        "id": "Chyl6YQMYyJx",
        "outputId": "2ff03355-9771-4d34-984e-1b4bd049ad58"
      },
      "execution_count": 6,
      "outputs": [
        {
          "output_type": "stream",
          "name": "stdout",
          "text": [
            "SECRET-KEY: (351, 6576)\n"
          ]
        }
      ]
    },
    {
      "cell_type": "code",
      "source": [
        "message = (2, 7)\n",
        "ciphertext = ecc.encrypt(message, public_key)\n",
        "print(f'MESSAGE: {message}, CIPHERTEXT: {ciphertext}')"
      ],
      "metadata": {
        "colab": {
          "base_uri": "https://localhost:8080/"
        },
        "id": "MTglzQTCagVt",
        "outputId": "9e073d40-ae78-4c2e-a7f6-c69f690a5a05"
      },
      "execution_count": 7,
      "outputs": [
        {
          "output_type": "stream",
          "name": "stdout",
          "text": [
            "MESSAGE: (2, 7), CIPHERTEXT: ((5, 2), (1.2808433428296553, 6.536217996997118))\n"
          ]
        }
      ]
    },
    {
      "cell_type": "code",
      "source": [
        "decrypted_text = ecc.sub(ciphertext[1], ecc.dot(private_key, ciphertext[0]))\n",
        "print(f'DECRYPTED-TEXT: {decrypted_text}')"
      ],
      "metadata": {
        "colab": {
          "base_uri": "https://localhost:8080/"
        },
        "id": "B50A4gGyagXq",
        "outputId": "b52288ad-e3b7-4cff-ba49-07ad20bdcf44"
      },
      "execution_count": 8,
      "outputs": [
        {
          "output_type": "stream",
          "name": "stdout",
          "text": [
            "DECRYPTED-TEXT: (2, 7)\n"
          ]
        }
      ]
    },
    {
      "cell_type": "markdown",
      "source": [
        "# **MP 1: TSP USING GENETIC ALGORITHM**"
      ],
      "metadata": {
        "id": "OhzGHnu5rhM8"
      }
    },
    {
      "cell_type": "code",
      "source": [
        "import itertools\n",
        "from tqdm.notebook import tqdm\n",
        "import numpy as np\n",
        "np.random.seed(42)"
      ],
      "metadata": {
        "id": "FrQ9KGoQrthi"
      },
      "execution_count": null,
      "outputs": []
    },
    {
      "cell_type": "code",
      "source": [
        "class TSPGeneticAlgorithm:\n",
        "  def __init__(self, n, population_size, pc, pm):\n",
        "    self.n = n\n",
        "    self.size = population_size\n",
        "    self.pc = pc\n",
        "    self.pm = pm\n",
        "    self.nodes = np.arange(self.n)\n",
        "    self.graph = [[0 if i == j else np.random.randint(20)+1 for i in range(self.n)] for j in range(self.n)]\n",
        "    self.__init_population()\n",
        "\n",
        "  def __fitness(self, x):\n",
        "    fitness = 0\n",
        "    for i in range(self.n):\n",
        "      j = (i + 1) % self.n\n",
        "      fitness += self.graph[x[i]][x[j]]\n",
        "    return fitness\n",
        "\n",
        "  def __init_population(self):\n",
        "    self.population = [list(np.random.permutation(self.n)) for _ in range(self.size)]\n",
        "    self.global_best = self.population[0]\n",
        "\n",
        "  def __selection(self):\n",
        "    fitness_values = [200 - self.__fitness(p) for p in self.population]\n",
        "    fitness_prefix = [fitness_values[0]]\n",
        "    for i in range(1, self.size):\n",
        "      fitness_prefix.append(fitness_prefix[i-1] + fitness_values[i])\n",
        "    selected_population = []\n",
        "    for _ in range(self.size):\n",
        "      rng = np.random.randint(fitness_prefix[-1])\n",
        "      for i in range(self.size):\n",
        "        if rng < fitness_prefix[i]:\n",
        "          selected_population.append(self.population[i])\n",
        "          break\n",
        "    return selected_population\n",
        "\n",
        "  def __cross(self, x, y):\n",
        "    n = len(x)\n",
        "    cut_1 = np.random.randint(n)\n",
        "    cut_2 = np.random.randint(n)\n",
        "    if cut_2 < cut_1: cut_1, cut_2 = cut_2, cut_1\n",
        "    new_x = [None for _ in range(n)]\n",
        "    new_y = [None for _ in range(n)]\n",
        "    for i in range(cut_1, cut_2 + 1):\n",
        "      new_x[i] = y[i]\n",
        "      new_y[i] = x[i]\n",
        "    for i in range(cut_1):\n",
        "      if x[i] not in new_x: new_x[i] = x[i]\n",
        "      if y[i] not in new_y: new_y[i] = y[i]\n",
        "    for i in range(cut_2 + 1, n):\n",
        "      if x[i] not in new_x: new_x[i] = x[i]\n",
        "      if y[i] not in new_y: new_y[i] = y[i]\n",
        "\n",
        "    for i in range(n):\n",
        "      val = x[i]\n",
        "      while new_x[i] is None:\n",
        "        j = new_x.index(val)\n",
        "        if new_y[j] not in new_x:\n",
        "          new_x[i] = new_y[j]\n",
        "        else:\n",
        "          val = new_y[j]\n",
        "    for i in range(n):\n",
        "      val = y[i]\n",
        "      while new_y[i] is None:\n",
        "        j = new_y.index(val)\n",
        "        if new_x[j] not in new_y:\n",
        "          new_y[i] = new_x[j]\n",
        "        else:\n",
        "          val = new_x[j]\n",
        "\n",
        "    return new_x, new_y\n",
        "\n",
        "  # def __cross(self, x, y):\n",
        "  #   n = len(x)\n",
        "  #   cut = np.random.randint(n)\n",
        "  #   new_x, new_y = x.copy(), y.copy()\n",
        "  #   for i in range(cut, n):\n",
        "  #     new_x.remove(y[i])\n",
        "  #     new_y.remove(x[i])\n",
        "  #     new_x.append(y[i])\n",
        "  #     new_y.append(x[i])\n",
        "  #   return new_x, new_y\n",
        "\n",
        "    \n",
        "  def __crossover(self):\n",
        "    crossed_population = []\n",
        "    for i in range(0, self.size, 2):\n",
        "      if np.random.rand() <= self.pc:\n",
        "        x, y = self.__cross(self.population[i], self.population[i + 1])\n",
        "      else:\n",
        "        x, y = self.population[i], self.population[i + 1]\n",
        "      crossed_population.append(x)\n",
        "      crossed_population.append(y)\n",
        "    return crossed_population\n",
        "\n",
        "  def __mutate(self, x):\n",
        "    # for i in range(1, len(x)):\n",
        "    #   if np.random.rand() <= 0.2:\n",
        "    #     j = np.random.randint(1, len(x))\n",
        "    #     x[i], x[j] = x[j], x[i]\n",
        "    # return x\n",
        "    i = np.random.randint(1, len(x))\n",
        "    j = np.random.randint(1, len(x))\n",
        "    x[i], x[j] = x[j], x[i]\n",
        "    return x\n",
        "\n",
        "  def __mutation(self):\n",
        "    mutated_population = []\n",
        "    for p in self.population:\n",
        "      if np.random.rand() <= self.pm:\n",
        "        mutated_population.append(self.__mutate(p))\n",
        "      else:\n",
        "        mutated_population.append(p)\n",
        "    return mutated_population\n",
        "\n",
        "  def __update_global_best(self):\n",
        "    best_val = 200\n",
        "    best_sample = None\n",
        "    for p in self.population:\n",
        "      f = self.__fitness(p)\n",
        "      if f < best_val:\n",
        "        best_val = f\n",
        "        best_sample = p\n",
        "    if self.__fitness(best_sample) < self.__fitness(self.global_best):\n",
        "      self.global_best = best_sample.copy()\n",
        "\n",
        "  def __perform_iteration(self):\n",
        "    self.population = self.__selection()\n",
        "    self.population = self.__crossover()\n",
        "    self.population = self.__mutation()\n",
        "    self.__update_global_best()\n",
        "\n",
        "  def display_population(self):\n",
        "    best_val = 200\n",
        "    best_sample = None\n",
        "    for p in self.population:\n",
        "      f = self.__fitness(p)\n",
        "      print(f'SEQUENCE: {p}, FITNESS: {f}')\n",
        "      if f < best_val:\n",
        "        best_val = f\n",
        "        best_sample = p\n",
        "    print()\n",
        "    print(f'BEST SAMPLE: {best_sample}, FITNESS: {best_val}')\n",
        "    print()\n",
        "\n",
        "  def get_graph(self):\n",
        "    return self.graph\n",
        "\n",
        "  def fit(self, iterations, verbose = True):\n",
        "    print('INITIAL POPULATION:')\n",
        "    self.display_population()\n",
        "    for i in tqdm(range(iterations)):\n",
        "      self.__perform_iteration()\n",
        "      if verbose:\n",
        "        print(f'ITERATION {i+1}:')\n",
        "        self.display_population()\n",
        "    print(f'GLOBAL BEST: {self.global_best}, FITNESS: {self.__fitness(self.global_best)}')\n",
        "\n",
        "  def best_solution(self):\n",
        "    all_solutions = list(itertools.permutations(self.nodes))\n",
        "    best_sol = all_solutions[0]\n",
        "    for solution in all_solutions:\n",
        "      if self.__fitness(solution) < self.__fitness(best_sol):\n",
        "        best_sol = solution\n",
        "    print(f'BEST SOLUTION: {best_sol}, FITNESS: {self.__fitness(best_sol)}')"
      ],
      "metadata": {
        "id": "mh22qyiprthk"
      },
      "execution_count": null,
      "outputs": []
    },
    {
      "cell_type": "code",
      "source": [
        "population = TSPGeneticAlgorithm(8, 20, 0.5, 0.1)"
      ],
      "metadata": {
        "id": "FaIo_MZY68nA"
      },
      "execution_count": null,
      "outputs": []
    },
    {
      "cell_type": "code",
      "source": [
        "population.fit(10000, verbose = False)"
      ],
      "metadata": {
        "colab": {
          "base_uri": "https://localhost:8080/",
          "height": 496,
          "referenced_widgets": [
            "e27caa2885e040ab88a41b0a0c1e31e9",
            "99b198cafde74886887b4d28ce920786",
            "27708510592a4c2293b8cadd23d6c54c",
            "e04da456e6d249509451e0c61731e1fb",
            "23a5e84abdcd4aaeb774ccf428ebb7bf",
            "e72a08fa1e444f2ea374e80dc9ddade8",
            "7008d29674cd422e96754b31115cf850",
            "92b12d3ffa0d4bd1afd181efbee4c99c",
            "0c1be51cbf2448e7ba3c5c3b3aadfb73",
            "ca1b98c2eb9a4244bdca2547a4d52ba2",
            "0f8902998545450fa83d19d3487e020e"
          ]
        },
        "outputId": "508ff920-ae15-4ad7-c632-04908700b8d5",
        "id": "O2u3urA768nE"
      },
      "execution_count": null,
      "outputs": [
        {
          "output_type": "stream",
          "name": "stdout",
          "text": [
            "INITIAL POPULATION:\n",
            "SEQUENCE: [1, 2, 7, 5, 4, 6, 0, 3], FITNESS: 62\n",
            "SEQUENCE: [4, 1, 0, 3, 6, 5, 7, 2], FITNESS: 57\n",
            "SEQUENCE: [0, 2, 6, 1, 3, 4, 5, 7], FITNESS: 76\n",
            "SEQUENCE: [6, 7, 0, 1, 3, 4, 2, 5], FITNESS: 108\n",
            "SEQUENCE: [3, 6, 7, 0, 1, 5, 2, 4], FITNESS: 59\n",
            "SEQUENCE: [1, 5, 4, 6, 3, 0, 2, 7], FITNESS: 65\n",
            "SEQUENCE: [0, 1, 6, 4, 3, 2, 5, 7], FITNESS: 81\n",
            "SEQUENCE: [2, 6, 3, 4, 0, 5, 1, 7], FITNESS: 71\n",
            "SEQUENCE: [6, 4, 7, 0, 2, 1, 5, 3], FITNESS: 72\n",
            "SEQUENCE: [5, 6, 0, 3, 7, 1, 2, 4], FITNESS: 89\n",
            "SEQUENCE: [2, 4, 0, 6, 1, 3, 7, 5], FITNESS: 44\n",
            "SEQUENCE: [6, 5, 4, 3, 0, 1, 7, 2], FITNESS: 55\n",
            "SEQUENCE: [0, 7, 3, 6, 2, 1, 5, 4], FITNESS: 87\n",
            "SEQUENCE: [2, 0, 4, 6, 3, 1, 7, 5], FITNESS: 78\n",
            "SEQUENCE: [2, 7, 4, 6, 5, 1, 0, 3], FITNESS: 92\n",
            "SEQUENCE: [6, 7, 0, 2, 3, 1, 4, 5], FITNESS: 78\n",
            "SEQUENCE: [1, 3, 6, 4, 0, 2, 7, 5], FITNESS: 56\n",
            "SEQUENCE: [4, 5, 2, 0, 7, 3, 1, 6], FITNESS: 94\n",
            "SEQUENCE: [4, 6, 5, 7, 1, 3, 0, 2], FITNESS: 67\n",
            "SEQUENCE: [3, 4, 7, 0, 2, 5, 1, 6], FITNESS: 99\n",
            "\n",
            "BEST SAMPLE: [2, 4, 0, 6, 1, 3, 7, 5], FITNESS: 44\n",
            "\n"
          ]
        },
        {
          "output_type": "display_data",
          "data": {
            "text/plain": [
              "  0%|          | 0/10000 [00:00<?, ?it/s]"
            ],
            "application/vnd.jupyter.widget-view+json": {
              "version_major": 2,
              "version_minor": 0,
              "model_id": "e27caa2885e040ab88a41b0a0c1e31e9"
            }
          },
          "metadata": {}
        },
        {
          "output_type": "stream",
          "name": "stdout",
          "text": [
            "GLOBAL BEST: [2, 3, 0, 6, 4, 1, 5, 7], FITNESS: 31\n"
          ]
        }
      ]
    },
    {
      "cell_type": "code",
      "source": [
        "population.best_solution()"
      ],
      "metadata": {
        "id": "eWnM2Q4I68nF",
        "colab": {
          "base_uri": "https://localhost:8080/"
        },
        "outputId": "0db78b4b-d8e3-4791-c047-dc89858fd243"
      },
      "execution_count": null,
      "outputs": [
        {
          "output_type": "stream",
          "name": "stdout",
          "text": [
            "BEST SOLUTION: (0, 1, 5, 7, 2, 6, 4, 3), FITNESS: 31\n"
          ]
        }
      ]
    },
    {
      "cell_type": "markdown",
      "source": [
        "# **MP3: PCA ON STOCK MARKET DATASET**"
      ],
      "metadata": {
        "id": "czVjaFe3rf_5"
      }
    },
    {
      "cell_type": "code",
      "source": [
        "import pandas as pd\n",
        "import numpy as np\n",
        "import seaborn as sns"
      ],
      "metadata": {
        "id": "w8pK5yUJrfGc"
      },
      "execution_count": null,
      "outputs": []
    },
    {
      "cell_type": "markdown",
      "source": [
        "## **TRANSFORMING DATASET**"
      ],
      "metadata": {
        "id": "CKqpk6L_rqch"
      }
    },
    {
      "cell_type": "code",
      "source": [
        "df = pd.read_csv('dataset.csv')\n",
        "df.head()"
      ],
      "metadata": {
        "colab": {
          "base_uri": "https://localhost:8080/",
          "height": 206
        },
        "id": "e8O8TEWQrm9M",
        "outputId": "40bd5185-588b-47de-d83b-4e5f4439380c"
      },
      "execution_count": null,
      "outputs": [
        {
          "output_type": "execute_result",
          "data": {
            "text/plain": [
              "         Date      Symbol Series  Prev Close    Open     High    Low   Last  \\\n",
              "0  2007-11-27  MUNDRAPORT     EQ      440.00  770.00  1050.00  770.0  959.0   \n",
              "1  2007-11-28  MUNDRAPORT     EQ      962.90  984.00   990.00  874.0  885.0   \n",
              "2  2007-11-29  MUNDRAPORT     EQ      893.90  909.00   914.75  841.0  887.0   \n",
              "3  2007-11-30  MUNDRAPORT     EQ      884.20  890.00   958.00  890.0  929.0   \n",
              "4  2007-12-03  MUNDRAPORT     EQ      921.55  939.75   995.00  922.0  980.0   \n",
              "\n",
              "    Close    VWAP    Volume      Turnover  Trades  Deliverable Volume  \\\n",
              "0  962.90  984.72  27294366  2.687719e+15     NaN             9859619   \n",
              "1  893.90  941.38   4581338  4.312765e+14     NaN             1453278   \n",
              "2  884.20  888.09   5124121  4.550658e+14     NaN             1069678   \n",
              "3  921.55  929.17   4609762  4.283257e+14     NaN             1260913   \n",
              "4  969.30  965.65   2977470  2.875200e+14     NaN              816123   \n",
              "\n",
              "   %Deliverble  \n",
              "0       0.3612  \n",
              "1       0.3172  \n",
              "2       0.2088  \n",
              "3       0.2735  \n",
              "4       0.2741  "
            ],
            "text/html": [
              "\n",
              "  <div id=\"df-8a85633c-5464-4fbb-90c8-05384ca31784\">\n",
              "    <div class=\"colab-df-container\">\n",
              "      <div>\n",
              "<style scoped>\n",
              "    .dataframe tbody tr th:only-of-type {\n",
              "        vertical-align: middle;\n",
              "    }\n",
              "\n",
              "    .dataframe tbody tr th {\n",
              "        vertical-align: top;\n",
              "    }\n",
              "\n",
              "    .dataframe thead th {\n",
              "        text-align: right;\n",
              "    }\n",
              "</style>\n",
              "<table border=\"1\" class=\"dataframe\">\n",
              "  <thead>\n",
              "    <tr style=\"text-align: right;\">\n",
              "      <th></th>\n",
              "      <th>Date</th>\n",
              "      <th>Symbol</th>\n",
              "      <th>Series</th>\n",
              "      <th>Prev Close</th>\n",
              "      <th>Open</th>\n",
              "      <th>High</th>\n",
              "      <th>Low</th>\n",
              "      <th>Last</th>\n",
              "      <th>Close</th>\n",
              "      <th>VWAP</th>\n",
              "      <th>Volume</th>\n",
              "      <th>Turnover</th>\n",
              "      <th>Trades</th>\n",
              "      <th>Deliverable Volume</th>\n",
              "      <th>%Deliverble</th>\n",
              "    </tr>\n",
              "  </thead>\n",
              "  <tbody>\n",
              "    <tr>\n",
              "      <th>0</th>\n",
              "      <td>2007-11-27</td>\n",
              "      <td>MUNDRAPORT</td>\n",
              "      <td>EQ</td>\n",
              "      <td>440.00</td>\n",
              "      <td>770.00</td>\n",
              "      <td>1050.00</td>\n",
              "      <td>770.0</td>\n",
              "      <td>959.0</td>\n",
              "      <td>962.90</td>\n",
              "      <td>984.72</td>\n",
              "      <td>27294366</td>\n",
              "      <td>2.687719e+15</td>\n",
              "      <td>NaN</td>\n",
              "      <td>9859619</td>\n",
              "      <td>0.3612</td>\n",
              "    </tr>\n",
              "    <tr>\n",
              "      <th>1</th>\n",
              "      <td>2007-11-28</td>\n",
              "      <td>MUNDRAPORT</td>\n",
              "      <td>EQ</td>\n",
              "      <td>962.90</td>\n",
              "      <td>984.00</td>\n",
              "      <td>990.00</td>\n",
              "      <td>874.0</td>\n",
              "      <td>885.0</td>\n",
              "      <td>893.90</td>\n",
              "      <td>941.38</td>\n",
              "      <td>4581338</td>\n",
              "      <td>4.312765e+14</td>\n",
              "      <td>NaN</td>\n",
              "      <td>1453278</td>\n",
              "      <td>0.3172</td>\n",
              "    </tr>\n",
              "    <tr>\n",
              "      <th>2</th>\n",
              "      <td>2007-11-29</td>\n",
              "      <td>MUNDRAPORT</td>\n",
              "      <td>EQ</td>\n",
              "      <td>893.90</td>\n",
              "      <td>909.00</td>\n",
              "      <td>914.75</td>\n",
              "      <td>841.0</td>\n",
              "      <td>887.0</td>\n",
              "      <td>884.20</td>\n",
              "      <td>888.09</td>\n",
              "      <td>5124121</td>\n",
              "      <td>4.550658e+14</td>\n",
              "      <td>NaN</td>\n",
              "      <td>1069678</td>\n",
              "      <td>0.2088</td>\n",
              "    </tr>\n",
              "    <tr>\n",
              "      <th>3</th>\n",
              "      <td>2007-11-30</td>\n",
              "      <td>MUNDRAPORT</td>\n",
              "      <td>EQ</td>\n",
              "      <td>884.20</td>\n",
              "      <td>890.00</td>\n",
              "      <td>958.00</td>\n",
              "      <td>890.0</td>\n",
              "      <td>929.0</td>\n",
              "      <td>921.55</td>\n",
              "      <td>929.17</td>\n",
              "      <td>4609762</td>\n",
              "      <td>4.283257e+14</td>\n",
              "      <td>NaN</td>\n",
              "      <td>1260913</td>\n",
              "      <td>0.2735</td>\n",
              "    </tr>\n",
              "    <tr>\n",
              "      <th>4</th>\n",
              "      <td>2007-12-03</td>\n",
              "      <td>MUNDRAPORT</td>\n",
              "      <td>EQ</td>\n",
              "      <td>921.55</td>\n",
              "      <td>939.75</td>\n",
              "      <td>995.00</td>\n",
              "      <td>922.0</td>\n",
              "      <td>980.0</td>\n",
              "      <td>969.30</td>\n",
              "      <td>965.65</td>\n",
              "      <td>2977470</td>\n",
              "      <td>2.875200e+14</td>\n",
              "      <td>NaN</td>\n",
              "      <td>816123</td>\n",
              "      <td>0.2741</td>\n",
              "    </tr>\n",
              "  </tbody>\n",
              "</table>\n",
              "</div>\n",
              "      <button class=\"colab-df-convert\" onclick=\"convertToInteractive('df-8a85633c-5464-4fbb-90c8-05384ca31784')\"\n",
              "              title=\"Convert this dataframe to an interactive table.\"\n",
              "              style=\"display:none;\">\n",
              "        \n",
              "  <svg xmlns=\"http://www.w3.org/2000/svg\" height=\"24px\"viewBox=\"0 0 24 24\"\n",
              "       width=\"24px\">\n",
              "    <path d=\"M0 0h24v24H0V0z\" fill=\"none\"/>\n",
              "    <path d=\"M18.56 5.44l.94 2.06.94-2.06 2.06-.94-2.06-.94-.94-2.06-.94 2.06-2.06.94zm-11 1L8.5 8.5l.94-2.06 2.06-.94-2.06-.94L8.5 2.5l-.94 2.06-2.06.94zm10 10l.94 2.06.94-2.06 2.06-.94-2.06-.94-.94-2.06-.94 2.06-2.06.94z\"/><path d=\"M17.41 7.96l-1.37-1.37c-.4-.4-.92-.59-1.43-.59-.52 0-1.04.2-1.43.59L10.3 9.45l-7.72 7.72c-.78.78-.78 2.05 0 2.83L4 21.41c.39.39.9.59 1.41.59.51 0 1.02-.2 1.41-.59l7.78-7.78 2.81-2.81c.8-.78.8-2.07 0-2.86zM5.41 20L4 18.59l7.72-7.72 1.47 1.35L5.41 20z\"/>\n",
              "  </svg>\n",
              "      </button>\n",
              "      \n",
              "  <style>\n",
              "    .colab-df-container {\n",
              "      display:flex;\n",
              "      flex-wrap:wrap;\n",
              "      gap: 12px;\n",
              "    }\n",
              "\n",
              "    .colab-df-convert {\n",
              "      background-color: #E8F0FE;\n",
              "      border: none;\n",
              "      border-radius: 50%;\n",
              "      cursor: pointer;\n",
              "      display: none;\n",
              "      fill: #1967D2;\n",
              "      height: 32px;\n",
              "      padding: 0 0 0 0;\n",
              "      width: 32px;\n",
              "    }\n",
              "\n",
              "    .colab-df-convert:hover {\n",
              "      background-color: #E2EBFA;\n",
              "      box-shadow: 0px 1px 2px rgba(60, 64, 67, 0.3), 0px 1px 3px 1px rgba(60, 64, 67, 0.15);\n",
              "      fill: #174EA6;\n",
              "    }\n",
              "\n",
              "    [theme=dark] .colab-df-convert {\n",
              "      background-color: #3B4455;\n",
              "      fill: #D2E3FC;\n",
              "    }\n",
              "\n",
              "    [theme=dark] .colab-df-convert:hover {\n",
              "      background-color: #434B5C;\n",
              "      box-shadow: 0px 1px 3px 1px rgba(0, 0, 0, 0.15);\n",
              "      filter: drop-shadow(0px 1px 2px rgba(0, 0, 0, 0.3));\n",
              "      fill: #FFFFFF;\n",
              "    }\n",
              "  </style>\n",
              "\n",
              "      <script>\n",
              "        const buttonEl =\n",
              "          document.querySelector('#df-8a85633c-5464-4fbb-90c8-05384ca31784 button.colab-df-convert');\n",
              "        buttonEl.style.display =\n",
              "          google.colab.kernel.accessAllowed ? 'block' : 'none';\n",
              "\n",
              "        async function convertToInteractive(key) {\n",
              "          const element = document.querySelector('#df-8a85633c-5464-4fbb-90c8-05384ca31784');\n",
              "          const dataTable =\n",
              "            await google.colab.kernel.invokeFunction('convertToInteractive',\n",
              "                                                     [key], {});\n",
              "          if (!dataTable) return;\n",
              "\n",
              "          const docLinkHtml = 'Like what you see? Visit the ' +\n",
              "            '<a target=\"_blank\" href=https://colab.research.google.com/notebooks/data_table.ipynb>data table notebook</a>'\n",
              "            + ' to learn more about interactive tables.';\n",
              "          element.innerHTML = '';\n",
              "          dataTable['output_type'] = 'display_data';\n",
              "          await google.colab.output.renderOutput(dataTable, element);\n",
              "          const docLink = document.createElement('div');\n",
              "          docLink.innerHTML = docLinkHtml;\n",
              "          element.appendChild(docLink);\n",
              "        }\n",
              "      </script>\n",
              "    </div>\n",
              "  </div>\n",
              "  "
            ]
          },
          "metadata": {},
          "execution_count": 18
        }
      ]
    },
    {
      "cell_type": "code",
      "source": [
        "df = df[1000:1100].copy()"
      ],
      "metadata": {
        "id": "SCHrAA6HrnUx"
      },
      "execution_count": null,
      "outputs": []
    },
    {
      "cell_type": "code",
      "source": [
        "df.drop('Date', axis = 1, inplace = True)"
      ],
      "metadata": {
        "id": "uDulWd1rrnW1"
      },
      "execution_count": null,
      "outputs": []
    },
    {
      "cell_type": "code",
      "source": [
        "cat_col = ['Symbol', 'Series']\n",
        "for col in cat_col:\n",
        "  vals = list(df[col].unique())\n",
        "  new_vals = []\n",
        "  for x in df[col]:\n",
        "    new_vals.append(vals.index(x))\n",
        "  df.drop(col, axis = 1, inplace = True)\n",
        "  df[col] = new_vals"
      ],
      "metadata": {
        "id": "ol8kuAzXrnbS"
      },
      "execution_count": null,
      "outputs": []
    },
    {
      "cell_type": "code",
      "source": [
        "df.head()"
      ],
      "metadata": {
        "colab": {
          "base_uri": "https://localhost:8080/",
          "height": 206
        },
        "id": "EKxlMFRgs4rK",
        "outputId": "d3c509b5-d9b2-444b-ad8b-76d4d194521c"
      },
      "execution_count": null,
      "outputs": [
        {
          "output_type": "execute_result",
          "data": {
            "text/plain": [
              "      Prev Close    Open    High     Low    Last   Close    VWAP   Volume  \\\n",
              "1000      127.05  127.10  129.50  124.40  126.65  126.65  126.97  1062095   \n",
              "1001      126.65  124.20  125.75  118.50  120.00  119.70  120.85  1292516   \n",
              "1002      119.70  120.90  123.80  117.70  122.60  121.50  120.64  2207343   \n",
              "1003      121.50  123.15  125.20  122.05  124.00  123.65  123.39   738177   \n",
              "1004      123.65  123.65  124.90  121.90  123.85  123.95  123.86  1208491   \n",
              "\n",
              "          Turnover   Trades  Deliverable Volume  %Deliverble  Symbol  Series  \n",
              "1000  1.348560e+13  15134.0              547708       0.5157       0       0  \n",
              "1001  1.562068e+13  17776.0              852083       0.6592       0       0  \n",
              "1002  2.662863e+13  14925.0             1410175       0.6389       0       0  \n",
              "1003  9.108214e+12  20340.0              470913       0.6379       0       0  \n",
              "1004  1.496877e+13   9222.0              828671       0.6857       0       0  "
            ],
            "text/html": [
              "\n",
              "  <div id=\"df-12251756-ff57-45b9-a9d0-df29cda38ece\">\n",
              "    <div class=\"colab-df-container\">\n",
              "      <div>\n",
              "<style scoped>\n",
              "    .dataframe tbody tr th:only-of-type {\n",
              "        vertical-align: middle;\n",
              "    }\n",
              "\n",
              "    .dataframe tbody tr th {\n",
              "        vertical-align: top;\n",
              "    }\n",
              "\n",
              "    .dataframe thead th {\n",
              "        text-align: right;\n",
              "    }\n",
              "</style>\n",
              "<table border=\"1\" class=\"dataframe\">\n",
              "  <thead>\n",
              "    <tr style=\"text-align: right;\">\n",
              "      <th></th>\n",
              "      <th>Prev Close</th>\n",
              "      <th>Open</th>\n",
              "      <th>High</th>\n",
              "      <th>Low</th>\n",
              "      <th>Last</th>\n",
              "      <th>Close</th>\n",
              "      <th>VWAP</th>\n",
              "      <th>Volume</th>\n",
              "      <th>Turnover</th>\n",
              "      <th>Trades</th>\n",
              "      <th>Deliverable Volume</th>\n",
              "      <th>%Deliverble</th>\n",
              "      <th>Symbol</th>\n",
              "      <th>Series</th>\n",
              "    </tr>\n",
              "  </thead>\n",
              "  <tbody>\n",
              "    <tr>\n",
              "      <th>1000</th>\n",
              "      <td>127.05</td>\n",
              "      <td>127.10</td>\n",
              "      <td>129.50</td>\n",
              "      <td>124.40</td>\n",
              "      <td>126.65</td>\n",
              "      <td>126.65</td>\n",
              "      <td>126.97</td>\n",
              "      <td>1062095</td>\n",
              "      <td>1.348560e+13</td>\n",
              "      <td>15134.0</td>\n",
              "      <td>547708</td>\n",
              "      <td>0.5157</td>\n",
              "      <td>0</td>\n",
              "      <td>0</td>\n",
              "    </tr>\n",
              "    <tr>\n",
              "      <th>1001</th>\n",
              "      <td>126.65</td>\n",
              "      <td>124.20</td>\n",
              "      <td>125.75</td>\n",
              "      <td>118.50</td>\n",
              "      <td>120.00</td>\n",
              "      <td>119.70</td>\n",
              "      <td>120.85</td>\n",
              "      <td>1292516</td>\n",
              "      <td>1.562068e+13</td>\n",
              "      <td>17776.0</td>\n",
              "      <td>852083</td>\n",
              "      <td>0.6592</td>\n",
              "      <td>0</td>\n",
              "      <td>0</td>\n",
              "    </tr>\n",
              "    <tr>\n",
              "      <th>1002</th>\n",
              "      <td>119.70</td>\n",
              "      <td>120.90</td>\n",
              "      <td>123.80</td>\n",
              "      <td>117.70</td>\n",
              "      <td>122.60</td>\n",
              "      <td>121.50</td>\n",
              "      <td>120.64</td>\n",
              "      <td>2207343</td>\n",
              "      <td>2.662863e+13</td>\n",
              "      <td>14925.0</td>\n",
              "      <td>1410175</td>\n",
              "      <td>0.6389</td>\n",
              "      <td>0</td>\n",
              "      <td>0</td>\n",
              "    </tr>\n",
              "    <tr>\n",
              "      <th>1003</th>\n",
              "      <td>121.50</td>\n",
              "      <td>123.15</td>\n",
              "      <td>125.20</td>\n",
              "      <td>122.05</td>\n",
              "      <td>124.00</td>\n",
              "      <td>123.65</td>\n",
              "      <td>123.39</td>\n",
              "      <td>738177</td>\n",
              "      <td>9.108214e+12</td>\n",
              "      <td>20340.0</td>\n",
              "      <td>470913</td>\n",
              "      <td>0.6379</td>\n",
              "      <td>0</td>\n",
              "      <td>0</td>\n",
              "    </tr>\n",
              "    <tr>\n",
              "      <th>1004</th>\n",
              "      <td>123.65</td>\n",
              "      <td>123.65</td>\n",
              "      <td>124.90</td>\n",
              "      <td>121.90</td>\n",
              "      <td>123.85</td>\n",
              "      <td>123.95</td>\n",
              "      <td>123.86</td>\n",
              "      <td>1208491</td>\n",
              "      <td>1.496877e+13</td>\n",
              "      <td>9222.0</td>\n",
              "      <td>828671</td>\n",
              "      <td>0.6857</td>\n",
              "      <td>0</td>\n",
              "      <td>0</td>\n",
              "    </tr>\n",
              "  </tbody>\n",
              "</table>\n",
              "</div>\n",
              "      <button class=\"colab-df-convert\" onclick=\"convertToInteractive('df-12251756-ff57-45b9-a9d0-df29cda38ece')\"\n",
              "              title=\"Convert this dataframe to an interactive table.\"\n",
              "              style=\"display:none;\">\n",
              "        \n",
              "  <svg xmlns=\"http://www.w3.org/2000/svg\" height=\"24px\"viewBox=\"0 0 24 24\"\n",
              "       width=\"24px\">\n",
              "    <path d=\"M0 0h24v24H0V0z\" fill=\"none\"/>\n",
              "    <path d=\"M18.56 5.44l.94 2.06.94-2.06 2.06-.94-2.06-.94-.94-2.06-.94 2.06-2.06.94zm-11 1L8.5 8.5l.94-2.06 2.06-.94-2.06-.94L8.5 2.5l-.94 2.06-2.06.94zm10 10l.94 2.06.94-2.06 2.06-.94-2.06-.94-.94-2.06-.94 2.06-2.06.94z\"/><path d=\"M17.41 7.96l-1.37-1.37c-.4-.4-.92-.59-1.43-.59-.52 0-1.04.2-1.43.59L10.3 9.45l-7.72 7.72c-.78.78-.78 2.05 0 2.83L4 21.41c.39.39.9.59 1.41.59.51 0 1.02-.2 1.41-.59l7.78-7.78 2.81-2.81c.8-.78.8-2.07 0-2.86zM5.41 20L4 18.59l7.72-7.72 1.47 1.35L5.41 20z\"/>\n",
              "  </svg>\n",
              "      </button>\n",
              "      \n",
              "  <style>\n",
              "    .colab-df-container {\n",
              "      display:flex;\n",
              "      flex-wrap:wrap;\n",
              "      gap: 12px;\n",
              "    }\n",
              "\n",
              "    .colab-df-convert {\n",
              "      background-color: #E8F0FE;\n",
              "      border: none;\n",
              "      border-radius: 50%;\n",
              "      cursor: pointer;\n",
              "      display: none;\n",
              "      fill: #1967D2;\n",
              "      height: 32px;\n",
              "      padding: 0 0 0 0;\n",
              "      width: 32px;\n",
              "    }\n",
              "\n",
              "    .colab-df-convert:hover {\n",
              "      background-color: #E2EBFA;\n",
              "      box-shadow: 0px 1px 2px rgba(60, 64, 67, 0.3), 0px 1px 3px 1px rgba(60, 64, 67, 0.15);\n",
              "      fill: #174EA6;\n",
              "    }\n",
              "\n",
              "    [theme=dark] .colab-df-convert {\n",
              "      background-color: #3B4455;\n",
              "      fill: #D2E3FC;\n",
              "    }\n",
              "\n",
              "    [theme=dark] .colab-df-convert:hover {\n",
              "      background-color: #434B5C;\n",
              "      box-shadow: 0px 1px 3px 1px rgba(0, 0, 0, 0.15);\n",
              "      filter: drop-shadow(0px 1px 2px rgba(0, 0, 0, 0.3));\n",
              "      fill: #FFFFFF;\n",
              "    }\n",
              "  </style>\n",
              "\n",
              "      <script>\n",
              "        const buttonEl =\n",
              "          document.querySelector('#df-12251756-ff57-45b9-a9d0-df29cda38ece button.colab-df-convert');\n",
              "        buttonEl.style.display =\n",
              "          google.colab.kernel.accessAllowed ? 'block' : 'none';\n",
              "\n",
              "        async function convertToInteractive(key) {\n",
              "          const element = document.querySelector('#df-12251756-ff57-45b9-a9d0-df29cda38ece');\n",
              "          const dataTable =\n",
              "            await google.colab.kernel.invokeFunction('convertToInteractive',\n",
              "                                                     [key], {});\n",
              "          if (!dataTable) return;\n",
              "\n",
              "          const docLinkHtml = 'Like what you see? Visit the ' +\n",
              "            '<a target=\"_blank\" href=https://colab.research.google.com/notebooks/data_table.ipynb>data table notebook</a>'\n",
              "            + ' to learn more about interactive tables.';\n",
              "          element.innerHTML = '';\n",
              "          dataTable['output_type'] = 'display_data';\n",
              "          await google.colab.output.renderOutput(dataTable, element);\n",
              "          const docLink = document.createElement('div');\n",
              "          docLink.innerHTML = docLinkHtml;\n",
              "          element.appendChild(docLink);\n",
              "        }\n",
              "      </script>\n",
              "    </div>\n",
              "  </div>\n",
              "  "
            ]
          },
          "metadata": {},
          "execution_count": 33
        }
      ]
    },
    {
      "cell_type": "code",
      "source": [
        "df.to_csv('new_dataset.csv', index = False)"
      ],
      "metadata": {
        "id": "7VbMmFp5s4tE"
      },
      "execution_count": null,
      "outputs": []
    },
    {
      "cell_type": "markdown",
      "source": [
        "## **PCA ON TRANSFORMED DATASET**"
      ],
      "metadata": {
        "id": "pKRQncKguB7P"
      }
    },
    {
      "cell_type": "code",
      "source": [
        "class PCA:\n",
        "  \"\"\"\n",
        "  1. Normalize\n",
        "  2. Calc Cov Mat\n",
        "  3. Calc Eigen Vec\n",
        "  4. Sort by Eigen Val\n",
        "  5. Choose n\n",
        "  \"\"\"\n",
        "  def __init__(self, n_components):\n",
        "    self.n = n_components\n",
        "\n",
        "  def __normalize(self, df):\n",
        "    new_df = pd.DataFrame()\n",
        "    self.means = []\n",
        "    self.stds = []\n",
        "    for col in df.columns:\n",
        "      vals = np.array(df[col])\n",
        "      mean = np.mean(vals)\n",
        "      std = np.std(vals)\n",
        "      self.means.append(mean)\n",
        "      self.stds.append(std)\n",
        "      new_vals = (vals - mean) / std if std else vals\n",
        "      new_df[col] = new_vals\n",
        "    return new_df\n",
        "\n",
        "  def __calc_cov_mat(self, df):\n",
        "    n, m = df.shape\n",
        "    self.cov_mat = np.zeros((m, m))\n",
        "    for i in range(m):\n",
        "      vals_i = np.array(df[df.columns[i]])\n",
        "      mean_i = np.mean(vals_i)\n",
        "      for j in range(m):\n",
        "        vals_j = np.array(df[df.columns[j]])\n",
        "        mean_j = np.mean(vals_j)\n",
        "        cov_vals = (vals_i - mean_i) * (vals_j - mean_j)\n",
        "        self.cov_mat[i][j] = np.mean(cov_vals)\n",
        "\n",
        "  def __get_eig(self):\n",
        "    eigenvalues, eigenvectors = np.linalg.eig(self.cov_mat)\n",
        "    self.eigenvalues, self.eigenvectors, self.means, self.stds = zip(*reversed(sorted(list(zip(eigenvalues, eigenvectors, self.means, self.stds)))))\n",
        "\n",
        "  def __get_pc_array(self):\n",
        "    self.pc_mat = np.transpose(np.array(self.eigenvectors)[:self.n, :].copy())\n",
        "\n",
        "  def __transform(self, df):\n",
        "    red_df = np.array(np.matmul(df, self.pc_mat))\n",
        "    for i in range(self.n):\n",
        "      red_df[:, i] = (red_df[:, i] * self.stds[i]) + self.means[i]\n",
        "    return red_df\n",
        "\n",
        "  def fit_transform(self, df):\n",
        "    std_df = self.__normalize(df)\n",
        "    self.__calc_cov_mat(std_df)\n",
        "    self.__get_eig()\n",
        "    self.__get_pc_array()\n",
        "    return self.__transform(std_df)"
      ],
      "metadata": {
        "id": "GLHDCQB9s4wq"
      },
      "execution_count": null,
      "outputs": []
    },
    {
      "cell_type": "code",
      "source": [
        "df = pd.read_csv('new_dataset.csv')\n",
        "df.head()"
      ],
      "metadata": {
        "colab": {
          "base_uri": "https://localhost:8080/",
          "height": 206
        },
        "id": "rXr6K_WJs4vA",
        "outputId": "49841c6d-2884-404e-dc74-378f71dfea7e"
      },
      "execution_count": null,
      "outputs": [
        {
          "output_type": "execute_result",
          "data": {
            "text/plain": [
              "   Prev Close    Open    High     Low    Last   Close    VWAP   Volume  \\\n",
              "0      127.05  127.10  129.50  124.40  126.65  126.65  126.97  1062095   \n",
              "1      126.65  124.20  125.75  118.50  120.00  119.70  120.85  1292516   \n",
              "2      119.70  120.90  123.80  117.70  122.60  121.50  120.64  2207343   \n",
              "3      121.50  123.15  125.20  122.05  124.00  123.65  123.39   738177   \n",
              "4      123.65  123.65  124.90  121.90  123.85  123.95  123.86  1208491   \n",
              "\n",
              "       Turnover   Trades  Deliverable Volume  %Deliverble  Symbol  Series  \n",
              "0  1.348560e+13  15134.0              547708       0.5157       0       0  \n",
              "1  1.562068e+13  17776.0              852083       0.6592       0       0  \n",
              "2  2.662863e+13  14925.0             1410175       0.6389       0       0  \n",
              "3  9.108214e+12  20340.0              470913       0.6379       0       0  \n",
              "4  1.496877e+13   9222.0              828671       0.6857       0       0  "
            ],
            "text/html": [
              "\n",
              "  <div id=\"df-9131ca3e-bed3-47cf-9fe2-c6e237f8d8c9\">\n",
              "    <div class=\"colab-df-container\">\n",
              "      <div>\n",
              "<style scoped>\n",
              "    .dataframe tbody tr th:only-of-type {\n",
              "        vertical-align: middle;\n",
              "    }\n",
              "\n",
              "    .dataframe tbody tr th {\n",
              "        vertical-align: top;\n",
              "    }\n",
              "\n",
              "    .dataframe thead th {\n",
              "        text-align: right;\n",
              "    }\n",
              "</style>\n",
              "<table border=\"1\" class=\"dataframe\">\n",
              "  <thead>\n",
              "    <tr style=\"text-align: right;\">\n",
              "      <th></th>\n",
              "      <th>Prev Close</th>\n",
              "      <th>Open</th>\n",
              "      <th>High</th>\n",
              "      <th>Low</th>\n",
              "      <th>Last</th>\n",
              "      <th>Close</th>\n",
              "      <th>VWAP</th>\n",
              "      <th>Volume</th>\n",
              "      <th>Turnover</th>\n",
              "      <th>Trades</th>\n",
              "      <th>Deliverable Volume</th>\n",
              "      <th>%Deliverble</th>\n",
              "      <th>Symbol</th>\n",
              "      <th>Series</th>\n",
              "    </tr>\n",
              "  </thead>\n",
              "  <tbody>\n",
              "    <tr>\n",
              "      <th>0</th>\n",
              "      <td>127.05</td>\n",
              "      <td>127.10</td>\n",
              "      <td>129.50</td>\n",
              "      <td>124.40</td>\n",
              "      <td>126.65</td>\n",
              "      <td>126.65</td>\n",
              "      <td>126.97</td>\n",
              "      <td>1062095</td>\n",
              "      <td>1.348560e+13</td>\n",
              "      <td>15134.0</td>\n",
              "      <td>547708</td>\n",
              "      <td>0.5157</td>\n",
              "      <td>0</td>\n",
              "      <td>0</td>\n",
              "    </tr>\n",
              "    <tr>\n",
              "      <th>1</th>\n",
              "      <td>126.65</td>\n",
              "      <td>124.20</td>\n",
              "      <td>125.75</td>\n",
              "      <td>118.50</td>\n",
              "      <td>120.00</td>\n",
              "      <td>119.70</td>\n",
              "      <td>120.85</td>\n",
              "      <td>1292516</td>\n",
              "      <td>1.562068e+13</td>\n",
              "      <td>17776.0</td>\n",
              "      <td>852083</td>\n",
              "      <td>0.6592</td>\n",
              "      <td>0</td>\n",
              "      <td>0</td>\n",
              "    </tr>\n",
              "    <tr>\n",
              "      <th>2</th>\n",
              "      <td>119.70</td>\n",
              "      <td>120.90</td>\n",
              "      <td>123.80</td>\n",
              "      <td>117.70</td>\n",
              "      <td>122.60</td>\n",
              "      <td>121.50</td>\n",
              "      <td>120.64</td>\n",
              "      <td>2207343</td>\n",
              "      <td>2.662863e+13</td>\n",
              "      <td>14925.0</td>\n",
              "      <td>1410175</td>\n",
              "      <td>0.6389</td>\n",
              "      <td>0</td>\n",
              "      <td>0</td>\n",
              "    </tr>\n",
              "    <tr>\n",
              "      <th>3</th>\n",
              "      <td>121.50</td>\n",
              "      <td>123.15</td>\n",
              "      <td>125.20</td>\n",
              "      <td>122.05</td>\n",
              "      <td>124.00</td>\n",
              "      <td>123.65</td>\n",
              "      <td>123.39</td>\n",
              "      <td>738177</td>\n",
              "      <td>9.108214e+12</td>\n",
              "      <td>20340.0</td>\n",
              "      <td>470913</td>\n",
              "      <td>0.6379</td>\n",
              "      <td>0</td>\n",
              "      <td>0</td>\n",
              "    </tr>\n",
              "    <tr>\n",
              "      <th>4</th>\n",
              "      <td>123.65</td>\n",
              "      <td>123.65</td>\n",
              "      <td>124.90</td>\n",
              "      <td>121.90</td>\n",
              "      <td>123.85</td>\n",
              "      <td>123.95</td>\n",
              "      <td>123.86</td>\n",
              "      <td>1208491</td>\n",
              "      <td>1.496877e+13</td>\n",
              "      <td>9222.0</td>\n",
              "      <td>828671</td>\n",
              "      <td>0.6857</td>\n",
              "      <td>0</td>\n",
              "      <td>0</td>\n",
              "    </tr>\n",
              "  </tbody>\n",
              "</table>\n",
              "</div>\n",
              "      <button class=\"colab-df-convert\" onclick=\"convertToInteractive('df-9131ca3e-bed3-47cf-9fe2-c6e237f8d8c9')\"\n",
              "              title=\"Convert this dataframe to an interactive table.\"\n",
              "              style=\"display:none;\">\n",
              "        \n",
              "  <svg xmlns=\"http://www.w3.org/2000/svg\" height=\"24px\"viewBox=\"0 0 24 24\"\n",
              "       width=\"24px\">\n",
              "    <path d=\"M0 0h24v24H0V0z\" fill=\"none\"/>\n",
              "    <path d=\"M18.56 5.44l.94 2.06.94-2.06 2.06-.94-2.06-.94-.94-2.06-.94 2.06-2.06.94zm-11 1L8.5 8.5l.94-2.06 2.06-.94-2.06-.94L8.5 2.5l-.94 2.06-2.06.94zm10 10l.94 2.06.94-2.06 2.06-.94-2.06-.94-.94-2.06-.94 2.06-2.06.94z\"/><path d=\"M17.41 7.96l-1.37-1.37c-.4-.4-.92-.59-1.43-.59-.52 0-1.04.2-1.43.59L10.3 9.45l-7.72 7.72c-.78.78-.78 2.05 0 2.83L4 21.41c.39.39.9.59 1.41.59.51 0 1.02-.2 1.41-.59l7.78-7.78 2.81-2.81c.8-.78.8-2.07 0-2.86zM5.41 20L4 18.59l7.72-7.72 1.47 1.35L5.41 20z\"/>\n",
              "  </svg>\n",
              "      </button>\n",
              "      \n",
              "  <style>\n",
              "    .colab-df-container {\n",
              "      display:flex;\n",
              "      flex-wrap:wrap;\n",
              "      gap: 12px;\n",
              "    }\n",
              "\n",
              "    .colab-df-convert {\n",
              "      background-color: #E8F0FE;\n",
              "      border: none;\n",
              "      border-radius: 50%;\n",
              "      cursor: pointer;\n",
              "      display: none;\n",
              "      fill: #1967D2;\n",
              "      height: 32px;\n",
              "      padding: 0 0 0 0;\n",
              "      width: 32px;\n",
              "    }\n",
              "\n",
              "    .colab-df-convert:hover {\n",
              "      background-color: #E2EBFA;\n",
              "      box-shadow: 0px 1px 2px rgba(60, 64, 67, 0.3), 0px 1px 3px 1px rgba(60, 64, 67, 0.15);\n",
              "      fill: #174EA6;\n",
              "    }\n",
              "\n",
              "    [theme=dark] .colab-df-convert {\n",
              "      background-color: #3B4455;\n",
              "      fill: #D2E3FC;\n",
              "    }\n",
              "\n",
              "    [theme=dark] .colab-df-convert:hover {\n",
              "      background-color: #434B5C;\n",
              "      box-shadow: 0px 1px 3px 1px rgba(0, 0, 0, 0.15);\n",
              "      filter: drop-shadow(0px 1px 2px rgba(0, 0, 0, 0.3));\n",
              "      fill: #FFFFFF;\n",
              "    }\n",
              "  </style>\n",
              "\n",
              "      <script>\n",
              "        const buttonEl =\n",
              "          document.querySelector('#df-9131ca3e-bed3-47cf-9fe2-c6e237f8d8c9 button.colab-df-convert');\n",
              "        buttonEl.style.display =\n",
              "          google.colab.kernel.accessAllowed ? 'block' : 'none';\n",
              "\n",
              "        async function convertToInteractive(key) {\n",
              "          const element = document.querySelector('#df-9131ca3e-bed3-47cf-9fe2-c6e237f8d8c9');\n",
              "          const dataTable =\n",
              "            await google.colab.kernel.invokeFunction('convertToInteractive',\n",
              "                                                     [key], {});\n",
              "          if (!dataTable) return;\n",
              "\n",
              "          const docLinkHtml = 'Like what you see? Visit the ' +\n",
              "            '<a target=\"_blank\" href=https://colab.research.google.com/notebooks/data_table.ipynb>data table notebook</a>'\n",
              "            + ' to learn more about interactive tables.';\n",
              "          element.innerHTML = '';\n",
              "          dataTable['output_type'] = 'display_data';\n",
              "          await google.colab.output.renderOutput(dataTable, element);\n",
              "          const docLink = document.createElement('div');\n",
              "          docLink.innerHTML = docLinkHtml;\n",
              "          element.appendChild(docLink);\n",
              "        }\n",
              "      </script>\n",
              "    </div>\n",
              "  </div>\n",
              "  "
            ]
          },
          "metadata": {},
          "execution_count": 141
        }
      ]
    },
    {
      "cell_type": "code",
      "source": [
        "pca = PCA(n_components=2)"
      ],
      "metadata": {
        "id": "IouQjwUDs4z8"
      },
      "execution_count": null,
      "outputs": []
    },
    {
      "cell_type": "code",
      "source": [
        "red_data = pca.fit_transform(df)"
      ],
      "metadata": {
        "id": "QsyXkbbVvmIL"
      },
      "execution_count": null,
      "outputs": []
    },
    {
      "cell_type": "code",
      "source": [
        "red_df = pd.DataFrame(red_data, columns = ['PC1', 'PC2'])"
      ],
      "metadata": {
        "id": "wQZLPWVD0AaL"
      },
      "execution_count": null,
      "outputs": []
    },
    {
      "cell_type": "code",
      "source": [
        "red_df.head()"
      ],
      "metadata": {
        "colab": {
          "base_uri": "https://localhost:8080/",
          "height": 206
        },
        "id": "j3hM9r5g0AcD",
        "outputId": "71fbd41c-3d1b-43ed-ad97-68cc3c5d4fb2"
      },
      "execution_count": null,
      "outputs": [
        {
          "output_type": "execute_result",
          "data": {
            "text/plain": [
              "          PC1         PC2\n",
              "0  126.638913  126.684509\n",
              "1  122.641513  126.996770\n",
              "2  125.863836  125.482626\n",
              "3  118.068322  126.930007\n",
              "4  129.175693  120.450637"
            ],
            "text/html": [
              "\n",
              "  <div id=\"df-eb38af23-3ff4-441f-8bb9-bfa6721e028d\">\n",
              "    <div class=\"colab-df-container\">\n",
              "      <div>\n",
              "<style scoped>\n",
              "    .dataframe tbody tr th:only-of-type {\n",
              "        vertical-align: middle;\n",
              "    }\n",
              "\n",
              "    .dataframe tbody tr th {\n",
              "        vertical-align: top;\n",
              "    }\n",
              "\n",
              "    .dataframe thead th {\n",
              "        text-align: right;\n",
              "    }\n",
              "</style>\n",
              "<table border=\"1\" class=\"dataframe\">\n",
              "  <thead>\n",
              "    <tr style=\"text-align: right;\">\n",
              "      <th></th>\n",
              "      <th>PC1</th>\n",
              "      <th>PC2</th>\n",
              "    </tr>\n",
              "  </thead>\n",
              "  <tbody>\n",
              "    <tr>\n",
              "      <th>0</th>\n",
              "      <td>126.638913</td>\n",
              "      <td>126.684509</td>\n",
              "    </tr>\n",
              "    <tr>\n",
              "      <th>1</th>\n",
              "      <td>122.641513</td>\n",
              "      <td>126.996770</td>\n",
              "    </tr>\n",
              "    <tr>\n",
              "      <th>2</th>\n",
              "      <td>125.863836</td>\n",
              "      <td>125.482626</td>\n",
              "    </tr>\n",
              "    <tr>\n",
              "      <th>3</th>\n",
              "      <td>118.068322</td>\n",
              "      <td>126.930007</td>\n",
              "    </tr>\n",
              "    <tr>\n",
              "      <th>4</th>\n",
              "      <td>129.175693</td>\n",
              "      <td>120.450637</td>\n",
              "    </tr>\n",
              "  </tbody>\n",
              "</table>\n",
              "</div>\n",
              "      <button class=\"colab-df-convert\" onclick=\"convertToInteractive('df-eb38af23-3ff4-441f-8bb9-bfa6721e028d')\"\n",
              "              title=\"Convert this dataframe to an interactive table.\"\n",
              "              style=\"display:none;\">\n",
              "        \n",
              "  <svg xmlns=\"http://www.w3.org/2000/svg\" height=\"24px\"viewBox=\"0 0 24 24\"\n",
              "       width=\"24px\">\n",
              "    <path d=\"M0 0h24v24H0V0z\" fill=\"none\"/>\n",
              "    <path d=\"M18.56 5.44l.94 2.06.94-2.06 2.06-.94-2.06-.94-.94-2.06-.94 2.06-2.06.94zm-11 1L8.5 8.5l.94-2.06 2.06-.94-2.06-.94L8.5 2.5l-.94 2.06-2.06.94zm10 10l.94 2.06.94-2.06 2.06-.94-2.06-.94-.94-2.06-.94 2.06-2.06.94z\"/><path d=\"M17.41 7.96l-1.37-1.37c-.4-.4-.92-.59-1.43-.59-.52 0-1.04.2-1.43.59L10.3 9.45l-7.72 7.72c-.78.78-.78 2.05 0 2.83L4 21.41c.39.39.9.59 1.41.59.51 0 1.02-.2 1.41-.59l7.78-7.78 2.81-2.81c.8-.78.8-2.07 0-2.86zM5.41 20L4 18.59l7.72-7.72 1.47 1.35L5.41 20z\"/>\n",
              "  </svg>\n",
              "      </button>\n",
              "      \n",
              "  <style>\n",
              "    .colab-df-container {\n",
              "      display:flex;\n",
              "      flex-wrap:wrap;\n",
              "      gap: 12px;\n",
              "    }\n",
              "\n",
              "    .colab-df-convert {\n",
              "      background-color: #E8F0FE;\n",
              "      border: none;\n",
              "      border-radius: 50%;\n",
              "      cursor: pointer;\n",
              "      display: none;\n",
              "      fill: #1967D2;\n",
              "      height: 32px;\n",
              "      padding: 0 0 0 0;\n",
              "      width: 32px;\n",
              "    }\n",
              "\n",
              "    .colab-df-convert:hover {\n",
              "      background-color: #E2EBFA;\n",
              "      box-shadow: 0px 1px 2px rgba(60, 64, 67, 0.3), 0px 1px 3px 1px rgba(60, 64, 67, 0.15);\n",
              "      fill: #174EA6;\n",
              "    }\n",
              "\n",
              "    [theme=dark] .colab-df-convert {\n",
              "      background-color: #3B4455;\n",
              "      fill: #D2E3FC;\n",
              "    }\n",
              "\n",
              "    [theme=dark] .colab-df-convert:hover {\n",
              "      background-color: #434B5C;\n",
              "      box-shadow: 0px 1px 3px 1px rgba(0, 0, 0, 0.15);\n",
              "      filter: drop-shadow(0px 1px 2px rgba(0, 0, 0, 0.3));\n",
              "      fill: #FFFFFF;\n",
              "    }\n",
              "  </style>\n",
              "\n",
              "      <script>\n",
              "        const buttonEl =\n",
              "          document.querySelector('#df-eb38af23-3ff4-441f-8bb9-bfa6721e028d button.colab-df-convert');\n",
              "        buttonEl.style.display =\n",
              "          google.colab.kernel.accessAllowed ? 'block' : 'none';\n",
              "\n",
              "        async function convertToInteractive(key) {\n",
              "          const element = document.querySelector('#df-eb38af23-3ff4-441f-8bb9-bfa6721e028d');\n",
              "          const dataTable =\n",
              "            await google.colab.kernel.invokeFunction('convertToInteractive',\n",
              "                                                     [key], {});\n",
              "          if (!dataTable) return;\n",
              "\n",
              "          const docLinkHtml = 'Like what you see? Visit the ' +\n",
              "            '<a target=\"_blank\" href=https://colab.research.google.com/notebooks/data_table.ipynb>data table notebook</a>'\n",
              "            + ' to learn more about interactive tables.';\n",
              "          element.innerHTML = '';\n",
              "          dataTable['output_type'] = 'display_data';\n",
              "          await google.colab.output.renderOutput(dataTable, element);\n",
              "          const docLink = document.createElement('div');\n",
              "          docLink.innerHTML = docLinkHtml;\n",
              "          element.appendChild(docLink);\n",
              "        }\n",
              "      </script>\n",
              "    </div>\n",
              "  </div>\n",
              "  "
            ]
          },
          "metadata": {},
          "execution_count": 145
        }
      ]
    },
    {
      "cell_type": "code",
      "source": [
        "sns.scatterplot(data = red_df, x = 'PC1', y = 'PC2')"
      ],
      "metadata": {
        "colab": {
          "base_uri": "https://localhost:8080/",
          "height": 299
        },
        "id": "-RIsjG6P0AfF",
        "outputId": "8fbb8a97-f84b-469e-9fd5-6b2a78e6b8f6"
      },
      "execution_count": null,
      "outputs": [
        {
          "output_type": "execute_result",
          "data": {
            "text/plain": [
              "<matplotlib.axes._subplots.AxesSubplot at 0x7f7e926f0710>"
            ]
          },
          "metadata": {},
          "execution_count": 147
        },
        {
          "output_type": "display_data",
          "data": {
            "text/plain": [
              "<Figure size 432x288 with 1 Axes>"
            ],
            "image/png": "[encoded data removed]"
          },
          "metadata": {
            "needs_background": "light"
          }
        }
      ]
    },
    {
      "cell_type": "code",
      "source": [
        ""
      ],
      "metadata": {
        "id": "v6eBiYlf6ep3"
      },
      "execution_count": null,
      "outputs": []
    }
  ]
}