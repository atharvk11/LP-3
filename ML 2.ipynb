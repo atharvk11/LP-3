{
 "cells": [
  {
   "cell_type": "code",
   "execution_count": 1,
   "id": "00afa6e1",
   "metadata": {},
   "outputs": [],
   "source": [
    "import pandas as pd\n",
    "import numpy as np"
   ]
  },
  {
   "cell_type": "code",
   "execution_count": 483,
   "id": "ed9c9e4f",
   "metadata": {},
   "outputs": [],
   "source": [
    "class Node():\n",
    "    def __init__(self,feature_index=None,threshold=None,left=None,right=None,info_gain=None,value=None) :\n",
    "        # for decision node\n",
    "        self.feature_index = feature_index\n",
    "        self.threshold = threshold\n",
    "        self.left = left\n",
    "        self.right = right\n",
    "        self.info_gain = info_gain\n",
    "        \n",
    "        # for leaf node\n",
    "        self.value = value"
   ]
  },
  {
   "cell_type": "code",
   "execution_count": 484,
   "id": "3d901bcf",
   "metadata": {},
   "outputs": [],
   "source": [
    "class DecisionTreeClassifier():\n",
    "    \n",
    "    def __init__(self,min_samples=2,max_depth=3) :\n",
    "        self.root = None\n",
    "        self.min_samples = min_samples\n",
    "        self.max_depth = max_depth\n",
    "        \n",
    "    def build_tree(self,dataset,curr_depth=0):\n",
    "        x, y = dataset[:,:-1], dataset[:,-1]\n",
    "        \n",
    "        num_samples,num_features = np.shape(x)\n",
    "        \n",
    "        if num_samples >= self.min_samples and curr_depth<=self.max_depth :\n",
    "            best_split = self.get_best_split(dataset,num_features)\n",
    "            if best_split[\"info_gain\"]>0:\n",
    "                left_tree = self.build_tree(best_split['dataset_left'],curr_depth+1)\n",
    "                right_tree = self.build_tree(best_split['dataset_right'],curr_depth+1)\n",
    "                return Node(best_split['feature_index'],best_split['threshold'],left_tree,right_tree,best_split['info_gain'])\n",
    "            \n",
    "            \n",
    "        y_list = list(y)\n",
    "        value = max(y_list,key=y_list.count)\n",
    "        return Node(value=value)\n",
    "    \n",
    "    def get_best_split(self,dataset,num_features):\n",
    "        \n",
    "        best_split = {}\n",
    "        max_info_gain = -float('inf')\n",
    "        \n",
    "        for feature_index in range(num_features):\n",
    "            possible_thresholds = np.unique(dataset[:,feature_index])\n",
    "            \n",
    "            for threshold in possible_thresholds:\n",
    "                dataset_left, dataset_right = self.split(dataset,feature_index,threshold)\n",
    "                \n",
    "                if len(dataset_left)>0 and len(dataset_right)>0:\n",
    "                    y,y_left,y_right = dataset[:,-1],dataset_left[:,-1],dataset_right[:,-1]\n",
    "                    \n",
    "                    gain = self.info_gain(y,y_left,y_right)\n",
    "                    \n",
    "                    if gain>max_info_gain :\n",
    "                        best_split['info_gain'] = gain\n",
    "                        best_split['feature_index'] = feature_index\n",
    "                        best_split['dataset_left'] = dataset_left\n",
    "                        best_split['dataset_right'] = dataset_right\n",
    "                        best_split['threshold'] = threshold\n",
    "                        max_infO_gain = gain\n",
    "                        \n",
    "        return best_split\n",
    "                \n",
    "            \n",
    "    def split(self,dataset,feature_index,threshold):\n",
    "        left_dataset = np.array([row for row in dataset if row[feature_index]<=threshold])\n",
    "        right_dataset = np.array([row for row in dataset if row[feature_index]>threshold])\n",
    "        \n",
    "        return left_dataset,right_dataset\n",
    "    \n",
    "    def info_gain(self,parent,y_left,y_right):\n",
    "        left_wt = len(y_left)/len(parent)\n",
    "        right_wt = len(y_right)/len(parent)\n",
    "        \n",
    "        gain = self.entropy(parent) - left_wt*self.entropy(y_left) + right_wt*self.entropy(y_right)\n",
    "        return gain\n",
    "    \n",
    "    def entropy(self,y):\n",
    "        classes = np.unique(y)\n",
    "        ent = 0\n",
    "        for c in classes:\n",
    "            pi = len(y[y==c])/len(y)\n",
    "            ent+= -pi*np.log2(pi)\n",
    "            \n",
    "        return ent\n",
    "            \n",
    "    def fit(self,X,Y):\n",
    "        dataset = np.concatenate((X, Y), axis=1)\n",
    "        self.root = self.build_tree(dataset)\n",
    "        \n",
    "    def predict(self, X):\n",
    "        result = [self.make_prediction(x, self.root) for x in X]\n",
    "        return result\n",
    "    \n",
    "    def make_prediction(self, x, tree):\n",
    "        ''' function to predict a single data point '''\n",
    "        \n",
    "        if tree.value!=None: return tree.value\n",
    "        feature_val = x[tree.feature_index]\n",
    "        if feature_val<=tree.threshold:\n",
    "            return self.make_prediction(x, tree.left)\n",
    "        else:\n",
    "            return self.make_prediction(x, tree.right)\n",
    "        \n",
    "    "
   ]
  },
  {
   "cell_type": "code",
   "execution_count": 466,
   "id": "d1a9b59e",
   "metadata": {},
   "outputs": [],
   "source": [
    "data = [\n",
    "    ['<21', 'High', 'Male', 'Single', 'No'],\n",
    "    ['<21', 'High', 'Male', 'Married', 'No'],\n",
    "    ['21-35', 'High', 'Male', 'Single', 'Yes'],\n",
    "    ['>35', 'Medium', 'Male', 'Single', 'Yes'],\n",
    "    ['>35', 'Low', 'Female', 'Single', 'Yes'],\n",
    "    ['>35', 'Low', 'Female', 'Married', 'No'],\n",
    "    ['21-35', 'Low', 'Female', 'Married', 'Yes'],\n",
    "    ['<21', 'Medium', 'Male', 'Single', 'No'],\n",
    "    ['<21', 'Low', 'Female', 'Married', 'Yes'],\n",
    "    ['>35', 'Medium', 'Female', 'Single', 'Yes'],\n",
    "    ['<21', 'Medium', 'Female', 'Married', 'Yes'],\n",
    "    ['21-35', 'Medium', 'Male', 'Married', 'Yes'],\n",
    "    ['21-35', 'High', 'Female', 'Single', 'Yes'],\n",
    "    ['>35', 'Medium', 'Male', 'Married', 'No']\n",
    "]\n"
   ]
  },
  {
   "cell_type": "code",
   "execution_count": 467,
   "id": "f320b3d5",
   "metadata": {},
   "outputs": [],
   "source": [
    "columns = ['Age', 'Income', 'Gender', 'Marital Status', 'Buys']\n",
    "df = pd.DataFrame(data,columns=columns)\n",
    "# df"
   ]
  },
  {
   "cell_type": "code",
   "execution_count": 468,
   "id": "8507eecf",
   "metadata": {},
   "outputs": [],
   "source": [
    "from sklearn.preprocessing import LabelEncoder\n",
    "le = LabelEncoder()\n",
    "for i in range(5):\n",
    "    df[columns[i]] = le.fit_transform(df[columns[i]])\n",
    "# df"
   ]
  },
  {
   "cell_type": "code",
   "execution_count": 469,
   "id": "26cb34d7",
   "metadata": {},
   "outputs": [],
   "source": [
    "X = df.iloc[:, :-1].values\n",
    "Y = df.iloc[:, -1].values.reshape(-1,1)"
   ]
  },
  {
   "cell_type": "code",
   "execution_count": 470,
   "id": "358732c8",
   "metadata": {},
   "outputs": [],
   "source": [
    "classifier = DecisionTreeClassifier(min_samples=3, max_depth=3)\n",
    "\n",
    "classifier.fit(X,Y)"
   ]
  },
  {
   "cell_type": "code",
   "execution_count": 471,
   "id": "9ba97bcf",
   "metadata": {},
   "outputs": [
    {
     "data": {
      "text/plain": [
       "0.7857142857142857"
      ]
     },
     "execution_count": 471,
     "metadata": {},
     "output_type": "execute_result"
    }
   ],
   "source": [
    "Y_pred = classifier.predict(X) \n",
    "from sklearn.metrics import accuracy_score\n",
    "accuracy_score(Y, Y_pred)"
   ]
  },
  {
   "cell_type": "code",
   "execution_count": 472,
   "id": "f95db3ee",
   "metadata": {},
   "outputs": [
    {
     "data": {
      "text/plain": [
       "[1]"
      ]
     },
     "execution_count": 472,
     "metadata": {},
     "output_type": "execute_result"
    }
   ],
   "source": [
    "x_test = [[1,1,0,0]]\n",
    "classifier.predict(x_test) "
   ]
  },
  {
   "cell_type": "code",
   "execution_count": 479,
   "id": "4a7a7300",
   "metadata": {},
   "outputs": [],
   "source": [
    "class DecisionTreeClassifier():\n",
    "    def __init__(self, min_samples_split=2, max_depth=2):\n",
    "        ''' constructor '''\n",
    "        \n",
    "        # initialize the root of the tree \n",
    "        self.root = None\n",
    "        \n",
    "        # stopping conditions\n",
    "        self.min_samples_split = min_samples_split\n",
    "        self.max_depth = max_depth\n",
    "        \n",
    "    def build_tree(self, dataset, curr_depth=0):\n",
    "        ''' recursive function to build the tree ''' \n",
    "        X, Y = dataset[:,:-1], dataset[:,-1]\n",
    "        num_samples, num_features = np.shape(X)\n",
    "        \n",
    "        # split until stopping conditions are met\n",
    "        if num_samples>=self.min_samples_split and curr_depth<=self.max_depth:\n",
    "            # find the best split\n",
    "            best_split = self.get_best_split(dataset, num_samples, num_features)\n",
    "            # check if information gain is positive\n",
    "            if best_split[\"info_gain\"]>0:\n",
    "                # recur left\n",
    "                left_subtree = self.build_tree(best_split[\"dataset_left\"], curr_depth+1)\n",
    "                # recur right\n",
    "                right_subtree = self.build_tree(best_split[\"dataset_right\"], curr_depth+1)\n",
    "                # return decision node\n",
    "                return Node(best_split[\"feature_index\"], best_split[\"threshold\"], \n",
    "                            left_subtree, right_subtree, best_split[\"info_gain\"])\n",
    "        \n",
    "        # compute leaf node\n",
    "        leaf_value = self.calculate_leaf_value(Y)\n",
    "        # return leaf node\n",
    "        return Node(value=leaf_value)\n",
    "    \n",
    "    def get_best_split(self, dataset, num_samples, num_features):\n",
    "        ''' function to find the best split '''\n",
    "        \n",
    "        # dictionary to store the best split\n",
    "        best_split = {}\n",
    "        max_info_gain = -float(\"inf\")\n",
    "        \n",
    "        # loop over all the features\n",
    "        for feature_index in range(num_features):\n",
    "            feature_values = dataset[:, feature_index]\n",
    "            possible_thresholds = np.unique(feature_values)\n",
    "            # loop over all the feature values present in the data\n",
    "            for threshold in possible_thresholds:\n",
    "                # get current split\n",
    "                dataset_left, dataset_right = self.split(dataset, feature_index, threshold)\n",
    "                # check if childs are not null\n",
    "                if len(dataset_left)>0 and len(dataset_right)>0:\n",
    "                    y, left_y, right_y = dataset[:, -1], dataset_left[:, -1], dataset_right[:, -1]\n",
    "                    # compute information gain\n",
    "                    curr_info_gain = self.information_gain(y, left_y, right_y,)\n",
    "                    # update the best split if needed\n",
    "                    if curr_info_gain>max_info_gain:\n",
    "                        best_split[\"feature_index\"] = feature_index\n",
    "                        best_split[\"threshold\"] = threshold\n",
    "                        best_split[\"dataset_left\"] = dataset_left\n",
    "                        best_split[\"dataset_right\"] = dataset_right\n",
    "                        best_split[\"info_gain\"] = curr_info_gain\n",
    "                        max_info_gain = curr_info_gain\n",
    "                        \n",
    "        # return best split\n",
    "        return best_split\n",
    "    \n",
    "    def split(self, dataset, feature_index, threshold):\n",
    "        ''' function to split the data '''\n",
    "        \n",
    "        dataset_left = np.array([row for row in dataset if row[feature_index]<=threshold])\n",
    "        dataset_right = np.array([row for row in dataset if row[feature_index]>threshold])\n",
    "        return dataset_left, dataset_right\n",
    "    \n",
    "    def information_gain(self, parent, l_child, r_child, mode=\"entropy\"):\n",
    "        ''' function to compute information gain '''\n",
    "        \n",
    "        weight_l = len(l_child) / len(parent)\n",
    "        weight_r = len(r_child) / len(parent)\n",
    "        if mode==\"gini\":\n",
    "            gain = self.gini_index(parent) - (weight_l*self.gini_index(l_child) + weight_r*self.gini_index(r_child))\n",
    "        else:\n",
    "            gain = self.entropy(parent) - (weight_l*self.entropy(l_child) + weight_r*self.entropy(r_child))\n",
    "        return gain\n",
    "    \n",
    "    def entropy(self, y):\n",
    "        ''' function to compute entropy '''\n",
    "        \n",
    "        class_labels = np.unique(y)\n",
    "        entropy = 0\n",
    "        for cls in class_labels:\n",
    "            p_cls = len(y[y == cls]) / len(y)\n",
    "            entropy += -p_cls * np.log2(p_cls)\n",
    "        return entropy\n",
    "    \n",
    "    def gini_index(self, y):\n",
    "        ''' function to compute gini index '''\n",
    "        \n",
    "        class_labels = np.unique(y)\n",
    "        gini = 0\n",
    "        for cls in class_labels:\n",
    "            p_cls = len(y[y == cls]) / len(y)\n",
    "            gini += p_cls**2\n",
    "        return 1 - gini\n",
    "        \n",
    "    def calculate_leaf_value(self, Y):\n",
    "        ''' function to compute leaf node '''\n",
    "        \n",
    "        Y = list(Y)\n",
    "        return max(Y, key=Y.count)\n",
    "    \n",
    "    def fit(self, X, Y):\n",
    "        ''' function to train the tree '''\n",
    "        \n",
    "        dataset = np.concatenate((X, Y), axis=1)\n",
    "        self.root = self.build_tree(dataset)\n",
    "    \n",
    "    def predict(self, X):\n",
    "        ''' function to predict new dataset '''\n",
    "        \n",
    "        preditions = [self.make_prediction(x, self.root) for x in X]\n",
    "        return preditions\n",
    "    \n",
    "    def make_prediction(self, x, tree):\n",
    "        ''' function to predict a single data point '''\n",
    "        \n",
    "        if tree.value!=None: return tree.value\n",
    "        feature_val = x[tree.feature_index]\n",
    "        if feature_val<=tree.threshold:\n",
    "            return self.make_prediction(x, tree.left)\n",
    "        else:\n",
    "            return self.make_prediction(x, tree.right)\n"
   ]
  },
  {
   "cell_type": "code",
   "execution_count": 480,
   "id": "2f008323",
   "metadata": {},
   "outputs": [],
   "source": [
    "X = df.iloc[:, :-1].values\n",
    "Y = df.iloc[:, -1].values.reshape(-1,1)"
   ]
  },
  {
   "cell_type": "code",
   "execution_count": 481,
   "id": "38f46584",
   "metadata": {},
   "outputs": [],
   "source": [
    "classifier = DecisionTreeClassifier(min_samples_split=3, max_depth=3)\n",
    "classifier.fit(X,Y)"
   ]
  },
  {
   "cell_type": "code",
   "execution_count": 482,
   "id": "8918f58a",
   "metadata": {},
   "outputs": [
    {
     "data": {
      "text/plain": [
       "0.9285714285714286"
      ]
     },
     "execution_count": 482,
     "metadata": {},
     "output_type": "execute_result"
    }
   ],
   "source": [
    "Y_pred = classifier.predict(X) \n",
    "from sklearn.metrics import accuracy_score\n",
    "accuracy_score(Y, Y_pred)"
   ]
  },
  {
   "cell_type": "code",
   "execution_count": 449,
   "id": "bb9bf772",
   "metadata": {},
   "outputs": [
    {
     "data": {
      "text/plain": [
       "[1]"
      ]
     },
     "execution_count": 449,
     "metadata": {},
     "output_type": "execute_result"
    }
   ],
   "source": [
    "x_test = [[1,1,0,0]]\n",
    "classifier.predict(x_test) "
   ]
  },
  {
   "cell_type": "code",
   "execution_count": null,
   "id": "317a7095",
   "metadata": {},
   "outputs": [],
   "source": []
  }
 ],
 "metadata": {
  "kernelspec": {
   "display_name": "Python 3",
   "language": "python",
   "name": "python3"
  },
  "language_info": {
   "codemirror_mode": {
    "name": "ipython",
    "version": 3
   },
   "file_extension": ".py",
   "mimetype": "text/x-python",
   "name": "python",
   "nbconvert_exporter": "python",
   "pygments_lexer": "ipython3",
   "version": "3.6.13"
  }
 },
 "nbformat": 4,
 "nbformat_minor": 5
}
