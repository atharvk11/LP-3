{
 "cells": [
  {
   "cell_type": "code",
   "execution_count": 3,
   "id": "1d851974",
   "metadata": {},
   "outputs": [],
   "source": [
    "def diffie_hellman():\n",
    "    p=23\n",
    "    g=9\n",
    "    \n",
    "    a = int(input('Input private key for person 1 :'))\n",
    "    x= pow(g,a,p)\n",
    "    \n",
    "    b = int(input('Input private key for person 2 :'))\n",
    "    y= pow(g,b,p)\n",
    "    \n",
    "    #for cross checking\n",
    "    res1 = pow(y,a,p)\n",
    "    res2 = pow(x,b,p)\n",
    "    \n",
    "    return res1,res2"
   ]
  },
  {
   "cell_type": "code",
   "execution_count": 4,
   "id": "0d655022",
   "metadata": {},
   "outputs": [
    {
     "name": "stdout",
     "output_type": "stream",
     "text": [
      "Input private key for person 1 :5\n",
      "Input private key for person 2 :7\n"
     ]
    },
    {
     "data": {
      "text/plain": [
       "(12, 12)"
      ]
     },
     "execution_count": 4,
     "metadata": {},
     "output_type": "execute_result"
    }
   ],
   "source": [
    "diffie_hellman()"
   ]
  }
 ],
 "metadata": {
  "kernelspec": {
   "display_name": "Python 3",
   "language": "python",
   "name": "python3"
  },
  "language_info": {
   "codemirror_mode": {
    "name": "ipython",
    "version": 3
   },
   "file_extension": ".py",
   "mimetype": "text/x-python",
   "name": "python",
   "nbconvert_exporter": "python",
   "pygments_lexer": "ipython3",
   "version": "3.6.13"
  }
 },
 "nbformat": 4,
 "nbformat_minor": 5
}
