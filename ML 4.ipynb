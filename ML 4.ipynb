{
 "cells": [
  {
   "cell_type": "code",
   "execution_count": 1,
   "id": "c4744655",
   "metadata": {},
   "outputs": [],
   "source": [
    "import matplotlib.pyplot as plt\n",
    "import numpy as np"
   ]
  },
  {
   "cell_type": "code",
   "execution_count": 105,
   "id": "a3f545e4",
   "metadata": {},
   "outputs": [],
   "source": [
    "P1=[0.1,0.6]\n",
    "P2=[0.15,0.71]\n",
    "P3=[0.08,0.9] \n",
    "P4=[0.16, 0.85] \n",
    "P5=[0.2,0.3]\n",
    "P6=[0.25,0.5]\n",
    "P7=[0.24,0.1]\n",
    "P8=[0.3,0.2]\n",
    "K=2\n",
    "\n",
    "points=[P1,P2,P3,P4,P5,P6,P7,P8]"
   ]
  },
  {
   "cell_type": "markdown",
   "id": "560e641e",
   "metadata": {},
   "source": [
    "# Using sklearn"
   ]
  },
  {
   "cell_type": "code",
   "execution_count": 12,
   "id": "34844522",
   "metadata": {},
   "outputs": [
    {
     "data": {
      "image/png": "[encoded data removed]",
      "text/plain": [
       "<Figure size 432x288 with 1 Axes>"
      ]
     },
     "metadata": {
      "needs_background": "light"
     },
     "output_type": "display_data"
    }
   ],
   "source": [
    "from sklearn.cluster import KMeans\n",
    "\n",
    "# Configuration options\n",
    "num_samples_total = 8\n",
    "cluster_centers = [(0.1,0.6), (0.3, 0.2)]\n",
    "num_classes = len(cluster_centers)\n",
    "\n",
    "X = np.array(points)\n",
    "\n",
    "# Fit K-means with Scikit\n",
    "kmeans = KMeans(init='k-means++', n_clusters=num_classes)\n",
    "kmeans.fit(X)\n",
    "\n",
    "# Predict the cluster for all the samples\n",
    "P = kmeans.predict(X)\n",
    "\n",
    "# Generate scatter plot for training data\n",
    "colors = list(map(lambda x: 'blue' if x == 1 else 'red', P))\n",
    "plt.scatter(X[:,0], X[:,1], c=colors, marker=\"o\", picker=True)\n",
    "plt.title('Two clusters of data')\n",
    "plt.show()"
   ]
  },
  {
   "cell_type": "code",
   "execution_count": 13,
   "id": "79b7ec4a",
   "metadata": {},
   "outputs": [
    {
     "data": {
      "text/plain": [
       "array([[0.2475, 0.275 ],\n",
       "       [0.1225, 0.765 ]])"
      ]
     },
     "execution_count": 13,
     "metadata": {},
     "output_type": "execute_result"
    }
   ],
   "source": [
    "kmeans.cluster_centers_"
   ]
  },
  {
   "cell_type": "markdown",
   "id": "86b28728",
   "metadata": {},
   "source": [
    "# From scratch"
   ]
  },
  {
   "cell_type": "code",
   "execution_count": 106,
   "id": "86ce358d",
   "metadata": {},
   "outputs": [],
   "source": [
    "def distance(p1,p2):\n",
    "    distance = 0\n",
    "    for i in range(len(p1)):\n",
    "        distance+=(p1[i]-p2[i])**2\n",
    "        \n",
    "    return np.sqrt(distance)"
   ]
  },
  {
   "cell_type": "code",
   "execution_count": 125,
   "id": "a8b817a3",
   "metadata": {},
   "outputs": [],
   "source": [
    "def cluster(C1,C2):\n",
    "    c1 = C1\n",
    "    c2 = C2\n",
    "    cluster1=list()\n",
    "    cluster2=list()\n",
    "        \n",
    "    for p in points:\n",
    "        d1 = distance(p,C1)\n",
    "        d2 = distance(p,C2)\n",
    "        if d1<d2:\n",
    "            cluster1.append(p)\n",
    "            x,y=0,0\n",
    "            for i in cluster1:\n",
    "                x+=i[0]\n",
    "                y+=i[1]\n",
    "            C1 = [x/len(cluster1),y/len(cluster1)]\n",
    "            \n",
    "        else:\n",
    "            cluster2.append(p)\n",
    "            x,y=0,0\n",
    "            for i in cluster2:\n",
    "                x+=i[0]\n",
    "                y+=i[1]\n",
    "            C2 = [x/len(cluster2),y/len(cluster2)]\n",
    "    \n",
    "    if C1[0]==c1[0] and C1[1]==c1[1] and C2[0]==c2[0] and C2[0]==c2[0]:\n",
    "        print(\"Clusters are:\")\n",
    "        print(cluster1)\n",
    "        print(cluster2)\n",
    "        \n",
    "        if [0.25,0.5] in cluster1:\n",
    "            print(\"P6 belongs to cluster 1\")\n",
    "        elif [0.25,0.5] in cluster2:\n",
    "            print(\"P6 belongs to cluster 2\")\n",
    "            \n",
    "        print(\"Population of cluster around m2:\",len(cluster2))\n",
    "        print(\"Updated value of centroids:\")\n",
    "        print(\"C1:\",C1)\n",
    "        print(\"C2:\",C2)\n",
    "        \n",
    "        P=list()\n",
    "        for i in points:\n",
    "            if i in cluster1:\n",
    "                P.append(0)\n",
    "            else:\n",
    "                P.append(1)\n",
    "\n",
    "        # Generate scatter plot for training data\n",
    "        X = np.array(points)\n",
    "        colors = list(map(lambda x: 'blue' if x == 1 else 'red', P))\n",
    "        plt.scatter(X[:,0], X[:,1], c=colors, marker=\"o\")\n",
    "        plt.plot(C1[0],C1[1],marker=\"o\",color='black')\n",
    "        plt.plot(C2[0],C2[1],marker=\"o\",color='black')\n",
    "        plt.title('Two clusters of data')\n",
    "        plt.show()\n",
    "        \n",
    "        \n",
    "    else:\n",
    "        cluster(C1,C2)\n",
    "                "
   ]
  },
  {
   "cell_type": "code",
   "execution_count": 126,
   "id": "18690d0d",
   "metadata": {},
   "outputs": [
    {
     "name": "stdout",
     "output_type": "stream",
     "text": [
      "Clusters are:\n",
      "[[0.1, 0.6], [0.15, 0.71], [0.08, 0.9], [0.16, 0.85]]\n",
      "[[0.2, 0.3], [0.25, 0.5], [0.24, 0.1], [0.3, 0.2]]\n",
      "P6 belongs to cluster 2\n",
      "Population of cluster around m2: 4\n",
      "Updated value of centroids:\n",
      "C1: [0.1225, 0.765]\n",
      "C2: [0.2475, 0.275]\n"
     ]
    },
    {
     "data": {
      "image/png": "[encoded data removed]",
      "text/plain": [
       "<Figure size 432x288 with 1 Axes>"
      ]
     },
     "metadata": {
      "needs_background": "light"
     },
     "output_type": "display_data"
    }
   ],
   "source": [
    "C1=P1\n",
    "C2=P8\n",
    "cluster(C1,C2)"
   ]
  },
  {
   "cell_type": "code",
   "execution_count": null,
   "id": "5bf94b5a",
   "metadata": {
    "scrolled": true
   },
   "outputs": [],
   "source": []
  },
  {
   "cell_type": "code",
   "execution_count": 90,
   "id": "3f4578a7",
   "metadata": {},
   "outputs": [],
   "source": []
  },
  {
   "cell_type": "code",
   "execution_count": null,
   "id": "d47e3452",
   "metadata": {},
   "outputs": [],
   "source": []
  },
  {
   "cell_type": "code",
   "execution_count": null,
   "id": "36d477a8",
   "metadata": {},
   "outputs": [],
   "source": []
  }
 ],
 "metadata": {
  "kernelspec": {
   "display_name": "Python 3",
   "language": "python",
   "name": "python3"
  },
  "language_info": {
   "codemirror_mode": {
    "name": "ipython",
    "version": 3
   },
   "file_extension": ".py",
   "mimetype": "text/x-python",
   "name": "python",
   "nbconvert_exporter": "python",
   "pygments_lexer": "ipython3",
   "version": "3.6.13"
  }
 },
 "nbformat": 4,
 "nbformat_minor": 5
}
