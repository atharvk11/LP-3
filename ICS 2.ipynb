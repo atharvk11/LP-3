{
 "cells": [
  {
   "cell_type": "code",
   "execution_count": 33,
   "id": "13f44e0d",
   "metadata": {},
   "outputs": [],
   "source": [
    "import math\n",
    "import random"
   ]
  },
  {
   "cell_type": "code",
   "execution_count": 35,
   "id": "a774e25d",
   "metadata": {},
   "outputs": [],
   "source": [
    "def get_point_on_the_curve (a,b) :\n",
    "    \n",
    "    #delta function\n",
    "    if (4*(a**3)+27*(b**2)) !=0:\n",
    "        x=1\n",
    "        while True:\n",
    "            lhs = x**3 + a*x+b\n",
    "            y = math.sqrt(lhs)\n",
    "            \n",
    "            if math.floor(y)==y :\n",
    "                #y is integer\n",
    "                return [x,math.floor(y)]\n",
    "            \n",
    "            x+=1\n",
    "            \n",
    "    else:\n",
    "        print('Entered curve is not elliptical')"
   ]
  },
  {
   "cell_type": "code",
   "execution_count": 36,
   "id": "4f6de5d7",
   "metadata": {},
   "outputs": [],
   "source": [
    "def ECC(a,b):\n",
    "    \n",
    "    p = get_point_on_the_curve (a,b)\n",
    "    \n",
    "    d = int(input('Enter private key :'))\n",
    "    \n",
    "    #public key\n",
    "    Q = [d*p[0],d*p[1]]\n",
    "    \n",
    "    m = int(input('Enter message :'))\n",
    "    \n",
    "    \n",
    "    k = random.randrange(2,20)\n",
    "    \n",
    "    # c1=k*p\n",
    "    c1 = k*(p[0]+p[1])\n",
    "    \n",
    "    # c2 = m+k*Q\n",
    "    c2 = m + k*(Q[0] + Q[1])\n",
    "    \n",
    "    print('Encrypted text :',[c1,c2])\n",
    "    \n",
    "    \n",
    "    decrypted_text = c2 - c1*d\n",
    "    \n",
    "    print('Decrypted text :',decrypted_text)\n",
    "    \n",
    "    "
   ]
  },
  {
   "cell_type": "code",
   "execution_count": 37,
   "id": "fa8ba1e3",
   "metadata": {},
   "outputs": [
    {
     "name": "stdout",
     "output_type": "stream",
     "text": [
      "Enter a :3\n",
      "Enter b :4\n",
      "Enter private key :15\n",
      "Enter message :10015\n",
      "Encrypted text : [170, 12565]\n",
      "Decrypted text : 10015\n"
     ]
    }
   ],
   "source": [
    "a = int(input('Enter a :'))\n",
    "\n",
    "b = int(input('Enter b :'))\n",
    "\n",
    "ECC(a,b)\n"
   ]
  },
  {
   "cell_type": "code",
   "execution_count": null,
   "id": "a309863e",
   "metadata": {},
   "outputs": [],
   "source": []
  }
 ],
 "metadata": {
  "kernelspec": {
   "display_name": "Python 3",
   "language": "python",
   "name": "python3"
  },
  "language_info": {
   "codemirror_mode": {
    "name": "ipython",
    "version": 3
   },
   "file_extension": ".py",
   "mimetype": "text/x-python",
   "name": "python",
   "nbconvert_exporter": "python",
   "pygments_lexer": "ipython3",
   "version": "3.6.13"
  }
 },
 "nbformat": 4,
 "nbformat_minor": 5
}
