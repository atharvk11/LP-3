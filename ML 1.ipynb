{
 "cells": [
  {
   "cell_type": "code",
   "execution_count": 4,
   "id": "3381897b",
   "metadata": {},
   "outputs": [],
   "source": [
    "import numpy as np\n",
    "import matplotlib.pyplot as plt"
   ]
  },
  {
   "cell_type": "code",
   "execution_count": 2,
   "id": "776f28ad",
   "metadata": {},
   "outputs": [],
   "source": [
    "x = np.array([10, 9, 2, 15, 10, 16, 11, 16])\n",
    "y = np.array([95, 80, 10, 50, 45, 98, 38, 93])"
   ]
  },
  {
   "cell_type": "code",
   "execution_count": 3,
   "id": "d72928d4",
   "metadata": {},
   "outputs": [
    {
     "data": {
      "text/plain": [
       "(11.125, 63.625)"
      ]
     },
     "execution_count": 3,
     "metadata": {},
     "output_type": "execute_result"
    }
   ],
   "source": [
    "mean_x = np.mean(x)\n",
    "mean_y = np.mean(y)\n",
    "mean_x,mean_y"
   ]
  },
  {
   "cell_type": "code",
   "execution_count": 6,
   "id": "fbf026e5",
   "metadata": {},
   "outputs": [
    {
     "data": {
      "text/plain": [
       "<matplotlib.collections.PathCollection at 0x177dedfa978>"
      ]
     },
     "execution_count": 6,
     "metadata": {},
     "output_type": "execute_result"
    },
    {
     "data": {
      "image/png": "[encoded data removed]",
      "text/plain": [
       "<Figure size 432x288 with 1 Axes>"
      ]
     },
     "metadata": {
      "needs_background": "light"
     },
     "output_type": "display_data"
    }
   ],
   "source": [
    "plt.xlabel('No of hours')\n",
    "plt.ylabel('Risk')\n",
    "plt.scatter(x,y,color='Red',marker='+')"
   ]
  },
  {
   "cell_type": "code",
   "execution_count": 13,
   "id": "3031a6b3",
   "metadata": {},
   "outputs": [],
   "source": [
    "def getCoefs(x,y):\n",
    "    b1=0\n",
    "    num=0\n",
    "    dem=0\n",
    "    for i in range(len(x)):\n",
    "        num+= (x[i]-mean_x)*(y[i]-mean_y)\n",
    "        dem+= (x[i]-mean_x)**2\n",
    "    \n",
    "    b1 = num/dem   #slope\n",
    "    b = mean_y - mean_x*b1 #y-intercept\n",
    "    \n",
    "    return (b,b1)"
   ]
  },
  {
   "cell_type": "code",
   "execution_count": 22,
   "id": "7cac12e0",
   "metadata": {},
   "outputs": [
    {
     "name": "stdout",
     "output_type": "stream",
     "text": [
      "Line equation : \n",
      "\n",
      "y = 4.59 x + 12.58\n"
     ]
    }
   ],
   "source": [
    "cfs = getCoefs(x,y)\n",
    "cfs\n",
    "\n",
    "print('Line equation : \\n')\n",
    "print('y = {:.2f} x + {:.2f}'.format(cfs[1],cfs[0]))"
   ]
  },
  {
   "cell_type": "code",
   "execution_count": 25,
   "id": "847647d2",
   "metadata": {},
   "outputs": [
    {
     "data": {
      "text/plain": [
       "[<matplotlib.lines.Line2D at 0x177e047e128>]"
      ]
     },
     "execution_count": 25,
     "metadata": {},
     "output_type": "execute_result"
    },
    {
     "data": {
      "image/png": "[encoded data removed]",
      "text/plain": [
       "<Figure size 432x288 with 1 Axes>"
      ]
     },
     "metadata": {
      "needs_background": "light"
     },
     "output_type": "display_data"
    }
   ],
   "source": [
    "plt.xlabel('No of hours')\n",
    "plt.ylabel('Risk')\n",
    "plt.scatter(x,y,color='Red',marker='+')\n",
    "plt.plot(x,cfs[1]*x+cfs[0],color='blue')"
   ]
  },
  {
   "cell_type": "code",
   "execution_count": null,
   "id": "2422a1d5",
   "metadata": {},
   "outputs": [],
   "source": []
  }
 ],
 "metadata": {
  "kernelspec": {
   "display_name": "Python 3",
   "language": "python",
   "name": "python3"
  },
  "language_info": {
   "codemirror_mode": {
    "name": "ipython",
    "version": 3
   },
   "file_extension": ".py",
   "mimetype": "text/x-python",
   "name": "python",
   "nbconvert_exporter": "python",
   "pygments_lexer": "ipython3",
   "version": "3.6.13"
  }
 },
 "nbformat": 4,
 "nbformat_minor": 5
}
